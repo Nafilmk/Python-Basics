{
  "nbformat": 4,
  "nbformat_minor": 0,
  "metadata": {
    "colab": {
      "provenance": []
    },
    "kernelspec": {
      "name": "python3",
      "display_name": "Python 3"
    },
    "language_info": {
      "name": "python"
    }
  },
  "cells": [
    {
      "cell_type": "markdown",
      "source": [
        "Display each character from a string and if a character is number then stop the loop."
      ],
      "metadata": {
        "id": "6-HBWTGSDONV"
      }
    },
    {
      "cell_type": "code",
      "execution_count": null,
      "metadata": {
        "colab": {
          "base_uri": "https://localhost:8080/"
        },
        "id": "l99YdpfUDLVL",
        "outputId": "080c7ce1-fd98-4460-f68b-433bf5e21d39"
      },
      "outputs": [
        {
          "output_type": "stream",
          "name": "stdout",
          "text": [
            "enter a string :nafi12lmk\n",
            "nafi"
          ]
        }
      ],
      "source": [
        "name=input(\"enter a string :\")\n",
        "for i in name:\n",
        "  if i.isnumeric():\n",
        "    break\n",
        "  else:\n",
        "    print(i,end=\"\")\n"
      ]
    },
    {
      "cell_type": "markdown",
      "source": [
        "print the first 10 numbers on each line 5 times"
      ],
      "metadata": {
        "id": "94fBhoyHEQ_p"
      }
    },
    {
      "cell_type": "code",
      "source": [
        "for i in range(1,6):\n",
        "  for i in range(1,11):\n",
        "    print(i,end=\"\")\n",
        "  print(\"\\n\")"
      ],
      "metadata": {
        "colab": {
          "base_uri": "https://localhost:8080/"
        },
        "id": "vB4zL-BBELIF",
        "outputId": "9b530ba9-e87f-4495-ff14-dd87bb537415"
      },
      "execution_count": null,
      "outputs": [
        {
          "output_type": "stream",
          "name": "stdout",
          "text": [
            "12345678910\n",
            "\n",
            "12345678910\n",
            "\n",
            "12345678910\n",
            "\n",
            "12345678910\n",
            "\n",
            "12345678910\n",
            "\n"
          ]
        }
      ]
    },
    {
      "cell_type": "markdown",
      "source": [
        "Reverse a for loop to display numbers from 10 to 1\n",
        "\n",
        "---\n",
        "\n"
      ],
      "metadata": {
        "id": "iWiixmC1FO4O"
      }
    },
    {
      "cell_type": "code",
      "source": [
        "for i in range(10, 0, -1):\n",
        "    print(i)"
      ],
      "metadata": {
        "colab": {
          "base_uri": "https://localhost:8080/"
        },
        "id": "HVLKUZGEERzj",
        "outputId": "d533b469-834a-4613-ac83-56f74fa07457"
      },
      "execution_count": null,
      "outputs": [
        {
          "output_type": "stream",
          "name": "stdout",
          "text": [
            "10\n",
            "9\n",
            "8\n",
            "7\n",
            "6\n",
            "5\n",
            "4\n",
            "3\n",
            "2\n",
            "1\n"
          ]
        }
      ]
    },
    {
      "cell_type": "markdown",
      "source": [
        " Program to add natural numbers up to sum = 1+2+3+...+n"
      ],
      "metadata": {
        "id": "1ARr4Dmpfi2m"
      }
    },
    {
      "cell_type": "code",
      "source": [
        "a=int(input(\"enter a number :\"))\n",
        "sum=0\n",
        "for i in range(1,a+1):\n",
        "  sum=sum+i\n",
        "print(sum)"
      ],
      "metadata": {
        "id": "F0hg6iiHFQQ5",
        "colab": {
          "base_uri": "https://localhost:8080/"
        },
        "outputId": "72e234d5-5ca1-4cfd-849f-8cb6e7d3802c"
      },
      "execution_count": null,
      "outputs": [
        {
          "output_type": "stream",
          "name": "stdout",
          "text": [
            "enter a number :5\n",
            "15\n"
          ]
        }
      ]
    },
    {
      "cell_type": "markdown",
      "source": [
        "multiplication table"
      ],
      "metadata": {
        "id": "ENFj3BH_P8gU"
      }
    },
    {
      "cell_type": "code",
      "source": [
        "mit=5\n",
        "for i in range(1,11):\n",
        "  print(mit,\"x\",i,\"=\",mit*i)"
      ],
      "metadata": {
        "colab": {
          "base_uri": "https://localhost:8080/"
        },
        "id": "Ouq-Z7HN1rKg",
        "outputId": "95e34da6-8fd8-4761-8065-195285e9735b"
      },
      "execution_count": null,
      "outputs": [
        {
          "output_type": "stream",
          "name": "stdout",
          "text": [
            "5 x 1 = 5\n",
            "5 x 2 = 10\n",
            "5 x 3 = 15\n",
            "5 x 4 = 20\n",
            "5 x 5 = 25\n",
            "5 x 6 = 30\n",
            "5 x 7 = 35\n",
            "5 x 8 = 40\n",
            "5 x 9 = 45\n",
            "5 x 10 = 50\n"
          ]
        }
      ]
    },
    {
      "cell_type": "markdown",
      "source": [
        "prime numbers"
      ],
      "metadata": {
        "id": "Eyee4mGwObxV"
      }
    },
    {
      "cell_type": "code",
      "source": [
        "def isPrime(n):\n",
        "  if(n==1 or n==0):\n",
        "    return False\n",
        "  for i in range(2,(n//2)+1):\n",
        "    if(n%i==0):\n",
        "        return False\n",
        "  return True\n",
        "b=int(input(\"enter a minimum value :\"))\n",
        "N=int(input(\"enter a maximum value :\"))\n",
        "for i in range(b,N+1):\n",
        "  if(isPrime(i)):\n",
        "    print(i,end=\" \")"
      ],
      "metadata": {
        "colab": {
          "base_uri": "https://localhost:8080/"
        },
        "id": "A6-6RYsJI00L",
        "outputId": "dee00ca0-7533-4a19-b46a-7c8c67222941"
      },
      "execution_count": null,
      "outputs": [
        {
          "output_type": "stream",
          "name": "stdout",
          "text": [
            "enter a minimum value :17\n",
            "enter a maximum value :53\n",
            "17 19 23 29 31 37 41 43 47 53 "
          ]
        }
      ]
    },
    {
      "cell_type": "code",
      "source": [],
      "metadata": {
        "id": "BpyzCV3HN3Fh"
      },
      "execution_count": null,
      "outputs": []
    }
  ]
}