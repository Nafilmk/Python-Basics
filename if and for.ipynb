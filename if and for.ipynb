{
 "cells": [
  {
   "cell_type": "code",
   "execution_count": 1,
   "id": "50675ff9",
   "metadata": {},
   "outputs": [
    {
     "name": "stdout",
     "output_type": "stream",
     "text": [
      "a<b\n"
     ]
    }
   ],
   "source": [
    "a=10\n",
    "b=20\n",
    "if(a>b):\n",
    "    print(\"a>b\")\n",
    "else :\n",
    "    print(\"a<b\")"
   ]
  },
  {
   "cell_type": "code",
   "execution_count": 2,
   "id": "fd2fb8c8",
   "metadata": {},
   "outputs": [
    {
     "name": "stdout",
     "output_type": "stream",
     "text": [
      "a>b\n"
     ]
    }
   ],
   "source": [
    "a=100\n",
    "b=20\n",
    "if(a>b):\n",
    "    print(\"a>b\")\n",
    "else :\n",
    "    print(\"a<b\")"
   ]
  },
  {
   "cell_type": "code",
   "execution_count": 4,
   "id": "49696096",
   "metadata": {},
   "outputs": [
    {
     "name": "stdout",
     "output_type": "stream",
     "text": [
      "25\n",
      "odd\n"
     ]
    }
   ],
   "source": [
    "a=int(input())\n",
    "if (a/2==0):\n",
    "    print(\"even\")\n",
    "else:\n",
    "    print(\"odd\")"
   ]
  },
  {
   "cell_type": "code",
   "execution_count": 4,
   "id": "cb1d5e18",
   "metadata": {},
   "outputs": [
    {
     "name": "stdout",
     "output_type": "stream",
     "text": [
      "enter your amout :2600\n",
      "actual bill : 2600\n",
      "your discout amount of :  130.0\n",
      "your payable amount    : 2470.0\n"
     ]
    }
   ],
   "source": [
    "a=int(input(\"enter your amout :\"))\n",
    "if (a>2500):\n",
    "    x=5/100*a\n",
    "    y=a-5/100*a\n",
    "    print(\"actual bill :\",a)\n",
    "    print(\"your discout amount of : \",x)\n",
    "    print(\"your payable amount    :\",y)\n",
    "else:\n",
    "    print(\"you have must pay this amount\")\n"
   ]
  },
  {
   "cell_type": "code",
   "execution_count": 48,
   "id": "8dbb22fc",
   "metadata": {},
   "outputs": [
    {
     "name": "stdout",
     "output_type": "stream",
     "text": [
      "90\n",
      "98\n",
      "78\n",
      "50\n",
      "C\n"
     ]
    }
   ],
   "source": [
    "a=int(input())\n",
    "b=int(input())\n",
    "c=int(input())\n",
    "d=int(input())\n",
    "x=(a+b+c+d)/(4)\n",
    "if (x>=90 and x<=100):\n",
    "    print(\"A\")\n",
    "elif (x>=80 and x<90):\n",
    "    print(\"B\")\n",
    "elif (x>=70 and x<80):\n",
    "    print(\"C\")\n",
    "elif (x>=60 and x<70):\n",
    "    print(\"D\")\n",
    "else:\n",
    "    print(\"E\")\n"
   ]
  },
  {
   "cell_type": "code",
   "execution_count": 54,
   "id": "a425f8a3",
   "metadata": {},
   "outputs": [
    {
     "name": "stdout",
     "output_type": "stream",
     "text": [
      "enter fruite name : pineapple\n",
      "the product does not exist\n"
     ]
    }
   ],
   "source": [
    "a=[\"apple\",\"orange\",\"cherry\",\"pappaya\",\"chiku\",\"banana\",\"grape\"]\n",
    "b=input(\"enter fruite name : \")\n",
    "if b in a:\n",
    "    print(b)\n",
    "else:\n",
    "    print(\"the product does not exist\")"
   ]
  },
  {
   "cell_type": "code",
   "execution_count": 61,
   "id": "bf9cb1ef",
   "metadata": {},
   "outputs": [
    {
     "name": "stdout",
     "output_type": "stream",
     "text": [
      "enter a number : 56\n",
      "positive\n"
     ]
    }
   ],
   "source": [
    "a=int(input(\"enter a number : \"))\n",
    "if a>0:\n",
    "    print(\"positive\")\n",
    "elif a<0:\n",
    "    print(\"negative\")\n",
    "else:\n",
    "    print(\"zero\")"
   ]
  },
  {
   "cell_type": "markdown",
   "id": "d976e9c2",
   "metadata": {},
   "source": [
    "# for loop"
   ]
  },
  {
   "cell_type": "code",
   "execution_count": 64,
   "id": "9748e3f0",
   "metadata": {},
   "outputs": [
    {
     "name": "stdout",
     "output_type": "stream",
     "text": [
      "apple\n",
      "orange\n",
      "cherry\n",
      "pappaya\n",
      "chiku\n",
      "banana\n",
      "grape\n"
     ]
    }
   ],
   "source": [
    "a=[\"apple\",\"orange\",\"cherry\",\"pappaya\",\"chiku\",\"banana\",\"grape\"]\n",
    "for i in a:\n",
    "    print(i)\n"
   ]
  },
  {
   "cell_type": "code",
   "execution_count": 67,
   "id": "377b0f84",
   "metadata": {},
   "outputs": [
    {
     "name": "stdout",
     "output_type": "stream",
     "text": [
      "0\n",
      "1\n",
      "2\n",
      "3\n",
      "4\n",
      "5\n",
      "6\n",
      "7\n",
      "8\n",
      "9\n"
     ]
    }
   ],
   "source": [
    "for i in range(0,10):\n",
    "    print(i)\n"
   ]
  },
  {
   "cell_type": "code",
   "execution_count": 164,
   "id": "cb37234f",
   "metadata": {},
   "outputs": [
    {
     "name": "stdout",
     "output_type": "stream",
     "text": [
      "0\n",
      "2\n",
      "4\n",
      "6\n",
      "8\n"
     ]
    }
   ],
   "source": [
    "for i in range(0,10):\n",
    "    if((i%2)==0):\n",
    "        print(i)"
   ]
  },
  {
   "cell_type": "code",
   "execution_count": 166,
   "id": "941b9089",
   "metadata": {},
   "outputs": [
    {
     "name": "stdout",
     "output_type": "stream",
     "text": [
      "1\n",
      "3\n",
      "5\n",
      "7\n",
      "9\n"
     ]
    }
   ],
   "source": [
    "for i in range(0,10):\n",
    "    if((i%2)!=0):\n",
    "        print(i)"
   ]
  },
  {
   "cell_type": "code",
   "execution_count": 204,
   "id": "2975c7cf",
   "metadata": {},
   "outputs": [
    {
     "name": "stdout",
     "output_type": "stream",
     "text": [
      "enter your first value :5\n",
      "enter your second value :10\n",
      "15120\n"
     ]
    }
   ],
   "source": [
    "a=int(input(\"enter your first value :\"))\n",
    "b=int(input(\"enter your second value :\"))\n",
    "c=1\n",
    "for i in range (a,b):\n",
    "    c=c*i\n",
    "print(c)\n"
   ]
  },
  {
   "cell_type": "code",
   "execution_count": 45,
   "id": "79f43c6e",
   "metadata": {},
   "outputs": [
    {
     "name": "stdout",
     "output_type": "stream",
     "text": [
      "how many terms5\n",
      "0\n",
      "1\n",
      "1\n",
      "2\n",
      "3\n"
     ]
    }
   ],
   "source": [
    "nterms=int(input(\"how many terms\"))\n",
    "n1=0\n",
    "n2=1\n",
    "count=0\n",
    "while count<nterms:\n",
    "    print(n1)\n",
    "    n3=n1+n2\n",
    "    n1=n2\n",
    "    n2=n3\n",
    "    count=count+1\n"
   ]
  },
  {
   "cell_type": "code",
   "execution_count": null,
   "id": "feaa265a",
   "metadata": {},
   "outputs": [],
   "source": [
    "a=int(input(\"enter a number : \"))\n",
    "\n",
    "    "
   ]
  },
  {
   "cell_type": "code",
   "execution_count": null,
   "id": "bce58800",
   "metadata": {},
   "outputs": [],
   "source": []
  }
 ],
 "metadata": {
  "kernelspec": {
   "display_name": "Python 3 (ipykernel)",
   "language": "python",
   "name": "python3"
  },
  "language_info": {
   "codemirror_mode": {
    "name": "ipython",
    "version": 3
   },
   "file_extension": ".py",
   "mimetype": "text/x-python",
   "name": "python",
   "nbconvert_exporter": "python",
   "pygments_lexer": "ipython3",
   "version": "3.9.13"
  }
 },
 "nbformat": 4,
 "nbformat_minor": 5
}
