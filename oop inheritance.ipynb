{
 "cells": [
  {
   "cell_type": "markdown",
   "id": "25e0879a",
   "metadata": {},
   "source": [
    "creat a class fruit with method property().inherit 2 child classes  apple and orange and display their unique feature"
   ]
  },
  {
   "cell_type": "markdown",
   "id": "34a389a6",
   "metadata": {},
   "source": [
    "multilevel"
   ]
  },
  {
   "cell_type": "code",
   "execution_count": 7,
   "id": "a4578e4e",
   "metadata": {},
   "outputs": [
    {
     "name": "stdout",
     "output_type": "stream",
     "text": [
      "fruit:\n",
      "apple is fat-free food\n",
      "Oranges are the largest citrus fruit in the world.\n"
     ]
    }
   ],
   "source": [
    "class fruit:\n",
    "    def property(self):\n",
    "        print(\"fruit:\")\n",
    "class apple(fruit):\n",
    "    def featuree(self):\n",
    "        print(\"apple is fat-free food\")\n",
    "class orange(apple):\n",
    "    def feature(self):\n",
    "        print(\"Oranges are the largest citrus fruit in the world.\")\n",
    "obj=orange()\n",
    "obj.property()\n",
    "obj.featuree()\n",
    "obj.feature()"
   ]
  },
  {
   "cell_type": "markdown",
   "id": "79ff374d",
   "metadata": {},
   "source": [
    "multiple"
   ]
  },
  {
   "cell_type": "code",
   "execution_count": 8,
   "id": "5f4eeea3",
   "metadata": {},
   "outputs": [
    {
     "name": "stdout",
     "output_type": "stream",
     "text": [
      "fruit:\n",
      "apple is fat-free food\n",
      "Oranges are the largest citrus fruit in the world.\n"
     ]
    }
   ],
   "source": [
    "class fruit:\n",
    "    def property(self):\n",
    "        print(\"fruit:\")\n",
    "class apple:\n",
    "    def featuree(self):\n",
    "        print(\"apple is fat-free food\")\n",
    "class orange(fruit,apple):\n",
    "    def feature(self):\n",
    "        print(\"Oranges are the largest citrus fruit in the world.\")\n",
    "obj=orange()\n",
    "obj.property()\n",
    "obj.featuree()\n",
    "obj.feature()"
   ]
  },
  {
   "cell_type": "code",
   "execution_count": null,
   "id": "ddb978a2",
   "metadata": {},
   "outputs": [],
   "source": []
  }
 ],
 "metadata": {
  "kernelspec": {
   "display_name": "Python 3 (ipykernel)",
   "language": "python",
   "name": "python3"
  },
  "language_info": {
   "codemirror_mode": {
    "name": "ipython",
    "version": 3
   },
   "file_extension": ".py",
   "mimetype": "text/x-python",
   "name": "python",
   "nbconvert_exporter": "python",
   "pygments_lexer": "ipython3",
   "version": "3.9.13"
  }
 },
 "nbformat": 4,
 "nbformat_minor": 5
}
