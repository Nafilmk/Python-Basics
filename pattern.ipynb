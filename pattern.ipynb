{
 "cells": [
  {
   "cell_type": "code",
   "execution_count": 1,
   "id": "c42f2de0",
   "metadata": {
    "scrolled": true
   },
   "outputs": [
    {
     "name": "stdout",
     "output_type": "stream",
     "text": [
      "\n",
      "\n",
      " *\n",
      " * *\n",
      " * * *\n",
      " * * * *\n",
      " * * * * *\n",
      " * * * * * *\n",
      " * * * * * * *\n",
      " * * * * * * * *\n",
      " * * * * * * * * *"
     ]
    }
   ],
   "source": [
    "for a in range(0,10):\n",
    "    print()\n",
    "    for j in range(a):\n",
    "        print(end=\" *\")"
   ]
  },
  {
   "cell_type": "code",
   "execution_count": 2,
   "id": "cd279bcc",
   "metadata": {},
   "outputs": [
    {
     "name": "stdout",
     "output_type": "stream",
     "text": [
      "\n",
      " * * * * * * * * * *\n",
      " * * * * * * * * *\n",
      " * * * * * * * *\n",
      " * * * * * * *\n",
      " * * * * * *\n",
      " * * * * *\n",
      " * * * *\n",
      " * * *\n",
      " * *\n",
      " *"
     ]
    }
   ],
   "source": [
    "for a in range(10,0,-1):\n",
    "    print()\n",
    "    for j in range(a):\n",
    "        print(end=\" *\")"
   ]
  },
  {
   "cell_type": "code",
   "execution_count": 3,
   "id": "b2f56a8c",
   "metadata": {
    "scrolled": true
   },
   "outputs": [
    {
     "name": "stdout",
     "output_type": "stream",
     "text": [
      "\n",
      "\n",
      " *\n",
      " * *\n",
      " * * *\n",
      " * * * *\n",
      " * * * * *\n",
      " * * * * * *\n",
      " * * * * * * *\n",
      " * * * * * * * *\n",
      " * * * * * * * * *\n",
      " * * * * * * * * * *\n",
      " * * * * * * * * *\n",
      " * * * * * * * *\n",
      " * * * * * * *\n",
      " * * * * * *\n",
      " * * * * *\n",
      " * * * *\n",
      " * * *\n",
      " * *\n",
      " *"
     ]
    }
   ],
   "source": [
    "for a in range(0,10):\n",
    "    print()\n",
    "    for j in range(a):\n",
    "        print(end=\" *\")\n",
    "for a in range(10,0,-1):\n",
    "    print()\n",
    "    for j in range(a):\n",
    "        print(end=\" *\")"
   ]
  },
  {
   "cell_type": "code",
   "execution_count": 4,
   "id": "c0b14471",
   "metadata": {},
   "outputs": [
    {
     "name": "stdout",
     "output_type": "stream",
     "text": [
      "\n",
      " * * * * * * * * * *\n",
      " * * * * * * * * *\n",
      " * * * * * * * *\n",
      " * * * * * * *\n",
      " * * * * * *\n",
      " * * * * *\n",
      " * * * *\n",
      " * * *\n",
      " * *\n",
      " *\n",
      " *\n",
      " * *\n",
      " * * *\n",
      " * * * *\n",
      " * * * * *\n",
      " * * * * * *\n",
      " * * * * * * *\n",
      " * * * * * * * *\n",
      " * * * * * * * * *\n",
      " * * * * * * * * * *"
     ]
    }
   ],
   "source": [
    "for i in range(10,0,-1):\n",
    "    print()\n",
    "    for j in range(i):\n",
    "        print(end=\" *\")\n",
    "for a in range(0,10):\n",
    "    print()\n",
    "    for b in range(a+1):\n",
    "        print(end=\" *\")"
   ]
  },
  {
   "cell_type": "code",
   "execution_count": 46,
   "id": "6e26222a",
   "metadata": {},
   "outputs": [
    {
     "name": "stdout",
     "output_type": "stream",
     "text": [
      "\n",
      "\n",
      " *\n",
      " * *\n",
      " * * *\n",
      " * * * *\n",
      " * * * * *"
     ]
    }
   ],
   "source": [
    " for a in range(0,6):\n",
    "    print()\n",
    "    for j in range(a):\n",
    "         print(end=\" *\")"
   ]
  },
  {
   "cell_type": "code",
   "execution_count": 6,
   "id": "44863932",
   "metadata": {},
   "outputs": [
    {
     "name": "stdout",
     "output_type": "stream",
     "text": [
      "A \n",
      "B B \n",
      "C C C \n",
      "D D D D \n",
      "E E E E E \n"
     ]
    }
   ],
   "source": [
    "for i in range(65,70):\n",
    "    for j in range(65,i+1):\n",
    "        print(chr(i),end=\" \")\n",
    "    print()"
   ]
  },
  {
   "cell_type": "code",
   "execution_count": 22,
   "id": "ea078316",
   "metadata": {},
   "outputs": [
    {
     "name": "stdout",
     "output_type": "stream",
     "text": [
      "1 \n",
      "1 2 \n",
      "1 2 3 \n",
      "1 2 3 4 \n",
      "1 2 3 4 5 \n"
     ]
    }
   ],
   "source": [
    "for i in range(1,6):\n",
    "    for j in range(1,i+1):\n",
    "        print(j,end=\" \")\n",
    "    print()"
   ]
  },
  {
   "cell_type": "code",
   "execution_count": 53,
   "id": "f8b967e2",
   "metadata": {},
   "outputs": [
    {
     "name": "stdout",
     "output_type": "stream",
     "text": [
      "        *  \n",
      "      * *  \n",
      "    * * *  \n",
      "  * * * *  \n",
      "* * * * *  \n"
     ]
    }
   ],
   "source": [
    "rows = 5\n",
    "k = 2 * rows - 2\n",
    "for i in range(0, rows):\n",
    "    for j in range(0,k):\n",
    "        print(end=\" \")\n",
    "    k = k - 2\n",
    "    for j in range(0, i + 1):\n",
    "        print(\"* \",end=\"\")\n",
    "    print(\" \")"
   ]
  },
  {
   "cell_type": "code",
   "execution_count": 129,
   "id": "7e8c1a5d",
   "metadata": {},
   "outputs": [
    {
     "name": "stdout",
     "output_type": "stream",
     "text": [
      "* * * * * \n",
      "  * * * * \n",
      "    * * * \n",
      "      * * \n",
      "        * \n"
     ]
    }
   ],
   "source": [
    "n=5\n",
    "k = -1\n",
    "for i in range(n-1,-1,-1):\n",
    "    for j in range(k,-1,-1):\n",
    "        print(end=\" \")\n",
    "    k = k + 2\n",
    "    for j in range(0, i + 1):\n",
    "        print(\"* \", end=\"\")\n",
    "    print()"
   ]
  },
  {
   "cell_type": "code",
   "execution_count": 131,
   "id": "2f028b70",
   "metadata": {},
   "outputs": [
    {
     "name": "stdout",
     "output_type": "stream",
     "text": [
      "        * \n",
      "      * * \n",
      "    * * * \n",
      "  * * * * \n",
      "* * * * * \n",
      "  * * * * \n",
      "    * * * \n",
      "      * * \n",
      "        * \n"
     ]
    }
   ],
   "source": [
    "k=8\n",
    "for i in range(0,4):\n",
    "    for j in range(0,k):\n",
    "        print(end=\" \")\n",
    "    k=k-2\n",
    "    for j in range(0,i+1):\n",
    "        print(\"* \",end=\"\")\n",
    "    print()\n",
    "n=5\n",
    "k = -1\n",
    "for i in range(n-1,-1,-1):\n",
    "    for j in range(k,-1,-1):\n",
    "        print(end=\" \")\n",
    "    k = k + 2\n",
    "    for j in range(0, i + 1):\n",
    "        print(\"* \", end=\"\")\n",
    "    print()"
   ]
  },
  {
   "cell_type": "code",
   "execution_count": 163,
   "id": "f3839ed2",
   "metadata": {},
   "outputs": [
    {
     "name": "stdout",
     "output_type": "stream",
     "text": [
      "           * \n",
      "          * * \n",
      "         * * * \n",
      "        * * * * \n",
      "       * * * * * \n",
      "      * * * * * * \n"
     ]
    }
   ],
   "source": [
    "size = 6\n",
    "m = (2 * size) - 1\n",
    "for i in range(0,size):\n",
    "    for j in range(0,m):\n",
    "        print(end=\" \")\n",
    "    m = m - 1\n",
    "    for j in range(0, i + 1):\n",
    "        print(\"* \",end=\"\")\n",
    "    print()"
   ]
  },
  {
   "cell_type": "code",
   "execution_count": 170,
   "id": "c63203b4",
   "metadata": {},
   "outputs": [
    {
     "name": "stdout",
     "output_type": "stream",
     "text": [
      "           * * * * * * \n",
      "            * * * * * \n",
      "             * * * * \n",
      "              * * * \n",
      "               * * \n",
      "                * \n",
      "                 \n"
     ]
    }
   ],
   "source": [
    "size = 6\n",
    "m = (2 * size) - 1\n",
    "for i in range(size, -1, -1):\n",
    "    for j in range(m,0,-1):\n",
    "        print(end=\" \")\n",
    "    m = m + 1\n",
    "    for j in range(0, i):\n",
    "        print(\"* \",end=\"\")\n",
    "    print(\"\")"
   ]
  },
  {
   "cell_type": "code",
   "execution_count": 174,
   "id": "f1083f8a",
   "metadata": {},
   "outputs": [
    {
     "name": "stdout",
     "output_type": "stream",
     "text": [
      "                * \n",
      "               * * \n",
      "              * * * \n",
      "             * * * * \n",
      "            * * * * * \n",
      "           * * * * * * \n",
      "           * * * * * * \n",
      "            * * * * * \n",
      "             * * * * \n",
      "              * * * \n",
      "               * * \n",
      "                * \n",
      "                 \n"
     ]
    }
   ],
   "source": [
    "size = 6\n",
    "m = 16\n",
    "for i in range(0,size):\n",
    "    for j in range(0,m):\n",
    "        print(end=\" \")\n",
    "    m = m - 1\n",
    "    for j in range(0, i + 1):\n",
    "        print(\"* \",end=\"\")\n",
    "    print()\n",
    "size = 6\n",
    "m = (2 * size) - 1\n",
    "for i in range(size, -1, -1):\n",
    "    for j in range(m,0,-1):\n",
    "        print(end=\" \")\n",
    "    m = m + 1\n",
    "    for j in range(0, i):\n",
    "        print(\"* \",end=\"\")\n",
    "    print()"
   ]
  },
  {
   "cell_type": "code",
   "execution_count": 3,
   "id": "289f5bc6",
   "metadata": {},
   "outputs": [
    {
     "name": "stdout",
     "output_type": "stream",
     "text": [
      "           * * * * * * \n",
      "            * * * * * \n",
      "             * * * * \n",
      "              * * * \n",
      "               * * \n",
      "                * \n",
      "                 \n",
      "                * \n",
      "               * * \n",
      "              * * * \n",
      "             * * * * \n",
      "            * * * * * \n",
      "           * * * * * * \n"
     ]
    }
   ],
   "source": [
    "size = 6\n",
    "m = (2 * size) - 1\n",
    "for i in range(size, -1, -1):\n",
    "    for j in range(m,0,-1):\n",
    "        print(end=\" \")\n",
    "    m = m + 1\n",
    "    for j in range(0, i):\n",
    "        print(\"* \",end=\"\")\n",
    "    print()\n",
    "size = 6\n",
    "m = 16\n",
    "for i in range(0,size):\n",
    "    for j in range(0,m):\n",
    "        print(end=\" \")\n",
    "    m = m - 1\n",
    "    for j in range(0, i + 1):\n",
    "        print(\"* \",end=\"\")\n",
    "    print()   "
   ]
  },
  {
   "cell_type": "code",
   "execution_count": 18,
   "id": "d7c1dfcc",
   "metadata": {},
   "outputs": [
    {
     "name": "stdout",
     "output_type": "stream",
     "text": [
      "A \n",
      "B C \n",
      "D E F \n",
      "G H I J \n",
      "K L M N O \n"
     ]
    }
   ],
   "source": [
    "a = 65\n",
    "for i in range(0,5):\n",
    "    for j in range(0,i+1):\n",
    "        char=chr(a)\n",
    "        print(char,end=\" \")\n",
    "        a=a+1\n",
    "    print()"
   ]
  },
  {
   "cell_type": "code",
   "execution_count": 25,
   "id": "c9a82ea2",
   "metadata": {},
   "outputs": [
    {
     "name": "stdout",
     "output_type": "stream",
     "text": [
      "A B C D E \n",
      "F G H I \n",
      "J K L \n",
      "M N \n",
      "O \n"
     ]
    }
   ],
   "source": [
    "a=65\n",
    "for i in range(5,0,-1):\n",
    "    for j in range(0,i):\n",
    "        char=chr(a)\n",
    "        print(char,end=\" \")\n",
    "        a=a+1\n",
    "    print()"
   ]
  },
  {
   "cell_type": "code",
   "execution_count": 20,
   "id": "ccbe859a",
   "metadata": {},
   "outputs": [
    {
     "name": "stdout",
     "output_type": "stream",
     "text": [
      "1 \n",
      "2 3 \n",
      "4 5 6 \n",
      "7 8 9 10 \n",
      "11 12 13 14 15 \n"
     ]
    }
   ],
   "source": [
    "a=1\n",
    "for i in range(0,5):\n",
    "    for j in range(0,i+1):\n",
    "        print(a,end=\" \")\n",
    "        a=a+1\n",
    "    print()"
   ]
  },
  {
   "cell_type": "code",
   "execution_count": 24,
   "id": "33f0ea80",
   "metadata": {},
   "outputs": [
    {
     "name": "stdout",
     "output_type": "stream",
     "text": [
      "1 \n",
      "2 1 \n",
      "3 2 1 \n",
      "4 3 2 1 \n",
      "5 4 3 2 1 \n"
     ]
    }
   ],
   "source": [
    "for i in range(1, 6):\n",
    "    for j in range(i, 0, -1):\n",
    "        print(j, end=' ')\n",
    "    print(\"\")"
   ]
  },
  {
   "cell_type": "code",
   "execution_count": null,
   "id": "a26e144f",
   "metadata": {},
   "outputs": [],
   "source": []
  },
  {
   "cell_type": "code",
   "execution_count": null,
   "id": "85f0572a",
   "metadata": {},
   "outputs": [],
   "source": []
  }
 ],
 "metadata": {
  "kernelspec": {
   "display_name": "Python 3 (ipykernel)",
   "language": "python",
   "name": "python3"
  },
  "language_info": {
   "codemirror_mode": {
    "name": "ipython",
    "version": 3
   },
   "file_extension": ".py",
   "mimetype": "text/x-python",
   "name": "python",
   "nbconvert_exporter": "python",
   "pygments_lexer": "ipython3",
   "version": "3.9.13"
  }
 },
 "nbformat": 4,
 "nbformat_minor": 5
}
