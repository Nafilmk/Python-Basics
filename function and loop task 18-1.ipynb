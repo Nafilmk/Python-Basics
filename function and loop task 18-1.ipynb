{
 "cells": [
  {
   "cell_type": "markdown",
   "id": "820ae077",
   "metadata": {},
   "source": [
    "Program to print multiplication table of a number"
   ]
  },
  {
   "cell_type": "code",
   "execution_count": 1,
   "id": "6d96cc60",
   "metadata": {},
   "outputs": [
    {
     "name": "stdout",
     "output_type": "stream",
     "text": [
      "the multiplication table of: 5\n",
      "5 x 1 = 5\n",
      "5 x 2 = 10\n",
      "5 x 3 = 15\n",
      "5 x 4 = 20\n",
      "5 x 5 = 25\n",
      "5 x 6 = 30\n",
      "5 x 7 = 35\n",
      "5 x 8 = 40\n",
      "5 x 9 = 45\n",
      "5 x 10 = 50\n"
     ]
    }
   ],
   "source": [
    "a=int(input(\"the multiplication table of: \"))\n",
    "for i in range(1,11):\n",
    "    print(a,'x',i,'=',a*i)"
   ]
  },
  {
   "cell_type": "markdown",
   "id": "189f95ec",
   "metadata": {},
   "source": [
    "Program to find power of number without using (**) function"
   ]
  },
  {
   "cell_type": "code",
   "execution_count": 2,
   "id": "1b3a0ba5",
   "metadata": {},
   "outputs": [
    {
     "name": "stdout",
     "output_type": "stream",
     "text": [
      "enter a number : 3\n",
      "power of 3    : 9\n"
     ]
    }
   ],
   "source": [
    "a=int(input(\"enter a number : \"))\n",
    "b=pow(a,2)\n",
    "print(\"power of\",a,\"   :\",(b))"
   ]
  },
  {
   "cell_type": "markdown",
   "id": "dad54978",
   "metadata": {},
   "source": [
    "program to find fibonnaci series upto a limit using function with argument"
   ]
  },
  {
   "cell_type": "code",
   "execution_count": 3,
   "id": "30e7a9f0",
   "metadata": {},
   "outputs": [
    {
     "name": "stdout",
     "output_type": "stream",
     "text": [
      "15\n",
      "0 1 1 2 3 5 8 13 "
     ]
    }
   ],
   "source": [
    "def fibonacci(limit):\n",
    "    a=0\n",
    "    b=1\n",
    "    print(a,end=\" \") \n",
    "    print(b,end=\" \")\n",
    "    for i in range(limit):\n",
    "        c=a+b\n",
    "        if c<=limit:\n",
    "            print(c,end=\" \")\n",
    "        a=b\n",
    "        b=c\n",
    "limit=int(input())\n",
    "fibonacci(limit)"
   ]
  },
  {
   "cell_type": "code",
   "execution_count": null,
   "id": "efe342a0",
   "metadata": {},
   "outputs": [],
   "source": []
  },
  {
   "cell_type": "markdown",
   "id": "eeeb5a1f",
   "metadata": {},
   "source": [
    "program to calculate area of circle using function"
   ]
  },
  {
   "cell_type": "code",
   "execution_count": 4,
   "id": "c5a0f10d",
   "metadata": {},
   "outputs": [
    {
     "name": "stdout",
     "output_type": "stream",
     "text": [
      "radius of circle :5\n",
      "area of circle  : 78.5\n"
     ]
    }
   ],
   "source": [
    "pi=3.14\n",
    "def area_of_circle(radius):\n",
    "    area=radius**2*pi\n",
    "    print(\"area of circle  :\",area)\n",
    "radius=float(input(\"radius of circle :\"))\n",
    "area_of_circle(radius)"
   ]
  },
  {
   "cell_type": "markdown",
   "id": "674a1cfc",
   "metadata": {},
   "source": [
    "program to calculate volume of cube using function"
   ]
  },
  {
   "cell_type": "code",
   "execution_count": 5,
   "id": "a63aa634",
   "metadata": {},
   "outputs": [
    {
     "name": "stdout",
     "output_type": "stream",
     "text": [
      "edge of cube :12\n",
      "volum of cube : 1728.0\n"
     ]
    }
   ],
   "source": [
    "def volume_of_cube(edge):\n",
    "    volum=edge**3\n",
    "    print(\"volum of cube :\",volum)\n",
    "edge=float(input(\"edge of cube :\"))\n",
    "volume_of_cube(edge)\n",
    "    \n",
    "    "
   ]
  },
  {
   "cell_type": "markdown",
   "id": "fe4ebaff",
   "metadata": {},
   "source": [
    "program to find area of rectangle using function"
   ]
  },
  {
   "cell_type": "code",
   "execution_count": 6,
   "id": "15593ee2",
   "metadata": {},
   "outputs": [
    {
     "name": "stdout",
     "output_type": "stream",
     "text": [
      "width of rectangle   : 5\n",
      "length of rectangle  : 8\n",
      "area of rectangle    : 40.0\n"
     ]
    }
   ],
   "source": [
    "def area_of_rectangle(width,length):\n",
    "    area=width*length\n",
    "    print(\"area of rectangle    :\",area)\n",
    "width=float(input(\"width of rectangle   : \"))\n",
    "length=float(input(\"length of rectangle  : \"))\n",
    "area_of_rectangle(width,length)"
   ]
  },
  {
   "cell_type": "markdown",
   "id": "f49ef571",
   "metadata": {},
   "source": [
    "program to find perimeter of square using function"
   ]
  },
  {
   "cell_type": "code",
   "execution_count": 7,
   "id": "67968dd7",
   "metadata": {},
   "outputs": [
    {
     "name": "stdout",
     "output_type": "stream",
     "text": [
      "side of square : 5\n",
      "perimeter of square  :  20.0\n"
     ]
    }
   ],
   "source": [
    "def perimeter_of_square(side):\n",
    "    perimeter= 4*side\n",
    "    print(\"perimeter of square  : \",perimeter)\n",
    "side=float(input(\"side of square : \"))\n",
    "perimeter_of_square(side)\n"
   ]
  },
  {
   "cell_type": "markdown",
   "id": "c7bee67b",
   "metadata": {},
   "source": [
    "Program to print vowels in a string"
   ]
  },
  {
   "cell_type": "code",
   "execution_count": 8,
   "id": "76af16d9",
   "metadata": {},
   "outputs": [
    {
     "name": "stdout",
     "output_type": "stream",
     "text": [
      "enter a string :nafil\n",
      "a i "
     ]
    }
   ],
   "source": [
    "string=input(\"enter a string :\")\n",
    "for i in string:\n",
    "    string=string.lower()\n",
    "    if (i==\"a\" or i==\"e\" or i==\"i\" or i==\"o\" or i==\"u\"):\n",
    "        print(i,end=\" \")\n",
    "    "
   ]
  },
  {
   "cell_type": "code",
   "execution_count": 9,
   "id": "886d7036",
   "metadata": {},
   "outputs": [
    {
     "name": "stdout",
     "output_type": "stream",
     "text": [
      "enter a string :hello\n",
      "e,o,\n",
      "number of vowels : 2\n"
     ]
    }
   ],
   "source": [
    "string=input(\"enter a string :\")\n",
    "vowels=0\n",
    "for i in string:\n",
    "    string=string.lower()\n",
    "    if (i==\"a\" or i==\"e\" or i==\"i\" or i==\"o\" or i==\"u\"):\n",
    "        vowels=vowels+1\n",
    "        print(i,end=\",\")\n",
    "print(end=\"\\n\",)\n",
    "print(\"number of vowels :\",vowels)"
   ]
  },
  {
   "cell_type": "code",
   "execution_count": 10,
   "id": "34ed167c",
   "metadata": {},
   "outputs": [
    {
     "name": "stdout",
     "output_type": "stream",
     "text": [
      "enter a string :hellooo\n",
      "vowels =  ['e', 'o', 'o', 'o']\n",
      "number of vowels : 4\n"
     ]
    }
   ],
   "source": [
    "string=input(\"enter a string :\")\n",
    "def check_vowels(string):\n",
    "    vowels=0\n",
    "    li=[]\n",
    " \n",
    "    for i in string:\n",
    "        string=string.lower()\n",
    "        if (i==\"a\" or i==\"e\" or i==\"i\" or i==\"o\" or i==\"u\"):\n",
    "            vowels=vowels+1\n",
    "            li.append(i)\n",
    "            #print(i)\n",
    "    #print(end=\"\\n\")\n",
    "    print(\"vowels = \",str(li))\n",
    "    print(\"number of vowels :\",vowels)\n",
    "check_vowels(string)"
   ]
  },
  {
   "cell_type": "code",
   "execution_count": 11,
   "id": "93cbfe39",
   "metadata": {},
   "outputs": [
    {
     "name": "stdout",
     "output_type": "stream",
     "text": [
      "vowels =  ['o', 'a', 'e', 'o', 'u']\n",
      "number of vowels : 5\n"
     ]
    }
   ],
   "source": [
    "check_vowels(\"how are you\")"
   ]
  },
  {
   "cell_type": "markdown",
   "id": "c9ccd90c",
   "metadata": {},
   "source": [
    "program to check whether the given string is pallindrome or not"
   ]
  },
  {
   "cell_type": "code",
   "execution_count": 12,
   "id": "9537c7b2",
   "metadata": {},
   "outputs": [
    {
     "name": "stdout",
     "output_type": "stream",
     "text": [
      "enter a string :deed\n",
      "the string is palindrome\n"
     ]
    }
   ],
   "source": [
    "def palindrom(string):\n",
    "    string=string.lower()\n",
    "    if (string==string[::-1]):\n",
    "        print(\"the string is palindrome\")\n",
    "    else:\n",
    "        print(\"the string is not palindrom\")\n",
    "string=input(\"enter a string :\")\n",
    "palindrom(string)"
   ]
  },
  {
   "cell_type": "markdown",
   "id": "0e91557a",
   "metadata": {},
   "source": [
    "Program to check the given number is pallindrome or not"
   ]
  },
  {
   "cell_type": "code",
   "execution_count": 13,
   "id": "0a61d776",
   "metadata": {},
   "outputs": [
    {
     "name": "stdout",
     "output_type": "stream",
     "text": [
      "enter a number :123321\n",
      "the number is palindrom\n"
     ]
    }
   ],
   "source": [
    "def palindrome(number):\n",
    "    if (number==number[::-1]):\n",
    "        print(\"the number is palindrom\")\n",
    "    else:\n",
    "        print(\"the number is not palindrome\")\n",
    "number=(input(\"enter a number :\"))\n",
    "palindrome(number)"
   ]
  },
  {
   "cell_type": "markdown",
   "id": "54db0c33",
   "metadata": {},
   "source": [
    "Find sum of digit of a number (example - 45 = 4+5 =>9)"
   ]
  },
  {
   "cell_type": "code",
   "execution_count": 14,
   "id": "478b1499",
   "metadata": {},
   "outputs": [
    {
     "name": "stdout",
     "output_type": "stream",
     "text": [
      "enter a number :1258\n",
      "sum of value: 16\n"
     ]
    }
   ],
   "source": [
    "a=input(\"enter a number :\")\n",
    "sum=0\n",
    "for i in a:\n",
    "    sum=sum+int(i)\n",
    "print(\"sum of value:\",sum)\n",
    "    "
   ]
  },
  {
   "cell_type": "markdown",
   "id": "68418b9f",
   "metadata": {},
   "source": [
    "find area of triangle"
   ]
  },
  {
   "cell_type": "code",
   "execution_count": 15,
   "id": "c96ad3fc",
   "metadata": {},
   "outputs": [
    {
     "name": "stdout",
     "output_type": "stream",
     "text": [
      "base of trangle   :5\n",
      "height of trangle :8\n",
      "area of triangle  : 20.0\n"
     ]
    }
   ],
   "source": [
    "def area_of_triangle(base,height):\n",
    "    area=(base*height)/2\n",
    "    print(\"area of triangle  :\",area)\n",
    "base=float(input(\"base of trangle   :\"))\n",
    "height=float(input(\"height of trangle :\"))\n",
    "area_of_triangle(base,height)\n"
   ]
  },
  {
   "cell_type": "code",
   "execution_count": 16,
   "id": "9b085ec9",
   "metadata": {},
   "outputs": [
    {
     "name": "stdout",
     "output_type": "stream",
     "text": [
      "enter base :5\n",
      "enter hight :18\n",
      "area of triangle  : 45.0\n"
     ]
    }
   ],
   "source": [
    "area_of_triangle(int(input(\"enter base :\")),int(input(\"enter hight :\")))"
   ]
  },
  {
   "cell_type": "code",
   "execution_count": 17,
   "id": "da12bfdf",
   "metadata": {},
   "outputs": [
    {
     "name": "stdout",
     "output_type": "stream",
     "text": [
      "area of triangle  : 14.0\n"
     ]
    }
   ],
   "source": [
    "area_of_triangle(4,7)"
   ]
  },
  {
   "cell_type": "markdown",
   "id": "8970601b",
   "metadata": {},
   "source": [
    "replace , to -"
   ]
  },
  {
   "cell_type": "code",
   "execution_count": 19,
   "id": "933ec866",
   "metadata": {},
   "outputs": [
    {
     "name": "stdout",
     "output_type": "stream",
     "text": [
      "enter a string :a,b,r,t,y,u\n"
     ]
    },
    {
     "data": {
      "text/plain": [
       "'a-b-r-t-y-u'"
      ]
     },
     "execution_count": 19,
     "metadata": {},
     "output_type": "execute_result"
    }
   ],
   "source": [
    "a=str(input(\"enter a string :\"))\n",
    "a.replace(\",\",\"-\")"
   ]
  },
  {
   "cell_type": "code",
   "execution_count": 21,
   "id": "430f0593",
   "metadata": {},
   "outputs": [
    {
     "name": "stdout",
     "output_type": "stream",
     "text": [
      "enter a string :a,s,d,f,g,g\n",
      "a-s-d-f-g-g\n"
     ]
    }
   ],
   "source": [
    "x=str(input(\"enter a string :\"))\n",
    "for i in x:\n",
    "    i=x.replace(\",\",\"-\")\n",
    "print(i)"
   ]
  },
  {
   "cell_type": "code",
   "execution_count": null,
   "id": "c05ce6fb",
   "metadata": {},
   "outputs": [],
   "source": []
  }
 ],
 "metadata": {
  "kernelspec": {
   "display_name": "Python 3 (ipykernel)",
   "language": "python",
   "name": "python3"
  },
  "language_info": {
   "codemirror_mode": {
    "name": "ipython",
    "version": 3
   },
   "file_extension": ".py",
   "mimetype": "text/x-python",
   "name": "python",
   "nbconvert_exporter": "python",
   "pygments_lexer": "ipython3",
   "version": "3.9.13"
  }
 },
 "nbformat": 4,
 "nbformat_minor": 5
}
