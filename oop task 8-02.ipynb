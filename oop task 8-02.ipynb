{
 "cells": [
  {
   "cell_type": "markdown",
   "id": "022d6f57",
   "metadata": {},
   "source": [
    "1.\tCreate a class named 'Shape' with a method to print \"This is shape\". Then create two other classes named 'Rectangle', 'Circle' inheriting the Shape class, both having a method to print \"This is rectangular shape\" and \"This is circular shape\" respectively. Create a subclass 'Square' of 'Rectangle' having a method to print \"Square is a rectangle\". Now call the method of 'Shape' and 'Rectangle' class by the object of 'Square' class."
   ]
  },
  {
   "cell_type": "code",
   "execution_count": 17,
   "id": "2949080c",
   "metadata": {},
   "outputs": [
    {
     "name": "stdout",
     "output_type": "stream",
     "text": [
      "this is shape\n",
      "Square is a rectangle\n",
      "this is rectangular shape\n"
     ]
    }
   ],
   "source": [
    "class shape:\n",
    "    def __init__(self):\n",
    "        print(\"this is shape\")\n",
    "class rectangle(shape):\n",
    "    def rectangle(self):\n",
    "        print(\"this is rectangular shape\")\n",
    "class circle(shape):\n",
    "    def circle(self):\n",
    "        print(\"this is circular shape\")\n",
    "class square(rectangle):\n",
    "    def square(self):\n",
    "        print(\"Square is a rectangle\")\n",
    "obj=square()\n",
    "obj.square()\n",
    "obj.rectangle()"
   ]
  },
  {
   "cell_type": "markdown",
   "id": "778c4988",
   "metadata": {},
   "source": [
    "2.\tCreate a class circle with method perimeter() and use inheritance to create another class cylinder with method perimeter() from it ."
   ]
  },
  {
   "cell_type": "code",
   "execution_count": 16,
   "id": "14e42dc0",
   "metadata": {},
   "outputs": [
    {
     "name": "stdout",
     "output_type": "stream",
     "text": [
      "Enter radius of cylinder and circe: 10\n",
      "Enter height of cylinder: 20\n",
      "perimeter of circle    : 62.83\n",
      "perimeter of cylinder  : 80\n"
     ]
    }
   ],
   "source": [
    "import math\n",
    "class circle:\n",
    "    def __init__(self,radius):\n",
    "        self.radius=radius\n",
    "    def perimeter(self):\n",
    "        return 2*math.pi*self.radius\n",
    "class cylinder(circle):\n",
    "    def __init__(self,radius,height):\n",
    "        super().__init__(radius)\n",
    "        self.radius=radius\n",
    "        self.height=height\n",
    "    def cydr_perimeter(self):\n",
    "        return (4*self.radius)+(2*self.height)\n",
    "    \n",
    "    \n",
    "radius=int(input(\"Enter radius of cylinder and circe: \"))\n",
    "height=int(input(\"Enter height of cylinder: \"))\n",
    "obj=cylinder(radius,height)\n",
    "print(\"perimeter of circle    :\",round(obj.perimeter(),2))\n",
    "obj.cydr_perimeter()\n",
    "print(\"perimeter of cylinder  :\",round(obj.cydr_perimeter(),2))"
   ]
  },
  {
   "cell_type": "raw",
   "id": "2c1bda1c",
   "metadata": {},
   "source": [
    "4.\tCreate a class MyCalculations with following methods –\n",
    "\tdigits () – To find sum of digits of a number\n",
    "\treverse() –To find reverse of a number and a string\n"
   ]
  },
  {
   "cell_type": "code",
   "execution_count": 48,
   "id": "8acc9e4c",
   "metadata": {},
   "outputs": [
    {
     "name": "stdout",
     "output_type": "stream",
     "text": [
      "enter a digits :12345\n",
      "sum of digit : 15\n",
      "enter reverse value :hello\n",
      "reverse value : olleh\n"
     ]
    }
   ],
   "source": [
    "class mycalculations:\n",
    "    def digits(self,num):\n",
    "        sum = 0\n",
    "        while(num >0):\n",
    "            sum=sum + num % 10\n",
    "            num=int(num/10)\n",
    "        return sum\n",
    "    def reverse(self,x):\n",
    "        if type(x) == int:\n",
    "            rev = 0\n",
    "            while(x > 0):\n",
    "                rem = x % 10\n",
    "                rev = rev * 10 + rem\n",
    "                x = int(x / 10)\n",
    "            return rev\n",
    "        elif type(x) == str:\n",
    "            return x[::-1]\n",
    "obj=MyCalculations()\n",
    "num=int(input(\"enter a digits :\"))\n",
    "print(\"sum of digit :\",obj.digits(num))\n",
    "x=input(\"enter reverse value :\")\n",
    "print(\"reverse value :\",obj.reverse(x))"
   ]
  },
  {
   "cell_type": "raw",
   "id": "e8675a7c",
   "metadata": {},
   "source": [
    "3.\tProgram to print employee information with department and pf information using hierarchical inheritance.\n",
    "\tClass BasicInfo with getBasicInfo () – To read name, empid, gender.\n",
    "\tClass deptInfo with \n",
    "deptInfo() – To read dept_name, assignedwork and     time2complete.\n",
    "printDeptInfo() – Display deptInfo\n",
    "\tClass LoanInfo   with \n",
    "       getLoanInfo() –To read loanDeatails and loanAmount.\n",
    " printLoanInfo() – Display name, empid, gender,loanDeatails and loanAmount\n"
   ]
  },
  {
   "cell_type": "code",
   "execution_count": 61,
   "id": "32260d92",
   "metadata": {},
   "outputs": [
    {
     "name": "stdout",
     "output_type": "stream",
     "text": [
      "enter your name :nafil\n",
      "enter your employee id :nfl1015\n",
      "enter your gender :male\n",
      "enter your department name :data scientist\n",
      "enter your assigned work :analase data\n",
      "Enter the time to complete the work :10/02\n",
      "enter loan details :active\n",
      "enter loan amount :1000\n",
      "Department Info:\n",
      "Department Name : data scientist\n",
      "Assigned Work : analase data\n",
      "Time to Complete : 10/02\n",
      "Loan Info:\n",
      "Name : nafil\n",
      "employee id : nfl1015\n",
      "gender : male\n",
      "Loan Details : active\n",
      "Loan Amount : 1000\n"
     ]
    }
   ],
   "source": [
    "class basicinfo:\n",
    "    def getbasicinfo(self):\n",
    "        self.name=input(\"enter your name :\")\n",
    "        self.empid=input(\"enter your employee id :\")\n",
    "        self.gender=input(\"enter your gender :\")\n",
    "class deptinfo():\n",
    "    def deptinfo(self):\n",
    "        self.dept_name=input(\"enter your department name :\")\n",
    "        self.assignedwork=input(\"enter your assigned work :\")\n",
    "        self.time2complete=input(\"Enter the time to complete the work :\")\n",
    "    def printdeptinformation(self):\n",
    "        print(\"Department Info:\")\n",
    "        print(\"Department Name :\",self.dept_name)\n",
    "        print(\"Assigned Work :\",self.assignedwork)\n",
    "        print(\"Time to Complete :\",self.time2complete)\n",
    "class loaninfo(basicinfo,deptinfo):\n",
    "    def getloaninfo(self):\n",
    "        self.loandetails=input(\"enter loan details :\")\n",
    "        self.loanamount=input(\"enter loan amount :\")\n",
    "    def printgetloaninfo(self):\n",
    "        print(\"Loan Info:\")\n",
    "        print(\"Name :\",self.name)\n",
    "        print(\"employee id :\",self.empid)\n",
    "        print(\"gender :\",self.gender)\n",
    "        print(\"Loan Details :\",self.loandetails)\n",
    "        print(\"Loan Amount :\",self.loanamount)\n",
    "obj=loaninfo()\n",
    "obj.getbasicinfo()\n",
    "obj.deptinfo()\n",
    "obj.getloaninfo()\n",
    "obj.printdeptinformation()\n",
    "obj.printgetloaninfo()"
   ]
  },
  {
   "cell_type": "raw",
   "id": "ba2217bb",
   "metadata": {},
   "source": [
    " Define a class which has at least two methods:\n",
    "getString: to get a string from console input\n",
    "printString: to print the string in upper case.\n",
    "\n",
    "Hints:\n",
    "Use __init__ method to construct some parameters"
   ]
  },
  {
   "cell_type": "code",
   "execution_count": 66,
   "id": "dfed71cb",
   "metadata": {},
   "outputs": [
    {
     "name": "stdout",
     "output_type": "stream",
     "text": [
      "enter a string :nafil\n",
      "NAFIL\n"
     ]
    }
   ],
   "source": [
    "class string:\n",
    "    def __init__(self):\n",
    "        self.str=\"\"\n",
    "    def getstring(self):\n",
    "        self.str=input(\"enter a string :\")\n",
    "    def printstring(self):\n",
    "        print(self.str.upper())\n",
    "obj=string()\n",
    "obj.getstring()\n",
    "obj.printstring()"
   ]
  },
  {
   "cell_type": "markdown",
   "id": "153cf11a",
   "metadata": {},
   "source": [
    "Write a program to create BMI Calculator using function"
   ]
  },
  {
   "cell_type": "code",
   "execution_count": 63,
   "id": "86371e06",
   "metadata": {},
   "outputs": [
    {
     "name": "stdout",
     "output_type": "stream",
     "text": [
      "enter a weight (kg) :65\n",
      "enter a height (cm) :180\n",
      "the BMI is  20.061728395061728 so Healthy\n"
     ]
    }
   ],
   "source": [
    "def BMI(height,weight):\n",
    "    bmi=weight/(height**2)\n",
    "    return bmi\n",
    "weight=float(input(\"enter a weight (kg) :\"))\n",
    "height=float(input(\"enter a height (cm) :\"))\n",
    "bmi=BMI(height/100,weight)\n",
    "print(\"the BMI is \",format(bmi),\"so \",end=\"\")\n",
    "if (bmi < 18.5):\n",
    "    print(\"underweight\")\n",
    "elif ( bmi >= 18.5 and bmi < 24.9):\n",
    "    print(\"Healthy\")\n",
    "elif ( bmi >= 24.9 and bmi < 30):\n",
    "    print(\"overweight\")\n",
    "elif ( bmi >=30):\n",
    "    print(\"Suffering from Obesity\")"
   ]
  },
  {
   "cell_type": "markdown",
   "id": "9dcc76d5",
   "metadata": {},
   "source": [
    "create a class animal and create sub class dog, and based on dog create another subclass dogchild"
   ]
  },
  {
   "cell_type": "code",
   "execution_count": 53,
   "id": "89b7ab5c",
   "metadata": {},
   "outputs": [
    {
     "name": "stdout",
     "output_type": "stream",
     "text": [
      "animal:\n",
      "name is  tomy is 5 years old\n",
      "breed : bulldog\n"
     ]
    }
   ],
   "source": [
    "class animal:\n",
    "    def __init__(self):\n",
    "        print(\"animal:\")\n",
    "class dog(animal):\n",
    "    def dogg(self,name,age):\n",
    "        self.name=name\n",
    "        self.age=age\n",
    "        print(\"name is \",self.name,\"is\",self.age,\"years old\")\n",
    "class dogchild(dog):\n",
    "    def child(self,breed):\n",
    "        self.breed=breed\n",
    "        print(\"breed :\",self.breed)\n",
    "obj=dogchild()\n",
    "obj.dogg(\"tomy\",5)\n",
    "obj.child(\"bulldog\")"
   ]
  },
  {
   "cell_type": "markdown",
   "id": "98c6d9e9",
   "metadata": {},
   "source": [
    "create classes calculation1,calculation2 with method summation ,multiplication and child class calculation 3 with method division"
   ]
  },
  {
   "cell_type": "code",
   "execution_count": 49,
   "id": "d908464b",
   "metadata": {},
   "outputs": [
    {
     "name": "stdout",
     "output_type": "stream",
     "text": [
      "enter a first value :10\n",
      "enter a second value :5\n",
      "division : 2.0\n",
      "multiplication : 50.0\n",
      "summation : 15.0\n"
     ]
    }
   ],
   "source": [
    "class calculation_1:\n",
    "    def summation(self,a,b):\n",
    "        self.a=a\n",
    "        self.b=b\n",
    "        print(\"summation :\",self.a+self.b)\n",
    "class calculation_2:\n",
    "    def multiplication(self,a,b):\n",
    "        self.a=a\n",
    "        self.b=b\n",
    "        print(\"multiplication :\",self.a*self.b)\n",
    "class calculation_3(calculation_1,calculation_2):\n",
    "    def division(self,a,b):\n",
    "        self.a=a\n",
    "        self.b=b\n",
    "        print(\"division :\",self.a/self.b)\n",
    "a=float(input(\"enter a first value :\"))\n",
    "b=float(input(\"enter a second value :\"))\n",
    "obj=calculation_3()\n",
    "obj.division(a,b)\n",
    "obj.multiplication(a,b)\n",
    "obj.summation(a,b)"
   ]
  }
 ],
 "metadata": {
  "kernelspec": {
   "display_name": "Python 3 (ipykernel)",
   "language": "python",
   "name": "python3"
  },
  "language_info": {
   "codemirror_mode": {
    "name": "ipython",
    "version": 3
   },
   "file_extension": ".py",
   "mimetype": "text/x-python",
   "name": "python",
   "nbconvert_exporter": "python",
   "pygments_lexer": "ipython3",
   "version": "3.9.13"
  }
 },
 "nbformat": 4,
 "nbformat_minor": 5
}
