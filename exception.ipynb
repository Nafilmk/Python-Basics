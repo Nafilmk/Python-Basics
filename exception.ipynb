{
 "cells": [
  {
   "cell_type": "code",
   "execution_count": 1,
   "id": "8875f8ab",
   "metadata": {},
   "outputs": [
    {
     "name": "stdout",
     "output_type": "stream",
     "text": [
      "enter a number :6\n"
     ]
    },
    {
     "ename": "ZeroDivisionError",
     "evalue": "division by zero",
     "output_type": "error",
     "traceback": [
      "\u001b[1;31m---------------------------------------------------------------------------\u001b[0m",
      "\u001b[1;31mZeroDivisionError\u001b[0m                         Traceback (most recent call last)",
      "\u001b[1;32m~\\AppData\\Local\\Temp\\ipykernel_17776\\148542831.py\u001b[0m in \u001b[0;36m<module>\u001b[1;34m\u001b[0m\n\u001b[0;32m      1\u001b[0m \u001b[0ma\u001b[0m\u001b[1;33m=\u001b[0m\u001b[0mint\u001b[0m\u001b[1;33m(\u001b[0m\u001b[0minput\u001b[0m\u001b[1;33m(\u001b[0m\u001b[1;34m\"enter a number :\"\u001b[0m\u001b[1;33m)\u001b[0m\u001b[1;33m)\u001b[0m\u001b[1;33m\u001b[0m\u001b[1;33m\u001b[0m\u001b[0m\n\u001b[0;32m      2\u001b[0m \u001b[1;32mif\u001b[0m \u001b[1;33m(\u001b[0m\u001b[0ma\u001b[0m\u001b[1;33m>\u001b[0m\u001b[1;36m0\u001b[0m\u001b[1;33m)\u001b[0m\u001b[1;33m:\u001b[0m\u001b[1;33m\u001b[0m\u001b[1;33m\u001b[0m\u001b[0m\n\u001b[1;32m----> 3\u001b[1;33m     \u001b[0ma\u001b[0m\u001b[1;33m=\u001b[0m\u001b[0ma\u001b[0m\u001b[1;33m/\u001b[0m\u001b[1;36m0\u001b[0m\u001b[1;33m\u001b[0m\u001b[1;33m\u001b[0m\u001b[0m\n\u001b[0m\u001b[0;32m      4\u001b[0m \u001b[0mprint\u001b[0m\u001b[1;33m(\u001b[0m\u001b[0ma\u001b[0m\u001b[1;33m)\u001b[0m\u001b[1;33m\u001b[0m\u001b[1;33m\u001b[0m\u001b[0m\n",
      "\u001b[1;31mZeroDivisionError\u001b[0m: division by zero"
     ]
    }
   ],
   "source": [
    "a=int(input(\"enter a number :\"))\n",
    "if (a>0):\n",
    "    a=a/0\n",
    "print(a)"
   ]
  },
  {
   "cell_type": "markdown",
   "id": "d7dc9e9f",
   "metadata": {},
   "source": [
    "Python Program to Handle Divide by Zero Exception"
   ]
  },
  {
   "cell_type": "code",
   "execution_count": 2,
   "id": "236536ff",
   "metadata": {},
   "outputs": [
    {
     "name": "stdout",
     "output_type": "stream",
     "text": [
      "enter the number :7\n",
      "it is zero division error\n",
      "always executed\n"
     ]
    }
   ],
   "source": [
    "try:\n",
    "    a=int(input(\"enter the number :\"))\n",
    "    if(a%2==0):\n",
    "        print(a)\n",
    "    else:\n",
    "        b=a/0\n",
    "except:\n",
    "    print(\"it is zero division error\")\n",
    "finally:\n",
    "    print(\"always executed\")"
   ]
  },
  {
   "cell_type": "markdown",
   "id": "d5dfa694",
   "metadata": {},
   "source": [
    "Python program to demonstrate NameError"
   ]
  },
  {
   "cell_type": "code",
   "execution_count": 3,
   "id": "638be00e",
   "metadata": {},
   "outputs": [
    {
     "name": "stdout",
     "output_type": "stream",
     "text": [
      "enter a number :5\n",
      "it is name error\n"
     ]
    }
   ],
   "source": [
    "try:\n",
    "    a=int(input(\"enter a number :\"))\n",
    "    x=a*5\n",
    "    print(y)\n",
    "except:\n",
    "    print(\"it is name error\")"
   ]
  },
  {
   "cell_type": "markdown",
   "id": "66c4cf9c",
   "metadata": {},
   "source": [
    "Python program to demonstrate AttributeError"
   ]
  },
  {
   "cell_type": "code",
   "execution_count": 8,
   "id": "46ee1d9e",
   "metadata": {},
   "outputs": [
    {
     "name": "stdout",
     "output_type": "stream",
     "text": [
      "error occurred\n"
     ]
    }
   ],
   "source": [
    "try:\n",
    "    a=\"NAFIL\"\n",
    "    a.add(\"M.K\")\n",
    "    print(a)\n",
    "except:\n",
    "    print(\"error occurred\")"
   ]
  },
  {
   "cell_type": "markdown",
   "id": "65437d7b",
   "metadata": {},
   "source": [
    "Python program to demonstrate KeyError"
   ]
  },
  {
   "cell_type": "code",
   "execution_count": 29,
   "id": "7304973e",
   "metadata": {},
   "outputs": [
    {
     "name": "stdout",
     "output_type": "stream",
     "text": [
      "enter a key value of employees : 5\n",
      "!!!ohh!!!\n",
      "enter key value 1 to 4\n"
     ]
    }
   ],
   "source": [
    "try:\n",
    "    a=int(input(\"enter a key value of employees : \"))\n",
    "    employees = {1:\"john\",2:\"paul\",3:\"babu\",4:\"sahal\"}\n",
    "    print(employees[a])\n",
    "except:\n",
    "    print(\"!!!ohh!!!\")\n",
    "    print(\"enter key value 1 to 4\")"
   ]
  },
  {
   "cell_type": "markdown",
   "id": "8a852740",
   "metadata": {},
   "source": [
    "Python program to demonstrate IndexError"
   ]
  },
  {
   "cell_type": "code",
   "execution_count": 31,
   "id": "28df486a",
   "metadata": {},
   "outputs": [
    {
     "name": "stdout",
     "output_type": "stream",
     "text": [
      "enter a index value : 4\n",
      "5\n"
     ]
    }
   ],
   "source": [
    "try:\n",
    "    a=int(input(\"enter a index value : \"))\n",
    "    lst=[1,2,3,4,5]\n",
    "    print(lst[a])\n",
    "except:\n",
    "    print(\"enter a index value 0 to 4\")"
   ]
  },
  {
   "cell_type": "markdown",
   "id": "6a388041",
   "metadata": {},
   "source": [
    "Create a function that will throw an exception if interest rate is greater than 100."
   ]
  },
  {
   "cell_type": "code",
   "execution_count": 55,
   "id": "5ce381c8",
   "metadata": {},
   "outputs": [
    {
     "name": "stdout",
     "output_type": "stream",
     "text": [
      "interest rate % : 8\n",
      "simple interest: 160.0\n",
      "its high interest\n"
     ]
    }
   ],
   "source": [
    "try:\n",
    "    amount = 2000\n",
    "    interest = int(input(\"interest rate % : \"))\n",
    "    time = 1\n",
    "    SI = (amount*interest*time)/100\n",
    "    print(\"simple interest:\",SI)\n",
    "    if (SI>100):\n",
    "        print(pp)\n",
    "except:\n",
    "    print(\"its high interest\")"
   ]
  },
  {
   "cell_type": "code",
   "execution_count": null,
   "id": "c4da6dec",
   "metadata": {},
   "outputs": [],
   "source": []
  }
 ],
 "metadata": {
  "kernelspec": {
   "display_name": "Python 3 (ipykernel)",
   "language": "python",
   "name": "python3"
  },
  "language_info": {
   "codemirror_mode": {
    "name": "ipython",
    "version": 3
   },
   "file_extension": ".py",
   "mimetype": "text/x-python",
   "name": "python",
   "nbconvert_exporter": "python",
   "pygments_lexer": "ipython3",
   "version": "3.9.13"
  }
 },
 "nbformat": 4,
 "nbformat_minor": 5
}
