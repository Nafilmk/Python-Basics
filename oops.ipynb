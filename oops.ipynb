{
 "cells": [
  {
   "cell_type": "code",
   "execution_count": 14,
   "id": "a3047c99",
   "metadata": {},
   "outputs": [
    {
     "name": "stdout",
     "output_type": "stream",
     "text": [
      "blu is a bird\n",
      "woo is also a bird\n",
      "blu is 10 year old\n",
      "woo is 15 year old\n"
     ]
    }
   ],
   "source": [
    "class parrot:\n",
    "    species=\"bird\"\n",
    "    def __init__(self,name,age):\n",
    "        self.name=name\n",
    "        self.age=age\n",
    "blu=parrot(\"blu\",10)\n",
    "woo=parrot(\"woo\",15)\n",
    "green=parrot(\"green\",5)\n",
    "\n",
    "print(\"blu is a {}\".format(blu.__class__.species))\n",
    "print(\"woo is also a {}\".format(woo.__class__.species))\n",
    "print(\"{} is {} year old\".format(blu.name,blu.age))\n",
    "print(\"{} is {} year old\".format(woo.name,woo.age))\n"
   ]
  },
  {
   "cell_type": "code",
   "execution_count": 17,
   "id": "85b094b2",
   "metadata": {},
   "outputs": [
    {
     "name": "stdout",
     "output_type": "stream",
     "text": [
      "blu is a bird\n",
      "woo is also a bird\n",
      "blu is 10 year old\n",
      "woo is 15 year old\n",
      "green is also a bird\n",
      "green is 5 year old\n"
     ]
    }
   ],
   "source": [
    "class parrot:\n",
    "    species=\"bird\"\n",
    "    def __init__(self,name,age):\n",
    "        self.name=name\n",
    "        self.age=age\n",
    "blu=parrot(\"blu\",10)\n",
    "woo=parrot(\"woo\",15)\n",
    "green=parrot(\"green\",5)\n",
    "print(\"blu is a {}\".format(blu.__class__.species))\n",
    "print(\"woo is also a {}\".format(woo.__class__.species))\n",
    "print(\"{} is {} year old\".format(blu.name,blu.age))\n",
    "print(\"{} is {} year old\".format(woo.name,woo.age))\n",
    "print(\"green is also a {}\".format(green.__class__.species))\n",
    "print(\"{} is {} year old\".format(green.name,green.age))"
   ]
  },
  {
   "cell_type": "code",
   "execution_count": null,
   "id": "fbc10f55",
   "metadata": {},
   "outputs": [],
   "source": [
    " "
   ]
  }
 ],
 "metadata": {
  "kernelspec": {
   "display_name": "Python 3 (ipykernel)",
   "language": "python",
   "name": "python3"
  },
  "language_info": {
   "codemirror_mode": {
    "name": "ipython",
    "version": 3
   },
   "file_extension": ".py",
   "mimetype": "text/x-python",
   "name": "python",
   "nbconvert_exporter": "python",
   "pygments_lexer": "ipython3",
   "version": "3.9.13"
  }
 },
 "nbformat": 4,
 "nbformat_minor": 5
}
