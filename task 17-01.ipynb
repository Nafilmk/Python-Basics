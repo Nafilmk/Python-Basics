{
 "cells": [
  {
   "cell_type": "markdown",
   "id": "7079b26e",
   "metadata": {},
   "source": [
    "Create a list with all items and create new list from the existing list"
   ]
  },
  {
   "cell_type": "code",
   "execution_count": 4,
   "id": "55f8fd8f",
   "metadata": {},
   "outputs": [
    {
     "name": "stdout",
     "output_type": "stream",
     "text": [
      "[12, 14, 16, 18, 'apple', 'banana', 'pappaya', 'cheryy']\n"
     ]
    }
   ],
   "source": [
    "a=[12,14,16,18,\"apple\",\"banana\",\"pappaya\",\"cheryy\"]\n",
    "b=a\n",
    "print(b)"
   ]
  },
  {
   "cell_type": "markdown",
   "id": "5d66fe51",
   "metadata": {},
   "source": [
    "2. Create a list and print the itwms from second index to sixth index"
   ]
  },
  {
   "cell_type": "code",
   "execution_count": 7,
   "id": "68cef72e",
   "metadata": {},
   "outputs": [
    {
     "data": {
      "text/plain": [
       "[3, 4, 5, 6]"
      ]
     },
     "execution_count": 7,
     "metadata": {},
     "output_type": "execute_result"
    }
   ],
   "source": [
    "a=[1,2,3,4,5,6,7,8,9]\n",
    "a[2:6]"
   ]
  },
  {
   "cell_type": "markdown",
   "id": "2c25a60a",
   "metadata": {},
   "source": [
    "3. Create tuple and perform inser, append operations. Print the index of second last element.\n"
   ]
  },
  {
   "cell_type": "code",
   "execution_count": 21,
   "id": "e0b8b7a6",
   "metadata": {},
   "outputs": [
    {
     "data": {
      "text/plain": [
       "(1, 2, 3, 4, 5, 6, 7, 8, 9, 10)"
      ]
     },
     "execution_count": 21,
     "metadata": {},
     "output_type": "execute_result"
    }
   ],
   "source": [
    "t=(1,2,3,4,5,6,7,8,9)\n",
    "b=(10,)\n",
    "a=t+b\n",
    "a"
   ]
  },
  {
   "cell_type": "code",
   "execution_count": 22,
   "id": "730facb7",
   "metadata": {},
   "outputs": [
    {
     "data": {
      "text/plain": [
       "9"
      ]
     },
     "execution_count": 22,
     "metadata": {},
     "output_type": "execute_result"
    }
   ],
   "source": [
    "a[-2]"
   ]
  },
  {
   "cell_type": "markdown",
   "id": "1181ec99",
   "metadata": {},
   "source": [
    "4. Create a set with 7 elements and perform the following,\n",
    "     * add an element\n",
    "     * remove an element\n"
   ]
  },
  {
   "cell_type": "code",
   "execution_count": 24,
   "id": "bd9c3b0a",
   "metadata": {},
   "outputs": [
    {
     "data": {
      "text/plain": [
       "{1, 2, 3, 4, 5, 6, 7, 8, 9, 10}"
      ]
     },
     "execution_count": 24,
     "metadata": {},
     "output_type": "execute_result"
    }
   ],
   "source": [
    "a={1,2,3,4,5,6,7,8,9}\n",
    "a.add(10)\n",
    "a"
   ]
  },
  {
   "cell_type": "code",
   "execution_count": 25,
   "id": "d34e9ea7",
   "metadata": {},
   "outputs": [
    {
     "data": {
      "text/plain": [
       "{1, 2, 3, 4, 5, 6, 7, 8, 10}"
      ]
     },
     "execution_count": 25,
     "metadata": {},
     "output_type": "execute_result"
    }
   ],
   "source": [
    "a.remove(9)\n",
    "a"
   ]
  },
  {
   "cell_type": "code",
   "execution_count": null,
   "id": "74d40996",
   "metadata": {},
   "outputs": [],
   "source": []
  }
 ],
 "metadata": {
  "kernelspec": {
   "display_name": "Python 3 (ipykernel)",
   "language": "python",
   "name": "python3"
  },
  "language_info": {
   "codemirror_mode": {
    "name": "ipython",
    "version": 3
   },
   "file_extension": ".py",
   "mimetype": "text/x-python",
   "name": "python",
   "nbconvert_exporter": "python",
   "pygments_lexer": "ipython3",
   "version": "3.9.13"
  }
 },
 "nbformat": 4,
 "nbformat_minor": 5
}
