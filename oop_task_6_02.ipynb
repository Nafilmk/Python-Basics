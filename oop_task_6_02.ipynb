{
  "nbformat": 4,
  "nbformat_minor": 0,
  "metadata": {
    "colab": {
      "provenance": []
    },
    "kernelspec": {
      "name": "python3",
      "display_name": "Python 3"
    },
    "language_info": {
      "name": "python"
    }
  },
  "cells": [
    {
      "cell_type": "markdown",
      "source": [
        "Create a Class with instance attributes"
      ],
      "metadata": {
        "id": "zq_Qdkj8kK7l"
      }
    },
    {
      "cell_type": "code",
      "execution_count": null,
      "metadata": {
        "colab": {
          "base_uri": "https://localhost:8080/"
        },
        "id": "92FcDSL0kGx0",
        "outputId": "de1bb338-981b-42a8-d4a1-ab1378c23b1f"
      },
      "outputs": [
        {
          "output_type": "stream",
          "name": "stdout",
          "text": [
            "Name  Nafil age 20 salary 15000\n",
            "Name  Afsal age 25 salary 12500\n",
            "Name  Rahul age 23 salary 18000\n"
          ]
        }
      ],
      "source": [
        "class staff:\n",
        "  def __init__(self,name,age,salary):\n",
        "    self.name=name\n",
        "    self.age=age\n",
        "    self.salary=salary\n",
        "stf1=staff(\"Nafil\",20,15000)\n",
        "stf2=staff(\"Afsal\",25,12500)\n",
        "stf3=staff(\"Rahul\",23,18000)\n",
        "print(\"Name  {} age {} salary {}\".format(stf1.name,stf1.age,stf1.salary))\n",
        "print(\"Name  {} age {} salary {}\".format(stf2.name,stf2.age,stf2.salary))\n",
        "print(\"Name  {} age {} salary {}\".format(stf3.name,stf3.age,stf3.salary))"
      ]
    },
    {
      "cell_type": "markdown",
      "source": [
        "Create a Vehicle class without any variables and methods"
      ],
      "metadata": {
        "id": "serHchVQndiw"
      }
    },
    {
      "cell_type": "code",
      "source": [
        "class vehicle:\n",
        "  pass"
      ],
      "metadata": {
        "id": "78aVsKHznXWv"
      },
      "execution_count": null,
      "outputs": []
    },
    {
      "cell_type": "markdown",
      "source": [
        "Create a child class Bus that will inherit all of the variables and methods of the Vehicle class"
      ],
      "metadata": {
        "id": "InZxI-FXnwp9"
      }
    },
    {
      "cell_type": "code",
      "source": [
        "class vehicle:\n",
        "  def color(self):\n",
        "    print(\"color  :black\")\n",
        "  def milege(self):\n",
        "    print(\"milege :10\")\n",
        "class bus(vehicle):\n",
        "  def __init__(self,company_name):\n",
        "    self.company_name=company_name\n",
        "bs=bus(\"volvo\")\n",
        "print(\"company name :{}\".format(bs.company_name))\n",
        "bs.color()\n",
        "bs.milege()\n"
      ],
      "metadata": {
        "colab": {
          "base_uri": "https://localhost:8080/"
        },
        "id": "c5gJIlCZnbX8",
        "outputId": "61305139-fc4d-4bfb-b0b3-786fc84b2d1d"
      },
      "execution_count": null,
      "outputs": [
        {
          "output_type": "stream",
          "name": "stdout",
          "text": [
            "company name volvo\n",
            "color  :black\n",
            "milege :10\n"
          ]
        }
      ]
    },
    {
      "cell_type": "markdown",
      "source": [
        "Create a Bus class that inherits from the Vehicle class. Give the capacity argument of Bus.seating_capacity() a default value of 50."
      ],
      "metadata": {
        "id": "GU6hRRSMwU1-"
      }
    },
    {
      "cell_type": "code",
      "source": [
        "class vehicle:\n",
        "  def color(self):\n",
        "    print(\"color  :black\")\n",
        "  def milege(self):\n",
        "    print(\"milege :10\")\n",
        "class bus(vehicle):\n",
        "  def __init__(self,company_name):\n",
        "    self.company_name=company_name\n",
        "  def seating_capacity(self):\n",
        "    print(\"seat capacity :50\")\n",
        "bs=bus(\"volvo\")\n",
        "print(\"company name {}\".format(bs.company_name))\n",
        "bs.color()\n",
        "bs.milege()\n",
        "bs.seating_capacity()"
      ],
      "metadata": {
        "colab": {
          "base_uri": "https://localhost:8080/"
        },
        "id": "YuA2XJ2lrZ0I",
        "outputId": "1a617d75-c121-4b05-f49b-b03ecd3a4387"
      },
      "execution_count": null,
      "outputs": [
        {
          "output_type": "stream",
          "name": "stdout",
          "text": [
            "company name volvo\n",
            "color  :black\n",
            "milege :10\n",
            "seat capacity :50\n"
          ]
        }
      ]
    },
    {
      "cell_type": "markdown",
      "source": [
        "Define a property that must have the same value for every class instance (object)"
      ],
      "metadata": {
        "id": "qXDkrb1uxC8B"
      }
    },
    {
      "cell_type": "code",
      "source": [
        "class bus:\n",
        "  def color(self):\n",
        "    print(\"color  :grey\")\n",
        "  def milege(self):\n",
        "    print(\"milege :10\")\n",
        "  def expence(self):\n",
        "    print(\"expence :depant on maintanance\")\n",
        "class car(bus):\n",
        "  def __init__(self):\n",
        "    print(\"car\")\n",
        "cr=car()\n",
        "cr.color()\n",
        "cr.milege()\n",
        "cr.expence()"
      ],
      "metadata": {
        "colab": {
          "base_uri": "https://localhost:8080/"
        },
        "id": "CfOxfShitrNA",
        "outputId": "8f3b518c-25a2-4b28-c1d7-de033fbe9159"
      },
      "execution_count": null,
      "outputs": [
        {
          "output_type": "stream",
          "name": "stdout",
          "text": [
            "car\n",
            "color  :grey\n",
            "milege :10\n",
            "expence :depant on maintanance\n"
          ]
        }
      ]
    },
    {
      "cell_type": "markdown",
      "source": [
        "Check type of an object"
      ],
      "metadata": {
        "id": "qS8DZs_e0_al"
      }
    },
    {
      "cell_type": "code",
      "source": [
        "class staff:\n",
        "  def __init__(self,name,age,salary):\n",
        "    self.name=name\n",
        "    self.age=age\n",
        "    self.salary=salary\n",
        "stf1=staff(\"Nafil\",20,15000)\n",
        "print(type(stf1))"
      ],
      "metadata": {
        "colab": {
          "base_uri": "https://localhost:8080/"
        },
        "id": "TosIa3l30Qy1",
        "outputId": "7e8237c4-5bf0-44c0-c94c-a2690272a85b"
      },
      "execution_count": null,
      "outputs": [
        {
          "output_type": "stream",
          "name": "stdout",
          "text": [
            "<class '__main__.staff'>\n"
          ]
        }
      ]
    },
    {
      "cell_type": "markdown",
      "source": [
        "Determine if School_bus is also an instance of the Vehicle class"
      ],
      "metadata": {
        "id": "6gozqeYy1Vhb"
      }
    },
    {
      "cell_type": "code",
      "source": [
        "class vehicle:\n",
        "  def color(self):\n",
        "    print(\"color  :grey\")\n",
        "  def milege(self):\n",
        "    print(\"milege :10\")\n",
        "  def expence(self):\n",
        "    print(\"expence :depant on maintanance\")\n",
        "class school_bus(vehicle):\n",
        "  def __init__(self):\n",
        "    print(\"school bus\")\n",
        "sbs=school_bus()\n",
        "sbs.color()\n",
        "sbs.milege()\n",
        "sbs.expence()\n",
        "print(isinstance(vehicle,school_bus))"
      ],
      "metadata": {
        "colab": {
          "base_uri": "https://localhost:8080/"
        },
        "id": "sSRkGzN_1E0b",
        "outputId": "b54a7115-9101-405a-c8ce-bcf5bc61cfc8"
      },
      "execution_count": null,
      "outputs": [
        {
          "output_type": "stream",
          "name": "stdout",
          "text": [
            "school bus\n",
            "color  :grey\n",
            "milege :10\n",
            "expence :depant on maintanance\n",
            "False\n"
          ]
        }
      ]
    },
    {
      "cell_type": "code",
      "source": [],
      "metadata": {
        "id": "rNgiiV-K3kQE"
      },
      "execution_count": null,
      "outputs": []
    }
  ]
}