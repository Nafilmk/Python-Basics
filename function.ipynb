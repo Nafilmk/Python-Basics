{
 "cells": [
  {
   "cell_type": "code",
   "execution_count": 1,
   "id": "6a139a6e",
   "metadata": {},
   "outputs": [
    {
     "name": "stdout",
     "output_type": "stream",
     "text": [
      "hai\n"
     ]
    }
   ],
   "source": [
    "def example():\n",
    "    print(\"hai\")\n",
    "example()\n"
   ]
  },
  {
   "cell_type": "code",
   "execution_count": 2,
   "id": "77ab085d",
   "metadata": {},
   "outputs": [
    {
     "name": "stdout",
     "output_type": "stream",
     "text": [
      "15\n"
     ]
    }
   ],
   "source": [
    "def check():\n",
    "    a=5\n",
    "    b=10\n",
    "    c=a+b\n",
    "    print(c)\n",
    "check()\n"
   ]
  },
  {
   "cell_type": "code",
   "execution_count": 3,
   "id": "e85d5bd0",
   "metadata": {},
   "outputs": [
    {
     "name": "stdout",
     "output_type": "stream",
     "text": [
      "nafil\n",
      "good morning\n"
     ]
    }
   ],
   "source": [
    "def wish(name,greet):\n",
    "    print(name)\n",
    "    print(greet)\n",
    "wish(\"nafil\",\"good morning\")"
   ]
  },
  {
   "cell_type": "markdown",
   "id": "a104774b",
   "metadata": {},
   "source": [
    "function with parameters"
   ]
  },
  {
   "cell_type": "code",
   "execution_count": 4,
   "id": "1c6f9198",
   "metadata": {},
   "outputs": [
    {
     "name": "stdout",
     "output_type": "stream",
     "text": [
      "35\n"
     ]
    }
   ],
   "source": [
    "def check(a,b):\n",
    "    c=a+b\n",
    "    print(c)\n",
    "check(20,15)"
   ]
  },
  {
   "cell_type": "code",
   "execution_count": 5,
   "id": "9f6044dd",
   "metadata": {},
   "outputs": [
    {
     "name": "stdout",
     "output_type": "stream",
     "text": [
      "60\n"
     ]
    }
   ],
   "source": [
    "check(48,12)"
   ]
  },
  {
   "cell_type": "code",
   "execution_count": 6,
   "id": "f8bd1e01",
   "metadata": {},
   "outputs": [
    {
     "name": "stdout",
     "output_type": "stream",
     "text": [
      "10\n",
      "20\n"
     ]
    }
   ],
   "source": [
    "x=10\n",
    "def example():\n",
    "    x=20\n",
    "    print(x)\n",
    "print(x)\n",
    "example()"
   ]
  },
  {
   "cell_type": "code",
   "execution_count": 7,
   "id": "8fbf9a2e",
   "metadata": {},
   "outputs": [
    {
     "name": "stdout",
     "output_type": "stream",
     "text": [
      "nafil\n"
     ]
    }
   ],
   "source": [
    "def n():\n",
    "    print(\"nafil\")\n",
    "n()"
   ]
  },
  {
   "cell_type": "code",
   "execution_count": 8,
   "id": "70ff5608",
   "metadata": {},
   "outputs": [
    {
     "name": "stdout",
     "output_type": "stream",
     "text": [
      "30\n"
     ]
    }
   ],
   "source": [
    "def mlt(a,b):\n",
    "    c=a*b\n",
    "    print(c)\n",
    "mlt(15,2)"
   ]
  },
  {
   "cell_type": "code",
   "execution_count": 9,
   "id": "a94c6162",
   "metadata": {},
   "outputs": [
    {
     "name": "stdout",
     "output_type": "stream",
     "text": [
      "120\n"
     ]
    }
   ],
   "source": [
    "\n",
    "mlt(10,12)"
   ]
  },
  {
   "cell_type": "code",
   "execution_count": 10,
   "id": "90e87f5f",
   "metadata": {},
   "outputs": [
    {
     "name": "stdout",
     "output_type": "stream",
     "text": [
      "100\n"
     ]
    }
   ],
   "source": [
    "check(12,88)"
   ]
  },
  {
   "cell_type": "code",
   "execution_count": 11,
   "id": "bbefd8c8",
   "metadata": {},
   "outputs": [
    {
     "name": "stdout",
     "output_type": "stream",
     "text": [
      "2.0\n"
     ]
    }
   ],
   "source": [
    "def div(a,b):\n",
    "    c=a/b\n",
    "    print(c)\n",
    "div(10,5)"
   ]
  },
  {
   "cell_type": "code",
   "execution_count": 12,
   "id": "1bd51477",
   "metadata": {},
   "outputs": [
    {
     "name": "stdout",
     "output_type": "stream",
     "text": [
      "12.5\n"
     ]
    }
   ],
   "source": [
    "div(100,8)"
   ]
  },
  {
   "cell_type": "code",
   "execution_count": 13,
   "id": "92e21c60",
   "metadata": {},
   "outputs": [
    {
     "name": "stdout",
     "output_type": "stream",
     "text": [
      "300\n"
     ]
    }
   ],
   "source": [
    "mlt(25,12)"
   ]
  },
  {
   "cell_type": "markdown",
   "id": "c50cb6c1",
   "metadata": {},
   "source": [
    "default parameter"
   ]
  },
  {
   "cell_type": "code",
   "execution_count": 14,
   "id": "1f691332",
   "metadata": {},
   "outputs": [
    {
     "name": "stdout",
     "output_type": "stream",
     "text": [
      "nafil\n",
      "good morning\n"
     ]
    }
   ],
   "source": [
    "def example(name,wish=\"good morning\"):\n",
    "    print(name,end=\"\\n\")\n",
    "    print(wish)\n",
    "example(\"nafil\")"
   ]
  },
  {
   "cell_type": "code",
   "execution_count": 15,
   "id": "0eee0cad",
   "metadata": {},
   "outputs": [
    {
     "name": "stdout",
     "output_type": "stream",
     "text": [
      "nafil\n",
      "good night\n"
     ]
    }
   ],
   "source": [
    "example(\"nafil\",\"good night\")"
   ]
  },
  {
   "cell_type": "markdown",
   "id": "93e817ce",
   "metadata": {},
   "source": [
    " Write a function calculation() such that it can accept two variables and calculate the addition and subtraction of them. And also it must return both addition and subtraction in a single return call"
   ]
  },
  {
   "cell_type": "code",
   "execution_count": 16,
   "id": "95a6b415",
   "metadata": {},
   "outputs": [
    {
     "name": "stdout",
     "output_type": "stream",
     "text": [
      "addition : 15\n",
      "subtraction : 2.0\n"
     ]
    }
   ],
   "source": [
    "def cal(a,b):\n",
    "    c=a+b\n",
    "    d=a/b\n",
    "    print(\"addition :\",c)\n",
    "    print(\"subtraction :\",d)\n",
    "cal(10,5)"
   ]
  },
  {
   "cell_type": "markdown",
   "id": "e881b270",
   "metadata": {},
   "source": [
    "Create a function showEmployee() in such a way that it should accept employee name, and its salary and display both. If the salary is missing in the function call assign default value 9000 to salary\n",
    "\n"
   ]
  },
  {
   "cell_type": "code",
   "execution_count": 17,
   "id": "ea9fc840",
   "metadata": {},
   "outputs": [
    {
     "name": "stdout",
     "output_type": "stream",
     "text": [
      "employee name : nafil\n",
      "salary        : 9000\n"
     ]
    }
   ],
   "source": [
    "def employee(name,salary=9000):\n",
    "    print(\"employee name :\",name,end=\"\\n\")\n",
    "    print(\"salary        :\",salary)\n",
    "employee(\"nafil\")"
   ]
  },
  {
   "cell_type": "code",
   "execution_count": 18,
   "id": "d1389eb8",
   "metadata": {},
   "outputs": [
    {
     "name": "stdout",
     "output_type": "stream",
     "text": [
      "employee name : ajfan\n",
      "salary        : 10000\n"
     ]
    }
   ],
   "source": [
    "employee(\"ajfan\",10000)"
   ]
  },
  {
   "cell_type": "markdown",
   "id": "fea7ff3b",
   "metadata": {},
   "source": [
    "create a function to check if a number is odd or even"
   ]
  },
  {
   "cell_type": "code",
   "execution_count": 19,
   "id": "9e0e47d8",
   "metadata": {},
   "outputs": [
    {
     "name": "stdout",
     "output_type": "stream",
     "text": [
      "20\n",
      "20 even number\n"
     ]
    }
   ],
   "source": [
    "def check(a):\n",
    "    if a%2==0:\n",
    "        print(a,\"even number\")\n",
    "    else:\n",
    "        print(a,\"odd numver\")\n",
    "b=int(input())\n",
    "check(b)"
   ]
  },
  {
   "cell_type": "code",
   "execution_count": 20,
   "id": "c053852e",
   "metadata": {},
   "outputs": [
    {
     "name": "stdout",
     "output_type": "stream",
     "text": [
      "15\n",
      "15 odd numver\n"
     ]
    }
   ],
   "source": [
    "b=int(input())\n",
    "check(b)"
   ]
  },
  {
   "cell_type": "markdown",
   "id": "b7b8e299",
   "metadata": {},
   "source": [
    "create a function to check if a number is armstrong numers"
   ]
  },
  {
   "cell_type": "code",
   "execution_count": 21,
   "id": "a9d1c922",
   "metadata": {},
   "outputs": [
    {
     "name": "stdout",
     "output_type": "stream",
     "text": [
      "153\n",
      "is armstrong number\n"
     ]
    }
   ],
   "source": [
    "def chk(a):\n",
    "    sum=0\n",
    "    n=a\n",
    "    while n>0:\n",
    "        d=n%10\n",
    "        sum=sum+d**3\n",
    "        n//=10\n",
    "    if a==sum:\n",
    "        print(\"is armstrong number\")\n",
    "    else:\n",
    "        print(\"is not armstrong number\")\n",
    "b=int(input())\n",
    "chk(b)\n",
    "    "
   ]
  },
  {
   "cell_type": "code",
   "execution_count": 22,
   "id": "e5e60236",
   "metadata": {},
   "outputs": [
    {
     "name": "stdout",
     "output_type": "stream",
     "text": [
      "400\n",
      "is not armstrong number\n"
     ]
    }
   ],
   "source": [
    "b=int(input())\n",
    "chk(b)"
   ]
  },
  {
   "cell_type": "markdown",
   "id": "8a1b7858",
   "metadata": {},
   "source": [
    "create a function to reverse of a number"
   ]
  },
  {
   "cell_type": "code",
   "execution_count": 24,
   "id": "3415a82b",
   "metadata": {},
   "outputs": [
    {
     "name": "stdout",
     "output_type": "stream",
     "text": [
      "enter a number; 210456307\n",
      "revers number: 703654012\n"
     ]
    }
   ],
   "source": [
    "def rvs(a):\n",
    "    b=0\n",
    "    while a!=0:\n",
    "        d=a%10\n",
    "        b=b*10+d\n",
    "        a//=10\n",
    "    print(\"revers number:\",b)\n",
    "b=int(input(\"enter a number; \"))\n",
    "rvs(b)"
   ]
  },
  {
   "cell_type": "code",
   "execution_count": null,
   "id": "f545ac9a",
   "metadata": {},
   "outputs": [],
   "source": []
  }
 ],
 "metadata": {
  "kernelspec": {
   "display_name": "Python 3 (ipykernel)",
   "language": "python",
   "name": "python3"
  },
  "language_info": {
   "codemirror_mode": {
    "name": "ipython",
    "version": 3
   },
   "file_extension": ".py",
   "mimetype": "text/x-python",
   "name": "python",
   "nbconvert_exporter": "python",
   "pygments_lexer": "ipython3",
   "version": "3.9.13"
  }
 },
 "nbformat": 4,
 "nbformat_minor": 5
}
