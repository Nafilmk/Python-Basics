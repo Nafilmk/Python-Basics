{
 "cells": [
  {
   "cell_type": "markdown",
   "id": "5dd23a78",
   "metadata": {},
   "source": [
    "find even numbers"
   ]
  },
  {
   "cell_type": "code",
   "execution_count": 1,
   "id": "03fec6b0",
   "metadata": {},
   "outputs": [
    {
     "name": "stdout",
     "output_type": "stream",
     "text": [
      "[2, 4, 6, 8]\n"
     ]
    }
   ],
   "source": [
    "a=[1,2,3,4,5,6,7,8]\n",
    "li=list(filter(lambda x:(x%2==0),a))\n",
    "print(li)"
   ]
  },
  {
   "cell_type": "markdown",
   "id": "9c760ed1",
   "metadata": {},
   "source": [
    "doble all numbers"
   ]
  },
  {
   "cell_type": "code",
   "execution_count": 2,
   "id": "126e9891",
   "metadata": {},
   "outputs": [
    {
     "name": "stdout",
     "output_type": "stream",
     "text": [
      "[2, 4, 6, 8, 10, 12, 14, 16, 18]\n"
     ]
    }
   ],
   "source": [
    "a=[1,2,3,4,5,6,7,8,9]\n",
    "li=list(map(lambda x:x*2,a))\n",
    "print(li)"
   ]
  },
  {
   "cell_type": "markdown",
   "id": "03b36219",
   "metadata": {},
   "source": [
    "Define a function that can accept two strings as input and print the string with maximum length. If two strings have the same length, then the function should print al l strings line by line.\n",
    "Hints:\n",
    "Use len() function to get the length of a string"
   ]
  },
  {
   "cell_type": "code",
   "execution_count": 24,
   "id": "6c0c1958",
   "metadata": {},
   "outputs": [
    {
     "name": "stdout",
     "output_type": "stream",
     "text": [
      "enter a string 1 :naf\n",
      "enter a strion 2 :hello\n",
      "string 2 is longer : hello\n"
     ]
    }
   ],
   "source": [
    "a=input(\"enter a string 1 :\")\n",
    "b=input(\"enter a strion 2 :\")\n",
    "def compare_a_string(a,b):\n",
    "    if len(a)>len(b):\n",
    "        print(\"string 1 is longer :\",a)\n",
    "    elif len(a)<len(b):\n",
    "        print(\"string 2 is longer :\",b)\n",
    "    else:\n",
    "        print(\"string 1&2 are equal :\",end=\"\\n\")\n",
    "        print(a,end=\"\\n\")\n",
    "        print(b)\n",
    "compare_a_string(a,b)       "
   ]
  },
  {
   "cell_type": "markdown",
   "id": "eb91a11a",
   "metadata": {},
   "source": [
    "2. Define a function that can accept an integer number as input and print the \"It is an even number\" if the number is even, otherwise print \"It is an odd number\".\n",
    "Hints:\n",
    "Use % operator to check if a number is even or odd."
   ]
  },
  {
   "cell_type": "code",
   "execution_count": 25,
   "id": "d6f4bd23",
   "metadata": {},
   "outputs": [
    {
     "name": "stdout",
     "output_type": "stream",
     "text": [
      "enter a number :5\n",
      "it is an odd numbers\n"
     ]
    }
   ],
   "source": [
    "a=int(input(\"enter a number :\"))\n",
    "def odd_or_even(a):\n",
    "    if a%2==0:\n",
    "        print(\"it is an even number\")\n",
    "    else:\n",
    "        print(\"it is an odd numbers\")\n",
    "odd_or_even(a)"
   ]
  },
  {
   "cell_type": "markdown",
   "id": "5587c2fb",
   "metadata": {},
   "source": [
    "3. Define a function which can print a dictionary where the keys are numbers between 1 and 3 (both included) and the values are square of keys.\n",
    "Hints:\n",
    "Use dict[key]=value pattern to put entry into a dictionary.\n",
    "Use ** operator to get power of a number.\n"
   ]
  },
  {
   "cell_type": "code",
   "execution_count": 26,
   "id": "3358e7e2",
   "metadata": {},
   "outputs": [
    {
     "name": "stdout",
     "output_type": "stream",
     "text": [
      "{1: 1, 2: 4, 3: 9}\n"
     ]
    }
   ],
   "source": [
    "a=dict()\n",
    "x=1,2,3\n",
    "for i in x:\n",
    "    a[i]=i**2\n",
    "print(a)"
   ]
  },
  {
   "cell_type": "markdown",
   "id": "239cb11b",
   "metadata": {},
   "source": [
    "4. Define a function which can print a dictionary where the keys are numbers between 1 and 20 (both included) and the values are square of keys.\n",
    "Hints:\n",
    "Use dict[key]=value pattern to put entry into a dictionary.\n",
    "Use ** operator to get power of a number.\n",
    "Use range() for loops."
   ]
  },
  {
   "cell_type": "code",
   "execution_count": 27,
   "id": "2b2fe393",
   "metadata": {},
   "outputs": [
    {
     "name": "stdout",
     "output_type": "stream",
     "text": [
      "{1: 1, 2: 4, 3: 9, 4: 16, 5: 25, 6: 36, 7: 49, 8: 64, 9: 81, 10: 100, 11: 121, 12: 144, 13: 169, 14: 196, 15: 225, 16: 256, 17: 289, 18: 324, 19: 361, 20: 400}\n"
     ]
    }
   ],
   "source": [
    "a=dict()\n",
    "def power(x,y):\n",
    "    for i in range(x,y):\n",
    "        a[i]=i**2\n",
    "    print(a)\n",
    "power(1,21)"
   ]
  },
  {
   "cell_type": "markdown",
   "id": "dd366c35",
   "metadata": {},
   "source": [
    "5. Define a function which can generate a dictionary where the keys are numbers between 1 and 20 (both included) and the values are square of keys. The function should just print the values only.\n",
    "Hints:\n",
    "Use dict[key]=value pattern to put entry into a dictionary.\n",
    "Use ** operator to get power of a number.\n",
    "Use range() for loops.\n",
    "Use keys() to iterate keys in the dictionary. Also we can use item() to get key/value pairs.\n"
   ]
  },
  {
   "cell_type": "code",
   "execution_count": 28,
   "id": "49deadff",
   "metadata": {},
   "outputs": [
    {
     "name": "stdout",
     "output_type": "stream",
     "text": [
      "dict_values([1, 4, 9, 16, 25, 36, 49, 64, 81, 100, 121, 144, 169, 196, 225, 256, 289, 324, 361, 400])\n"
     ]
    }
   ],
   "source": [
    " a=dict()\n",
    "def power(x,y):\n",
    "    for i in range(x,y):\n",
    "        a[i]=i**2\n",
    "    print(a.values())\n",
    "power(1,21)"
   ]
  },
  {
   "cell_type": "markdown",
   "id": "bb28669e",
   "metadata": {},
   "source": [
    "6. Define a function which can generate a dictionary where the keys are numbers between 1 and 20 (both included) and the values are square of keys. The function should just print the keys only.\n",
    "Hints:\n",
    "Use dict[key]=value pattern to put entry into a dictionary.\n",
    "Use ** operator to get power of a number.\n",
    "Use range() for loops.\n",
    "Use keys() to iterate keys in the dictionary. Also we can use item() to get key/value pairs."
   ]
  },
  {
   "cell_type": "code",
   "execution_count": 29,
   "id": "00b3a2ab",
   "metadata": {},
   "outputs": [
    {
     "name": "stdout",
     "output_type": "stream",
     "text": [
      "dict_keys([1, 2, 3, 4, 5, 6, 7, 8, 9, 10, 11, 12, 13, 14, 15, 16, 17, 18, 19, 20])\n"
     ]
    }
   ],
   "source": [
    "a=dict()\n",
    "def power(x,y):\n",
    "    for i in range(x,y):\n",
    "        a[i]=i**2\n",
    "    print(a.keys())\n",
    "power(1,21)"
   ]
  },
  {
   "cell_type": "markdown",
   "id": "b6cff724",
   "metadata": {},
   "source": [
    "7.Define a function which can generate and print a list where the values are square of numbers between 1 and 20 (both included).\n",
    "Hints:\n",
    "Use ** operator to get power of a number.\n",
    "Use range() for loops.\n",
    "Use list.append() to add values into a list."
   ]
  },
  {
   "cell_type": "code",
   "execution_count": 30,
   "id": "90d3e9a2",
   "metadata": {},
   "outputs": [
    {
     "name": "stdout",
     "output_type": "stream",
     "text": [
      "[1, 4, 9, 16, 25, 36, 49, 64, 81, 100, 121, 144, 169, 196, 225, 256, 289, 324, 361, 400]\n"
     ]
    }
   ],
   "source": [
    "a=[]\n",
    "def power(x,y):\n",
    "    for i in range(x,y):\n",
    "        z=i**2\n",
    "        a.append(z)\n",
    "    print(a)\n",
    "power(1,21)"
   ]
  },
  {
   "cell_type": "markdown",
   "id": "0aeecf16",
   "metadata": {},
   "source": [
    "8. Define a function which can generate a list where the values are square of numbers between 1 and 20 (both included). Then the function needs to print the first 5 elements in the list.\n",
    "Hints:\n",
    "Use ** operator to get power of a number.\n",
    "Use range() for loops.\n",
    "Use list.append() to add values into a list.\n",
    "Use [n1:n2] to slice a list"
   ]
  },
  {
   "cell_type": "code",
   "execution_count": 31,
   "id": "a0054143",
   "metadata": {},
   "outputs": [
    {
     "name": "stdout",
     "output_type": "stream",
     "text": [
      "[1, 4, 9, 16, 25]\n"
     ]
    }
   ],
   "source": [
    "a=[]\n",
    "def power(x,y):\n",
    "    for i in range(x,y):\n",
    "        z=i**2\n",
    "        a.append(z)\n",
    "    print(a[:5])\n",
    "power(1,21)"
   ]
  },
  {
   "cell_type": "markdown",
   "id": "0b1828d9",
   "metadata": {},
   "source": [
    "9. Define a function which can generate a list where the values are square of numbers between 1 and 20 (both included). Then the function needs to print the last 5 elements in the list.\n",
    "Hints:\n",
    "Use ** operator to get power of a number.\n",
    "Use range() for loops.\n",
    "Use list.append() to add values into a list.\n",
    "Use [n1:n2] to slice a list"
   ]
  },
  {
   "cell_type": "code",
   "execution_count": 32,
   "id": "4264371b",
   "metadata": {},
   "outputs": [
    {
     "name": "stdout",
     "output_type": "stream",
     "text": [
      "[256, 289, 324, 361, 400]\n"
     ]
    }
   ],
   "source": [
    "a=[]\n",
    "def power(x,y):\n",
    "    for i in range(x,y):\n",
    "        z=i**2\n",
    "        a.append(z)\n",
    "    print(a[-5:])\n",
    "power(1,21)"
   ]
  },
  {
   "cell_type": "markdown",
   "id": "4c57d3dc",
   "metadata": {},
   "source": [
    "10. Define a function which can generate a list where the values are square of numbers between 1 and 20 (both included). Then the function needs to print all values except the first 5 elements in the list.\n",
    "Hints:\n",
    "Use ** operator to get power of a number.\n",
    "Use range() for loops.\n",
    "Use list.append() to add values into a list.\n",
    "Use [n1:n2] to slice a list"
   ]
  },
  {
   "cell_type": "code",
   "execution_count": 33,
   "id": "15c013b8",
   "metadata": {},
   "outputs": [
    {
     "name": "stdout",
     "output_type": "stream",
     "text": [
      "[36, 49, 64, 81, 100, 121, 144, 169, 196, 225, 256, 289, 324, 361, 400]\n"
     ]
    }
   ],
   "source": [
    "a=[]\n",
    "def power(x,y):\n",
    "    for i in range(x,y):\n",
    "        z=i**2\n",
    "        a.append(z)\n",
    "    print(a[5:])\n",
    "power(1,21)"
   ]
  },
  {
   "cell_type": "markdown",
   "id": "bfebf0c6",
   "metadata": {},
   "source": [
    "11. Define a function which can generate and print a tuple where the value are square of numbers between 1 and 20 (both included). \n",
    "Hints:\n",
    "Use ** operator to get power of a number.\n",
    "Use range() for loops.\n",
    "Use list.append() to add values into a list.\n",
    "Use tuple() to get a tuple from a list."
   ]
  },
  {
   "cell_type": "code",
   "execution_count": 34,
   "id": "7f2bd661",
   "metadata": {},
   "outputs": [
    {
     "name": "stdout",
     "output_type": "stream",
     "text": [
      "(1, 4, 9, 16, 25, 36, 49, 64, 81, 100, 121, 144, 169, 196, 225, 256, 289, 324, 361, 400)\n"
     ]
    }
   ],
   "source": [
    "a=[]\n",
    "def power(x,y):\n",
    "    for i in range(x,y):\n",
    "        z=i**2\n",
    "        a.append(z)\n",
    "        t=tuple(a)\n",
    "    print(t)\n",
    "power(1,21)"
   ]
  },
  {
   "cell_type": "markdown",
   "id": "e7325f4f",
   "metadata": {},
   "source": [
    "1. With a given tuple (1,2,3,4,5,6,7,8,9,10), write a program to print the first half values in one line and the last half values in one line. \n",
    "Hints:\n",
    "Use [n1:n2] notation to get a slice from a tuple."
   ]
  },
  {
   "cell_type": "code",
   "execution_count": 35,
   "id": "13513c2c",
   "metadata": {},
   "outputs": [
    {
     "name": "stdout",
     "output_type": "stream",
     "text": [
      "(1, 2, 3, 4, 5)\n",
      "(6, 7, 8, 9, 10)\n"
     ]
    }
   ],
   "source": [
    "a=(1,2,3,4,5,6,7,8,9,10)\n",
    "print(a[:5])\n",
    "print(a[5:])"
   ]
  },
  {
   "cell_type": "markdown",
   "id": "0fb1f0d6",
   "metadata": {},
   "source": [
    "2. Write a program to generate and print another tuple whose values are even numbers in the given tuple (1,2,3,4,5,6,7,8,9,10). \n",
    "Hints:\n",
    "Use \"for\" to iterate the tuple\n",
    "Use tuple() to generate a tuple from a list."
   ]
  },
  {
   "cell_type": "code",
   "execution_count": 36,
   "id": "dd1bd993",
   "metadata": {},
   "outputs": [
    {
     "name": "stdout",
     "output_type": "stream",
     "text": [
      "(2, 4, 6, 8, 10)\n"
     ]
    }
   ],
   "source": [
    "a=(1,2,3,4,5,6,7,8,9,10)\n",
    "b=[]\n",
    "for i in a:\n",
    "    if i%2==0:\n",
    "        b.append(i)\n",
    "x=tuple(b)\n",
    "print(x)"
   ]
  },
  {
   "cell_type": "markdown",
   "id": "d9eba5c1",
   "metadata": {},
   "source": [
    "3. Write a program which accepts a string as input to print \"Yes\" if the string is \"yes\" or \"YES\" or \"Yes\", otherwise print \"No\". \n",
    "Hints:\n",
    "Use if statement to judge condition."
   ]
  },
  {
   "cell_type": "code",
   "execution_count": 38,
   "id": "bb62c0bd",
   "metadata": {},
   "outputs": [
    {
     "name": "stdout",
     "output_type": "stream",
     "text": [
      "yes\n",
      "Yes\n"
     ]
    }
   ],
   "source": [
    "a=input()\n",
    "if a==\"yes\":\n",
    "    print(\"Yes\")\n",
    "elif a==\"YES\":\n",
    "    print(\"Yes\")\n",
    "elif a==\"Yes\":\n",
    "    print(\"Yes\")\n",
    "else:\n",
    "    print(\"no\")"
   ]
  },
  {
   "cell_type": "markdown",
   "id": "ce86ef15",
   "metadata": {},
   "source": [
    "4. Write a program which can filter even numbers in a list by using filter function. The list is: [1,2,3,4,5,6,7,8,9,10].\n",
    "Hints:\n",
    "Use filter() to filter some elements in a list.\n",
    "Use lambda to define anonymous functions."
   ]
  },
  {
   "cell_type": "code",
   "execution_count": 39,
   "id": "f3271c09",
   "metadata": {},
   "outputs": [
    {
     "name": "stdout",
     "output_type": "stream",
     "text": [
      "(2, 4, 6, 8, 10)\n"
     ]
    }
   ],
   "source": [
    "a=[1,2,3,4,5,6,7,8,9,10]\n",
    "t1=tuple(filter(lambda x:(x%2==0),a))\n",
    "print(t1)"
   ]
  },
  {
   "cell_type": "markdown",
   "id": "c9697d55",
   "metadata": {},
   "source": [
    "5. Write a program which can map() to make a list whose elements are square of elements in [1,2,3,4,5,6,7,8,9,10].\n",
    "Hints:\n",
    "Use map() to generate a list.\n",
    "Use lambda to define anonymous functions."
   ]
  },
  {
   "cell_type": "code",
   "execution_count": 40,
   "id": "edf7a2e8",
   "metadata": {},
   "outputs": [
    {
     "name": "stdout",
     "output_type": "stream",
     "text": [
      "[1, 4, 9, 16, 25, 36, 49, 64, 81, 100]\n"
     ]
    }
   ],
   "source": [
    "a=[1,2,3,4,5,6,7,8,9,10]\n",
    "li=list(map(lambda x:x**2,a))\n",
    "print(li)"
   ]
  },
  {
   "cell_type": "markdown",
   "id": "436e4daf",
   "metadata": {},
   "source": [
    "6. Write a program which can map() and filter() to make a list whose elements are square of even number in [1,2,3,4,5,6,7,8,9,10].\n",
    "Hints:\n",
    "Use map() to generate a list.\n",
    "Use filter() to filter elements of a list.\n",
    "Use lambda to define anonymous functions."
   ]
  },
  {
   "cell_type": "code",
   "execution_count": 41,
   "id": "156f95b1",
   "metadata": {},
   "outputs": [
    {
     "name": "stdout",
     "output_type": "stream",
     "text": [
      "[4, 8, 12, 16, 20]\n"
     ]
    }
   ],
   "source": [
    "a=[1,2,3,4,5,6,7,8,9,10]\n",
    "x=list(filter(lambda x:(x%2==0),a))\n",
    "y=list(map(lambda x:x*2,x))\n",
    "print(y)\n",
    "\n"
   ]
  },
  {
   "cell_type": "markdown",
   "id": "e17cf431",
   "metadata": {},
   "source": [
    "7. Write a program which can filter() to make a list whose elements are even number between 1 and 20 (both included).\n",
    "Hints:\n",
    "Use filter() to filter elements of a list.\n",
    "Use lambda to define anonymous functions."
   ]
  },
  {
   "cell_type": "code",
   "execution_count": 42,
   "id": "32f994e2",
   "metadata": {},
   "outputs": [
    {
     "name": "stdout",
     "output_type": "stream",
     "text": [
      "[2, 4, 6, 8, 10, 12, 14, 16, 18, 20]\n"
     ]
    }
   ],
   "source": [
    "b=[]\n",
    "for i in range(1,21):\n",
    "    b.append(i)\n",
    "x=list(filter(lambda x:(x%2)==0,b))\n",
    "print(x)"
   ]
  },
  {
   "cell_type": "markdown",
   "id": "0bc477e5",
   "metadata": {},
   "source": [
    " 8. Write a program which can map() to make a list whose elements are square of numbers between 1 and 20 (both included).\n",
    "Hints:\n",
    "Use map() to generate a list.\n",
    "Use lambda to define anonymous functions."
   ]
  },
  {
   "cell_type": "code",
   "execution_count": 45,
   "id": "66fade8e",
   "metadata": {},
   "outputs": [
    {
     "name": "stdout",
     "output_type": "stream",
     "text": [
      "[1, 4, 9, 16, 25, 36, 49, 64, 81, 100, 121, 144, 169, 196, 225, 256, 289, 324, 361, 400]\n"
     ]
    }
   ],
   "source": [
    "b=[]\n",
    "for i in range(1,21):\n",
    "    b.append(i)\n",
    "x=list(map(lambda x:(x**2),b))\n",
    "print(x)"
   ]
  },
  {
   "cell_type": "markdown",
   "id": "6377f4c8",
   "metadata": {},
   "source": [
    " program that prints the squares of numbers in a given list"
   ]
  },
  {
   "cell_type": "code",
   "execution_count": 52,
   "id": "43e83c2d",
   "metadata": {},
   "outputs": [
    {
     "name": "stdout",
     "output_type": "stream",
     "text": [
      "data :1,10,20,30\n",
      "[1, 100, 400, 900]\n"
     ]
    }
   ],
   "source": [
    "b=eval(input(\"data :\"))\n",
    "b=list(b)\n",
    "x=list(map(lambda x:(x**2),b))\n",
    "print(x)"
   ]
  },
  {
   "cell_type": "markdown",
   "id": "9c1e2a0f",
   "metadata": {},
   "source": [
    "Program to Find Numbers Divisible by Another Number"
   ]
  },
  {
   "cell_type": "code",
   "execution_count": 51,
   "id": "2acd9dbf",
   "metadata": {},
   "outputs": [
    {
     "name": "stdout",
     "output_type": "stream",
     "text": [
      "enter a numerater   :6\n",
      "Enter a denominator :3\n",
      "6 is divisible by 3\n"
     ]
    }
   ],
   "source": [
    "a=int(input(\"enter a numerater   :\"))\n",
    "b=int(input(\"Enter a denominator :\"))\n",
    "if a%b==0:\n",
    "    print(a,\"is divisible by\",b)\n",
    "else:\n",
    "    print(a,\"is not divisible by\",b)"
   ]
  },
  {
   "cell_type": "code",
   "execution_count": null,
   "id": "c079f7e6",
   "metadata": {},
   "outputs": [],
   "source": []
  }
 ],
 "metadata": {
  "kernelspec": {
   "display_name": "Python 3 (ipykernel)",
   "language": "python",
   "name": "python3"
  },
  "language_info": {
   "codemirror_mode": {
    "name": "ipython",
    "version": 3
   },
   "file_extension": ".py",
   "mimetype": "text/x-python",
   "name": "python",
   "nbconvert_exporter": "python",
   "pygments_lexer": "ipython3",
   "version": "3.9.13"
  }
 },
 "nbformat": 4,
 "nbformat_minor": 5
}
