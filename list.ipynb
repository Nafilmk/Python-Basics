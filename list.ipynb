{
 "cells": [
  {
   "cell_type": "code",
   "execution_count": 1,
   "id": "ca53236a",
   "metadata": {},
   "outputs": [
    {
     "name": "stdout",
     "output_type": "stream",
     "text": [
      "a\n"
     ]
    }
   ],
   "source": [
    "x=[\"a\",\"b\",5,10]\n",
    "print(x[0])"
   ]
  },
  {
   "cell_type": "code",
   "execution_count": 2,
   "id": "fdabb52a",
   "metadata": {},
   "outputs": [
    {
     "name": "stdout",
     "output_type": "stream",
     "text": [
      "b\n"
     ]
    }
   ],
   "source": [
    "print(x[1])"
   ]
  },
  {
   "cell_type": "code",
   "execution_count": 3,
   "id": "1946af07",
   "metadata": {},
   "outputs": [
    {
     "name": "stdout",
     "output_type": "stream",
     "text": [
      "10\n"
     ]
    }
   ],
   "source": [
    "print(x[3])"
   ]
  },
  {
   "cell_type": "code",
   "execution_count": 4,
   "id": "b860c687",
   "metadata": {},
   "outputs": [
    {
     "name": "stdout",
     "output_type": "stream",
     "text": [
      "[100, 200, 300, 400, 500, 600, 700, 800]\n"
     ]
    }
   ],
   "source": [
    "z=[100,200,300,400,500,600,700,800]\n",
    "print(z)"
   ]
  },
  {
   "cell_type": "code",
   "execution_count": 5,
   "id": "d4e57841",
   "metadata": {},
   "outputs": [
    {
     "name": "stdout",
     "output_type": "stream",
     "text": [
      "[100, 200, 300]\n"
     ]
    }
   ],
   "source": [
    "print(z[:3])"
   ]
  },
  {
   "cell_type": "code",
   "execution_count": 6,
   "id": "07bd014b",
   "metadata": {},
   "outputs": [
    {
     "name": "stdout",
     "output_type": "stream",
     "text": [
      "[500, 600, 700, 800]\n"
     ]
    }
   ],
   "source": [
    "print(z[4:])"
   ]
  },
  {
   "cell_type": "code",
   "execution_count": 7,
   "id": "790be081",
   "metadata": {},
   "outputs": [
    {
     "name": "stdout",
     "output_type": "stream",
     "text": [
      "[300, 400, 500]\n"
     ]
    }
   ],
   "source": [
    "print(z[2:5])"
   ]
  },
  {
   "cell_type": "code",
   "execution_count": 8,
   "id": "78e9a549",
   "metadata": {},
   "outputs": [],
   "source": [
    "z[2]=1000"
   ]
  },
  {
   "cell_type": "code",
   "execution_count": 9,
   "id": "6ff34a83",
   "metadata": {},
   "outputs": [
    {
     "data": {
      "text/plain": [
       "[100, 200, 1000, 400, 500, 600, 700, 800]"
      ]
     },
     "execution_count": 9,
     "metadata": {},
     "output_type": "execute_result"
    }
   ],
   "source": [
    "z"
   ]
  },
  {
   "cell_type": "code",
   "execution_count": 10,
   "id": "55899645",
   "metadata": {},
   "outputs": [],
   "source": [
    "z.append(399)"
   ]
  },
  {
   "cell_type": "code",
   "execution_count": 11,
   "id": "b1cefbed",
   "metadata": {},
   "outputs": [
    {
     "data": {
      "text/plain": [
       "[100, 200, 1000, 400, 500, 600, 700, 800, 399]"
      ]
     },
     "execution_count": 11,
     "metadata": {},
     "output_type": "execute_result"
    }
   ],
   "source": [
    "z"
   ]
  },
  {
   "cell_type": "code",
   "execution_count": 12,
   "id": "aeef8c6a",
   "metadata": {},
   "outputs": [],
   "source": [
    "z.extend([2,3,5])"
   ]
  },
  {
   "cell_type": "code",
   "execution_count": 13,
   "id": "322a5c2d",
   "metadata": {},
   "outputs": [
    {
     "data": {
      "text/plain": [
       "[100, 200, 1000, 400, 500, 600, 700, 800, 399, 2, 3, 5]"
      ]
     },
     "execution_count": 13,
     "metadata": {},
     "output_type": "execute_result"
    }
   ],
   "source": [
    "z"
   ]
  },
  {
   "cell_type": "code",
   "execution_count": 14,
   "id": "1428b39c",
   "metadata": {},
   "outputs": [],
   "source": [
    "z.insert(3,1002)"
   ]
  },
  {
   "cell_type": "code",
   "execution_count": 15,
   "id": "18ecac7a",
   "metadata": {},
   "outputs": [
    {
     "data": {
      "text/plain": [
       "[100, 200, 1000, 1002, 400, 500, 600, 700, 800, 399, 2, 3, 5]"
      ]
     },
     "execution_count": 15,
     "metadata": {},
     "output_type": "execute_result"
    }
   ],
   "source": [
    "z"
   ]
  },
  {
   "cell_type": "code",
   "execution_count": null,
   "id": "571618c4",
   "metadata": {},
   "outputs": [],
   "source": []
  },
  {
   "cell_type": "markdown",
   "id": "70f50890",
   "metadata": {},
   "source": [
    "# append "
   ]
  },
  {
   "cell_type": "code",
   "execution_count": 16,
   "id": "664d4cd0",
   "metadata": {},
   "outputs": [
    {
     "name": "stdout",
     "output_type": "stream",
     "text": [
      "45\n",
      "[1, 2, 3, 4, 5, 6, 7, 8, 45]\n"
     ]
    }
   ],
   "source": [
    "a=[1,2,3,4,5,6,7,8]\n",
    "b=int(input())\n",
    "a.append(b)\n",
    "print(a)"
   ]
  },
  {
   "cell_type": "markdown",
   "id": "0e608064",
   "metadata": {},
   "source": [
    "# insert"
   ]
  },
  {
   "cell_type": "code",
   "execution_count": 22,
   "id": "3085f648",
   "metadata": {},
   "outputs": [
    {
     "name": "stdout",
     "output_type": "stream",
     "text": [
      "enter your position :4\n",
      "enter your number :55\n",
      "[1, 2, 3, 4, 55, 5, 6, 7, 8]\n"
     ]
    }
   ],
   "source": [
    "a=[1,2,3,4,5,6,7,8]\n",
    "b=int(input(\"enter your position :\"))\n",
    "c=int(input(\"enter your number :\"))\n",
    "a.insert(b,c)\n",
    "print(a)"
   ]
  },
  {
   "cell_type": "markdown",
   "id": "c2795305",
   "metadata": {},
   "source": [
    "# extend"
   ]
  },
  {
   "cell_type": "code",
   "execution_count": 26,
   "id": "43d181ab",
   "metadata": {},
   "outputs": [
    {
     "name": "stdout",
     "output_type": "stream",
     "text": [
      "[1, 2, 3, 4, 5, 6, 7, 8, 9, 64, 88]\n"
     ]
    }
   ],
   "source": [
    "a=[1,2,3,4,5,6,7,8]\n",
    "a.extend([9,64,88])\n",
    "print(a)"
   ]
  },
  {
   "cell_type": "code",
   "execution_count": 28,
   "id": "67942d16",
   "metadata": {},
   "outputs": [
    {
     "data": {
      "text/plain": [
       "[1, 2, 3, 4, 5, 8, 9, 64, 88]"
      ]
     },
     "execution_count": 28,
     "metadata": {},
     "output_type": "execute_result"
    }
   ],
   "source": [
    "del a[5]\n",
    "a"
   ]
  },
  {
   "cell_type": "code",
   "execution_count": 29,
   "id": "a8e32267",
   "metadata": {},
   "outputs": [
    {
     "data": {
      "text/plain": [
       "[1, 2, 3, 4, 5, 9, 64, 88]"
      ]
     },
     "execution_count": 29,
     "metadata": {},
     "output_type": "execute_result"
    }
   ],
   "source": [
    "a.remove(8)\n",
    "a"
   ]
  },
  {
   "cell_type": "code",
   "execution_count": 31,
   "id": "2548acf5",
   "metadata": {},
   "outputs": [
    {
     "data": {
      "text/plain": [
       "[1, 2, 3, 4, 5, 9]"
      ]
     },
     "execution_count": 31,
     "metadata": {},
     "output_type": "execute_result"
    }
   ],
   "source": [
    "a.pop()\n",
    "a"
   ]
  },
  {
   "cell_type": "code",
   "execution_count": 32,
   "id": "94f93f81",
   "metadata": {},
   "outputs": [
    {
     "data": {
      "text/plain": [
       "1"
      ]
     },
     "execution_count": 32,
     "metadata": {},
     "output_type": "execute_result"
    }
   ],
   "source": [
    "a.count(5)"
   ]
  },
  {
   "cell_type": "code",
   "execution_count": 34,
   "id": "7389281c",
   "metadata": {},
   "outputs": [
    {
     "data": {
      "text/plain": [
       "[1, 2, 3, 4, 5, 6, 7, 8]"
      ]
     },
     "execution_count": 34,
     "metadata": {},
     "output_type": "execute_result"
    }
   ],
   "source": [
    "l1=[1,2,3,4]\n",
    "l2=[5,6,7,8]\n",
    "l1.extend(l2)\n",
    "l1"
   ]
  },
  {
   "cell_type": "code",
   "execution_count": 35,
   "id": "92c1a576",
   "metadata": {},
   "outputs": [
    {
     "data": {
      "text/plain": [
       "[5, 6, 7, 8]"
      ]
     },
     "execution_count": 35,
     "metadata": {},
     "output_type": "execute_result"
    }
   ],
   "source": [
    "l2"
   ]
  },
  {
   "cell_type": "code",
   "execution_count": 36,
   "id": "e0a030cd",
   "metadata": {},
   "outputs": [
    {
     "data": {
      "text/plain": [
       "[5, 6, 7, 8, 1, 2, 3, 4, 5, 6, 7, 8]"
      ]
     },
     "execution_count": 36,
     "metadata": {},
     "output_type": "execute_result"
    }
   ],
   "source": [
    "l2.extend(l1)\n",
    "l2"
   ]
  },
  {
   "cell_type": "code",
   "execution_count": 38,
   "id": "7e9591e1",
   "metadata": {},
   "outputs": [
    {
     "data": {
      "text/plain": [
       "[1, 2, 3, 4, 5, 6, 7, 8]"
      ]
     },
     "execution_count": 38,
     "metadata": {},
     "output_type": "execute_result"
    }
   ],
   "source": [
    "l1"
   ]
  },
  {
   "cell_type": "code",
   "execution_count": 39,
   "id": "2d152b8e",
   "metadata": {},
   "outputs": [
    {
     "data": {
      "text/plain": [
       "[5, 6, 7, 8, 1, 2, 3, 4, 5, 6, 7, 8]"
      ]
     },
     "execution_count": 39,
     "metadata": {},
     "output_type": "execute_result"
    }
   ],
   "source": [
    "l2"
   ]
  },
  {
   "cell_type": "code",
   "execution_count": 43,
   "id": "073402e8",
   "metadata": {},
   "outputs": [
    {
     "data": {
      "text/plain": [
       "2"
      ]
     },
     "execution_count": 43,
     "metadata": {},
     "output_type": "execute_result"
    }
   ],
   "source": [
    "l1=[\"mango\",\"pappaya\",\"banana\",\"kiwi\",\"chiku\"]\n",
    "l1.index(\"banana\")"
   ]
  },
  {
   "cell_type": "code",
   "execution_count": 52,
   "id": "1d52bf31",
   "metadata": {},
   "outputs": [
    {
     "data": {
      "text/plain": [
       "['pappaya', 'banana', 'kiwi', 'orange', 'chiku']"
      ]
     },
     "execution_count": 52,
     "metadata": {},
     "output_type": "execute_result"
    }
   ],
   "source": [
    "l1.insert(3,\"orange\")\n",
    "l1"
   ]
  },
  {
   "cell_type": "code",
   "execution_count": 53,
   "id": "6325c10b",
   "metadata": {},
   "outputs": [
    {
     "data": {
      "text/plain": [
       "['pappaya', 'banana', 'kiwi', 'orange', 'chiku']"
      ]
     },
     "execution_count": 53,
     "metadata": {},
     "output_type": "execute_result"
    }
   ],
   "source": [
    "l1\n"
   ]
  },
  {
   "cell_type": "code",
   "execution_count": 54,
   "id": "f81a2309",
   "metadata": {},
   "outputs": [],
   "source": [
    "l1.remove(\"orange\")"
   ]
  },
  {
   "cell_type": "code",
   "execution_count": 55,
   "id": "6ef90e95",
   "metadata": {},
   "outputs": [
    {
     "data": {
      "text/plain": [
       "['pappaya', 'banana', 'kiwi', 'chiku']"
      ]
     },
     "execution_count": 55,
     "metadata": {},
     "output_type": "execute_result"
    }
   ],
   "source": [
    "l1"
   ]
  },
  {
   "cell_type": "code",
   "execution_count": 1,
   "id": "b5db9c86",
   "metadata": {},
   "outputs": [
    {
     "data": {
      "text/plain": [
       "[1, 2, 3, 4, 5]"
      ]
     },
     "execution_count": 1,
     "metadata": {},
     "output_type": "execute_result"
    }
   ],
   "source": [
    "l1=[1,2,3,4,5]\n",
    "l2=[]\n",
    "l2=l1\n",
    "l2"
   ]
  },
  {
   "cell_type": "code",
   "execution_count": 2,
   "id": "00b0c658",
   "metadata": {},
   "outputs": [
    {
     "data": {
      "text/plain": [
       "[1, 2, 3, 4, 5]"
      ]
     },
     "execution_count": 2,
     "metadata": {},
     "output_type": "execute_result"
    }
   ],
   "source": [
    "l1"
   ]
  },
  {
   "cell_type": "code",
   "execution_count": 6,
   "id": "7ae8c5c6",
   "metadata": {},
   "outputs": [
    {
     "data": {
      "text/plain": [
       "[5, 4, 3, 2, 1]"
      ]
     },
     "execution_count": 6,
     "metadata": {},
     "output_type": "execute_result"
    }
   ],
   "source": [
    "l1.reverse()\n",
    "l1"
   ]
  },
  {
   "cell_type": "code",
   "execution_count": 8,
   "id": "31d22772",
   "metadata": {},
   "outputs": [
    {
     "data": {
      "text/plain": [
       "[11, 34, 46, 98]"
      ]
     },
     "execution_count": 8,
     "metadata": {},
     "output_type": "execute_result"
    }
   ],
   "source": [
    "l1=[98,46,34,11]\n",
    "l1.sort()\n",
    "l1"
   ]
  },
  {
   "cell_type": "code",
   "execution_count": 9,
   "id": "9e2b67b6",
   "metadata": {},
   "outputs": [
    {
     "data": {
      "text/plain": [
       "[35, 25, 15, 9, 5]"
      ]
     },
     "execution_count": 9,
     "metadata": {},
     "output_type": "execute_result"
    }
   ],
   "source": [
    "l1=[15,5,9,25,35]\n",
    "l1.sort(reverse=True)\n",
    "l1"
   ]
  },
  {
   "cell_type": "code",
   "execution_count": 11,
   "id": "b15fccec",
   "metadata": {},
   "outputs": [
    {
     "data": {
      "text/plain": [
       "['a', 'b', 'c', 'g', 'r']"
      ]
     },
     "execution_count": 11,
     "metadata": {},
     "output_type": "execute_result"
    }
   ],
   "source": [
    "l1=['a',\"g\",\"r\",\"c\",\"b\"]\n",
    "l1.sort()\n",
    "l1"
   ]
  },
  {
   "cell_type": "code",
   "execution_count": 13,
   "id": "73170c0c",
   "metadata": {},
   "outputs": [
    {
     "data": {
      "text/plain": [
       "['r', 'g', 'c', 'b', 'a']"
      ]
     },
     "execution_count": 13,
     "metadata": {},
     "output_type": "execute_result"
    }
   ],
   "source": [
    "l1.sort(reverse=True)\n",
    "l1"
   ]
  },
  {
   "cell_type": "code",
   "execution_count": 14,
   "id": "4f6a5fc7",
   "metadata": {},
   "outputs": [
    {
     "data": {
      "text/plain": [
       "['apple', 'banana', 'mango', 'pappaya']"
      ]
     },
     "execution_count": 14,
     "metadata": {},
     "output_type": "execute_result"
    }
   ],
   "source": [
    "l1=['mango','apple',\"pappaya\",'banana']\n",
    "l1.sort()\n",
    "l1"
   ]
  },
  {
   "cell_type": "code",
   "execution_count": 15,
   "id": "c501d009",
   "metadata": {},
   "outputs": [
    {
     "data": {
      "text/plain": [
       "['pappaya', 'mango', 'banana', 'apple']"
      ]
     },
     "execution_count": 15,
     "metadata": {},
     "output_type": "execute_result"
    }
   ],
   "source": [
    "l1.sort(reverse=True)\n",
    "l1"
   ]
  },
  {
   "cell_type": "code",
   "execution_count": null,
   "id": "0e2eb009",
   "metadata": {},
   "outputs": [],
   "source": []
  }
 ],
 "metadata": {
  "kernelspec": {
   "display_name": "Python 3 (ipykernel)",
   "language": "python",
   "name": "python3"
  },
  "language_info": {
   "codemirror_mode": {
    "name": "ipython",
    "version": 3
   },
   "file_extension": ".py",
   "mimetype": "text/x-python",
   "name": "python",
   "nbconvert_exporter": "python",
   "pygments_lexer": "ipython3",
   "version": "3.9.13"
  }
 },
 "nbformat": 4,
 "nbformat_minor": 5
}
