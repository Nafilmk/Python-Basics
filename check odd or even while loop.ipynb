{
 "cells": [
  {
   "cell_type": "markdown",
   "id": "d89a242c",
   "metadata": {},
   "source": [
    "check odd or even number"
   ]
  },
  {
   "cell_type": "code",
   "execution_count": 4,
   "id": "40077c97",
   "metadata": {},
   "outputs": [
    {
     "name": "stdout",
     "output_type": "stream",
     "text": [
      "enter a number :25\n",
      "2,4,6,8,10,12,14,16,18,20,22,24,"
     ]
    }
   ],
   "source": [
    "a=int(input(\"enter a number :\"))\n",
    "b=1\n",
    "while b<=a:\n",
    "    if b%2==0:\n",
    "        print(b,end=',')\n",
    "    b=b+1"
   ]
  },
  {
   "cell_type": "code",
   "execution_count": 6,
   "id": "aa97699f",
   "metadata": {},
   "outputs": [
    {
     "name": "stdout",
     "output_type": "stream",
     "text": [
      "enter a number :20\n",
      "1,3,5,7,9,11,13,15,17,19,"
     ]
    }
   ],
   "source": [
    " a=int(input(\"enter a number :\"))\n",
    "b=1\n",
    "while b<=a:\n",
    "    if b%2==1:\n",
    "        print(b,end=',')\n",
    "    b=b+1"
   ]
  },
  {
   "cell_type": "code",
   "execution_count": null,
   "id": "b368dfe6",
   "metadata": {},
   "outputs": [],
   "source": []
  },
  {
   "cell_type": "code",
   "execution_count": null,
   "id": "af817f90",
   "metadata": {},
   "outputs": [],
   "source": []
  },
  {
   "cell_type": "code",
   "execution_count": null,
   "id": "c25327d4",
   "metadata": {},
   "outputs": [],
   "source": []
  }
 ],
 "metadata": {
  "kernelspec": {
   "display_name": "Python 3 (ipykernel)",
   "language": "python",
   "name": "python3"
  },
  "language_info": {
   "codemirror_mode": {
    "name": "ipython",
    "version": 3
   },
   "file_extension": ".py",
   "mimetype": "text/x-python",
   "name": "python",
   "nbconvert_exporter": "python",
   "pygments_lexer": "ipython3",
   "version": "3.9.13"
  }
 },
 "nbformat": 4,
 "nbformat_minor": 5
}
