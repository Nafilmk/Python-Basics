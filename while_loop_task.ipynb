{
  "cells": [
    {
      "cell_type": "markdown",
      "metadata": {
        "id": "y0kILNkvlXGF"
      },
      "source": [
        "**create a multiplication table**\n",
        "\n",
        "> Indented block\n",
        "\n"
      ]
    },
    {
      "cell_type": "code",
      "execution_count": null,
      "metadata": {
        "colab": {
          "base_uri": "https://localhost:8080/"
        },
        "id": "D1VbQb57lMHD",
        "outputId": "c8752dfa-0024-41fd-e8ed-9e0d2fd5600c"
      },
      "outputs": [
        {
          "name": "stdout",
          "output_type": "stream",
          "text": [
            "5 x 1 = 5\n",
            "5 x 2 = 10\n",
            "5 x 3 = 15\n",
            "5 x 4 = 20\n",
            "5 x 5 = 25\n",
            "5 x 6 = 30\n",
            "5 x 7 = 35\n",
            "5 x 8 = 40\n",
            "5 x 9 = 45\n",
            "5 x 10 = 50\n"
          ]
        }
      ],
      "source": [
        "mlt=5\n",
        "a=1\n",
        "while a<=10:\n",
        "  print(mlt,\"x\",a,\"=\",mlt*a)\n",
        "  a=a+1"
      ]
    },
    {
      "cell_type": "markdown",
      "metadata": {
        "id": "_myqrV1toXGk"
      },
      "source": [
        " Program to add natural numbers up to sum = 1+2+3+...+n"
      ]
    },
    {
      "cell_type": "code",
      "execution_count": null,
      "metadata": {
        "colab": {
          "base_uri": "https://localhost:8080/"
        },
        "id": "2M9cZkTcob62",
        "outputId": "d61e2a91-eaec-481f-b9e1-5163a9469b78"
      },
      "outputs": [
        {
          "output_type": "stream",
          "name": "stdout",
          "text": [
            "Enter a number: 5\n",
            "The sum of natural numbers is : 15\n"
          ]
        }
      ],
      "source": [
        "n=int(input(\"Enter a number: \"))\n",
        "sum1 = 0\n",
        "while(n > 0):\n",
        "    sum1=sum1+n\n",
        "    n=n-1\n",
        "print(\"The sum of natural numbers is :\",sum1)"
      ]
    },
    {
      "cell_type": "markdown",
      "metadata": {
        "id": "FQnS8H3_tHy5"
      },
      "source": [
        "**simple fibonacci series**"
      ]
    },
    {
      "cell_type": "code",
      "execution_count": null,
      "metadata": {
        "colab": {
          "base_uri": "https://localhost:8080/"
        },
        "id": "hpzMie_cqN0Y",
        "outputId": "acf79a0e-5e36-4562-e9bb-6e59ef75f011"
      },
      "outputs": [
        {
          "name": "stdout",
          "output_type": "stream",
          "text": [
            "Please Enter the Range : 10\n",
            "0\n",
            "1\n",
            "1\n",
            "2\n",
            "3\n",
            "5\n",
            "8\n",
            "13\n",
            "21\n",
            "34\n"
          ]
        }
      ],
      "source": [
        "Number = int(input(\"Please Enter the Range : \"))\n",
        "i = 0\n",
        "a = 0\n",
        "b = 1\n",
        "while(i < Number):\n",
        "    if(i <= 1):\n",
        "        sum = i\n",
        "    else:\n",
        "        sum = a + b\n",
        "        a = b\n",
        "        b = sum\n",
        "    print(sum)\n",
        "    i = i + 1"
      ]
    },
    {
      "cell_type": "markdown",
      "metadata": {
        "id": "avmhygsew-ys"
      },
      "source": [
        ":**Print even and odd numbers between 1 to the entered number.**"
      ]
    },
    {
      "cell_type": "code",
      "execution_count": null,
      "metadata": {
        "colab": {
          "base_uri": "https://localhost:8080/"
        },
        "id": "b0B7pvd2tJs9",
        "outputId": "3b34152f-f402-4adc-b758-ca3056233e7f"
      },
      "outputs": [
        {
          "name": "stdout",
          "output_type": "stream",
          "text": [
            "enter a limit :11\n",
            "odd  : 1\n",
            "even : 2\n",
            "odd  : 3\n",
            "even : 4\n",
            "odd  : 5\n",
            "even : 6\n",
            "odd  : 7\n",
            "even : 8\n",
            "odd  : 9\n",
            "even : 10\n",
            "odd  : 11\n"
          ]
        }
      ],
      "source": [
        "a=int(input(\"enter a limit :\"))\n",
        "n=1\n",
        "while (n<=a):\n",
        "  if(n%2==0):\n",
        "    print(\"even :\",n)\n",
        "  else:\n",
        "    print(\"odd  :\",n)\n",
        "  n=n+1"
      ]
    },
    {
      "cell_type": "markdown",
      "metadata": {
        "id": "MVvRX4Zey9zZ"
      },
      "source": [
        "**printing the square of odd numbers less than n**"
      ]
    },
    {
      "cell_type": "code",
      "execution_count": null,
      "metadata": {
        "colab": {
          "base_uri": "https://localhost:8080/"
        },
        "id": "G3EcmWkFxgER",
        "outputId": "a05b3ae6-b126-44b6-db1d-eeca45b15644"
      },
      "outputs": [
        {
          "output_type": "stream",
          "name": "stdout",
          "text": [
            " Please Enter the Maximum number : 10\n",
            "1\n",
            "9\n",
            "25\n",
            "49\n",
            "81\n"
          ]
        }
      ],
      "source": [
        "num = int(input(\" Please Enter the Maximum number : \"))\n",
        "n = 1\n",
        "while n <= num:\n",
        "    if(n % 2 != 0):\n",
        "        print(n*n)\n",
        "    n = n + 1"
      ]
    },
    {
      "cell_type": "markdown",
      "metadata": {
        "id": "jrMmVBBj4P_a"
      },
      "source": [
        "Add all even numbers from 1 to 10 using while loop"
      ]
    },
    {
      "cell_type": "code",
      "execution_count": null,
      "metadata": {
        "colab": {
          "base_uri": "https://localhost:8080/"
        },
        "id": "ySjUxIu64WoB",
        "outputId": "ed41dc0a-1a63-4d5f-f34f-ffbd43bd3bf7"
      },
      "outputs": [
        {
          "output_type": "stream",
          "name": "stdout",
          "text": [
            "30\n"
          ]
        }
      ],
      "source": [
        "n = 1\n",
        "sum=0\n",
        "while n <= 10:\n",
        "    if(n % 2 == 0):\n",
        "        sum=sum+n\n",
        "    n = n + 1\n",
        "print(sum)"
      ]
    },
    {
      "cell_type": "markdown",
      "source": [
        "Write a code to add all the prime numbers between 17 to 53 using while loop"
      ],
      "metadata": {
        "id": "LiaI_G86pLCL"
      }
    },
    {
      "cell_type": "code",
      "execution_count": null,
      "metadata": {
        "colab": {
          "base_uri": "https://localhost:8080/"
        },
        "id": "GG1hlQsw5BdB",
        "outputId": "d81adf13-5572-4f4a-e8d3-bb252d2b98eb"
      },
      "outputs": [
        {
          "output_type": "stream",
          "name": "stdout",
          "text": [
            " Please Enter the Minimum Value: 17\n",
            " Please Enter the Maximum Value: 53\n",
            "17  19  23  29  31  37  41  43  47  53  "
          ]
        }
      ],
      "source": [
        "minimum = int(input(\" Please Enter the Minimum Value: \"))\n",
        "maximum = int(input(\" Please Enter the Maximum Value: \"))\n",
        "Number = minimum\n",
        "while(Number <= maximum):\n",
        "    count = 0\n",
        "    i = 2\n",
        "    while(i <= Number//2):\n",
        "        if(Number % i == 0):\n",
        "            count = count + 1\n",
        "            break\n",
        "        i = i + 1\n",
        "    if (count == 0 and Number != 1):\n",
        "        print(Number, end = '  ')\n",
        "    Number = Number  + 1"
      ]
    },
    {
      "cell_type": "markdown",
      "source": [
        "53Use while loop to print numbers from 1 to 6"
      ],
      "metadata": {
        "id": "FLSbyeYMqnF4"
      }
    },
    {
      "cell_type": "code",
      "execution_count": null,
      "metadata": {
        "id": "3DOM5cTM8BRe",
        "colab": {
          "base_uri": "https://localhost:8080/"
        },
        "outputId": "830f3e38-a92e-481d-b0d6-47ba1b31a490"
      },
      "outputs": [
        {
          "output_type": "stream",
          "name": "stdout",
          "text": [
            "1\n",
            "2\n",
            "3\n",
            "4\n",
            "5\n",
            "6\n"
          ]
        }
      ],
      "source": [
        "a=1\n",
        "b=6\n",
        "while (a<=b):\n",
        "  print(a)\n",
        "  a=a+1\n",
        "   "
      ]
    },
    {
      "cell_type": "markdown",
      "source": [
        "printing odd numbers less than `n`"
      ],
      "metadata": {
        "id": "YW61KsUureQN"
      }
    },
    {
      "cell_type": "code",
      "source": [
        "num = int(input(\" Please Enter the Maximum number : \"))\n",
        "n = 1\n",
        "while n <= num:\n",
        "    if(n % 2 != 0):\n",
        "        print(n)\n",
        "    n = n + 1"
      ],
      "metadata": {
        "colab": {
          "base_uri": "https://localhost:8080/"
        },
        "id": "mmL6pfFlqn9f",
        "outputId": "2b3e8854-a80b-417c-d3f1-827b6f806f3d"
      },
      "execution_count": null,
      "outputs": [
        {
          "output_type": "stream",
          "name": "stdout",
          "text": [
            " Please Enter the Maximum number : 20\n",
            "1\n",
            "3\n",
            "5\n",
            "7\n",
            "9\n",
            "11\n",
            "13\n",
            "15\n",
            "17\n",
            "19\n"
          ]
        }
      ]
    },
    {
      "cell_type": "markdown",
      "source": [
        "Find the cube of number from 1 to 9."
      ],
      "metadata": {
        "id": "sizGbkQysBNm"
      }
    },
    {
      "cell_type": "code",
      "source": [
        "a=1\n",
        "b=9\n",
        "while (a<=b):\n",
        "  print(pow(a,3))\n",
        "  a=a+1"
      ],
      "metadata": {
        "colab": {
          "base_uri": "https://localhost:8080/"
        },
        "id": "Kb86Z5CRrfMt",
        "outputId": "d152bce3-7bd3-41a0-c83d-47c583feab4a"
      },
      "execution_count": null,
      "outputs": [
        {
          "output_type": "stream",
          "name": "stdout",
          "text": [
            "1\n",
            "8\n",
            "27\n",
            "64\n",
            "125\n",
            "216\n",
            "343\n",
            "512\n",
            "729\n"
          ]
        }
      ]
    },
    {
      "cell_type": "markdown",
      "source": [
        "printing the square of numbers less than `n`"
      ],
      "metadata": {
        "id": "WTr4mB9bse2G"
      }
    },
    {
      "cell_type": "code",
      "source": [
        "a=1\n",
        "b=int(input(\"enter a number :\"))\n",
        "while (a<=b):\n",
        "  print(pow(a,2))\n",
        "  a=a+1"
      ],
      "metadata": {
        "colab": {
          "base_uri": "https://localhost:8080/"
        },
        "id": "KEKlu_0dsCW0",
        "outputId": "a5751cc6-7503-4295-b630-a30dd6cb8ff7"
      },
      "execution_count": null,
      "outputs": [
        {
          "output_type": "stream",
          "name": "stdout",
          "text": [
            "enter a number :10\n",
            "1\n",
            "4\n",
            "9\n",
            "16\n",
            "25\n",
            "36\n",
            "49\n",
            "64\n",
            "81\n",
            "100\n"
          ]
        }
      ]
    },
    {
      "cell_type": "markdown",
      "source": [
        "How many times a given number can be divided by 3 before it is less than or equal to 10."
      ],
      "metadata": {
        "id": "BYneicvLtgMr"
      }
    },
    {
      "cell_type": "code",
      "source": [
        "a=1\n",
        "b=10\n",
        "while (a<=b):\n",
        "  if (a%3==0):\n",
        "    print(a)\n",
        "  a=a+1"
      ],
      "metadata": {
        "colab": {
          "base_uri": "https://localhost:8080/"
        },
        "id": "5q4Cf12xsfq2",
        "outputId": "dc06f678-f320-4270-a671-37f700ffc245"
      },
      "execution_count": null,
      "outputs": [
        {
          "output_type": "stream",
          "name": "stdout",
          "text": [
            "3\n",
            "6\n",
            "9\n"
          ]
        }
      ]
    },
    {
      "cell_type": "markdown",
      "source": [
        "Use while loop to iterate over a list."
      ],
      "metadata": {
        "id": "pzNn4EQsuuQV"
      }
    },
    {
      "cell_type": "code",
      "source": [
        "list = [1, 3, 5, 7, 9]\n",
        "length = len(list)\n",
        "i = 0\n",
        "while i < length:\n",
        "    print(list[i])\n",
        "    i = i+1"
      ],
      "metadata": {
        "colab": {
          "base_uri": "https://localhost:8080/"
        },
        "id": "Dh3sO7iUthWH",
        "outputId": "467b2bb8-400f-481d-9187-89c896dece15"
      },
      "execution_count": null,
      "outputs": [
        {
          "output_type": "stream",
          "name": "stdout",
          "text": [
            "1\n",
            "3\n",
            "5\n",
            "7\n",
            "9\n"
          ]
        }
      ]
    },
    {
      "cell_type": "markdown",
      "source": [
        "printing the first two elements of a list"
      ],
      "metadata": {
        "id": "_xb2wJ1Zu1Ru"
      }
    },
    {
      "cell_type": "code",
      "source": [
        "list=[1,2,3,4,5,6,7,8,9]\n",
        "length= len(list)\n",
        "a=0\n",
        "while a<length:\n",
        "  a=a+1\n",
        "print(list[:2])"
      ],
      "metadata": {
        "colab": {
          "base_uri": "https://localhost:8080/"
        },
        "id": "4XywThO7ustZ",
        "outputId": "d7c33706-5dd2-4bdb-9819-1ad2137e974e"
      },
      "execution_count": null,
      "outputs": [
        {
          "output_type": "stream",
          "name": "stdout",
          "text": [
            "[1, 2]\n"
          ]
        }
      ]
    },
    {
      "cell_type": "markdown",
      "source": [
        "while loop to iterate string letter by letter"
      ],
      "metadata": {
        "id": "bLaU9MdeWa0_"
      }
    },
    {
      "cell_type": "code",
      "source": [
        "sr = \"nafil\"\n",
        "length = len(sr)\n",
        "i = 0\n",
        "while i < length:\n",
        "    print(sr[i])\n",
        "    i = i+1"
      ],
      "metadata": {
        "id": "-RDpIxavvw0p",
        "colab": {
          "base_uri": "https://localhost:8080/"
        },
        "outputId": "1248e1a0-978a-4274-c367-59ec9dbadd91"
      },
      "execution_count": null,
      "outputs": [
        {
          "output_type": "stream",
          "name": "stdout",
          "text": [
            "n\n",
            "a\n",
            "f\n",
            "i\n",
            "l\n"
          ]
        }
      ]
    },
    {
      "cell_type": "markdown",
      "source": [
        "Reverse a while loop to display numbers from 10 to 1"
      ],
      "metadata": {
        "id": "jPeaOnWEXA6Z"
      }
    },
    {
      "cell_type": "code",
      "source": [
        "i = 10\n",
        "while i > 0:\n",
        "    print(i)\n",
        "    i = i - 1   "
      ],
      "metadata": {
        "colab": {
          "base_uri": "https://localhost:8080/"
        },
        "id": "vsnPwgjYWoKm",
        "outputId": "3292c793-9a9f-4937-a770-4f7e1640b83b"
      },
      "execution_count": null,
      "outputs": [
        {
          "output_type": "stream",
          "name": "stdout",
          "text": [
            "10\n",
            "9\n",
            "8\n",
            "7\n",
            "6\n",
            "5\n",
            "4\n",
            "3\n",
            "2\n",
            "1\n"
          ]
        }
      ]
    },
    {
      "cell_type": "markdown",
      "source": [
        "Write a while loop to display only alphabets from a string"
      ],
      "metadata": {
        "id": "AM9eQ4luYocZ"
      }
    },
    {
      "cell_type": "code",
      "source": [
        "\n",
        "name=input(\"enter a string :\")\n",
        "size=len(name)\n",
        "i=-1\n",
        "while i<size-1:\n",
        "  i=i+1\n",
        "  if name[i].isalpha():\n",
        "    print(name[i],end=\"\")"
      ],
      "metadata": {
        "colab": {
          "base_uri": "https://localhost:8080/"
        },
        "id": "kTObLeYMYpKc",
        "outputId": "26f1e411-5b53-40f0-a13c-0b1f043133ca"
      },
      "execution_count": null,
      "outputs": [
        {
          "output_type": "stream",
          "name": "stdout",
          "text": [
            "enter a string :nafil12mk\n",
            "nafilmk"
          ]
        }
      ]
    },
    {
      "cell_type": "markdown",
      "source": [
        "print the first 10 numbers on each line 5 times"
      ],
      "metadata": {
        "id": "uxi8KRf7tWOD"
      }
    },
    {
      "cell_type": "code",
      "source": [
        "y=1\n",
        "while y<=5:\n",
        "  y=y+1\n",
        "  i=1\n",
        "  while i<=10:\n",
        "    print(i,end=\"\")\n",
        "    i=i+1\n",
        "  print(\"\\n\")"
      ],
      "metadata": {
        "colab": {
          "base_uri": "https://localhost:8080/"
        },
        "id": "_mWG8B5FtW-I",
        "outputId": "042831a1-1dce-4251-83a7-aa4fe69e52fa"
      },
      "execution_count": null,
      "outputs": [
        {
          "output_type": "stream",
          "name": "stdout",
          "text": [
            "12345678910\n",
            "\n",
            "12345678910\n",
            "\n",
            "12345678910\n",
            "\n",
            "12345678910\n",
            "\n",
            "12345678910\n",
            "\n"
          ]
        }
      ]
    },
    {
      "cell_type": "markdown",
      "source": [
        "Display each character from a string and if `a` character is number then stop the loop."
      ],
      "metadata": {
        "id": "kzSmyFWs4udC"
      }
    },
    {
      "cell_type": "code",
      "source": [
        "name=input(\"enter a string :\")\n",
        "size=len(name)\n",
        "i=-1\n",
        "while i<size-1:\n",
        "  i=i+1\n",
        "  if name[i].isnumeric():\n",
        "    break\n",
        "  else:\n",
        "    print(name[i],end=\"\")"
      ],
      "metadata": {
        "colab": {
          "base_uri": "https://localhost:8080/"
        },
        "id": "I5rTx5P04voC",
        "outputId": "a38c556b-6aca-4d0d-8f0f-44254da6ae51"
      },
      "execution_count": null,
      "outputs": [
        {
          "output_type": "stream",
          "name": "stdout",
          "text": [
            "enter a string :nafi12lmk\n",
            "nafi"
          ]
        }
      ]
    },
    {
      "cell_type": "code",
      "source": [
        "count=1\n",
        "while count<=5:\n",
        "  print(count)\n",
        "  count=count+1\n",
        "  "
      ],
      "metadata": {
        "id": "lDWZCp5g7Qd-",
        "colab": {
          "base_uri": "https://localhost:8080/"
        },
        "outputId": "b774f21e-2ba7-406c-c8ce-2b408cd22a16"
      },
      "execution_count": null,
      "outputs": [
        {
          "output_type": "stream",
          "name": "stdout",
          "text": [
            "1\n",
            "2\n",
            "3\n",
            "4\n",
            "5\n"
          ]
        }
      ]
    }
  ],
  "metadata": {
    "colab": {
      "provenance": []
    },
    "kernelspec": {
      "display_name": "Python 3",
      "name": "python3"
    },
    "language_info": {
      "name": "python"
    }
  },
  "nbformat": 4,
  "nbformat_minor": 0
}