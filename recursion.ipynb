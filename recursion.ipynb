{
 "cells": [
  {
   "cell_type": "code",
   "execution_count": 1,
   "id": "b65cdf75",
   "metadata": {},
   "outputs": [
    {
     "name": "stdout",
     "output_type": "stream",
     "text": [
      "enter a number :5\n",
      "120\n"
     ]
    }
   ],
   "source": [
    "def factorial(a):\n",
    "    sum=1\n",
    "    for i in range(1,a+1):\n",
    "        sum=sum*i\n",
    "    print(sum)\n",
    "a=int(input(\"enter a number :\"))\n",
    "factorial(a)\n",
    "        "
   ]
  },
  {
   "cell_type": "code",
   "execution_count": 2,
   "id": "68a23be0",
   "metadata": {},
   "outputs": [
    {
     "name": "stdout",
     "output_type": "stream",
     "text": [
      "enter a number :12\n",
      "78\n"
     ]
    }
   ],
   "source": [
    "def check(a):\n",
    "    sum=0\n",
    "    for i in range(1,a+1):\n",
    "        sum=sum+i\n",
    "    print(sum)\n",
    "a=int(input(\"enter a number :\"))\n",
    "check(a)"
   ]
  },
  {
   "cell_type": "markdown",
   "id": "b190990f",
   "metadata": {},
   "source": [
    "# recursion"
   ]
  },
  {
   "cell_type": "markdown",
   "id": "e48a8311",
   "metadata": {},
   "source": [
    "find factorial of numbers using recursion"
   ]
  },
  {
   "cell_type": "code",
   "execution_count": 3,
   "id": "3a6f0d2f",
   "metadata": {},
   "outputs": [
    {
     "name": "stdout",
     "output_type": "stream",
     "text": [
      "120\n"
     ]
    }
   ],
   "source": [
    "def factorial(a):\n",
    "    if(a==1):\n",
    "        return a\n",
    "    else:\n",
    "        return a * factorial(a-1)\n",
    "print(factorial(5))"
   ]
  },
  {
   "cell_type": "markdown",
   "id": "9714a10f",
   "metadata": {},
   "source": [
    "find sum of numbers using recursion"
   ]
  },
  {
   "cell_type": "code",
   "execution_count": 4,
   "id": "38f5d53a",
   "metadata": {},
   "outputs": [
    {
     "name": "stdout",
     "output_type": "stream",
     "text": [
      "55\n"
     ]
    }
   ],
   "source": [
    "def check(a):\n",
    "    if(a==0):\n",
    "        return a\n",
    "    else:\n",
    "        return a+check(a-1)\n",
    "print(check(10))"
   ]
  },
  {
   "cell_type": "markdown",
   "id": "71adf89f",
   "metadata": {},
   "source": [
    "program to find sum of even numbers using recursion"
   ]
  },
  {
   "cell_type": "code",
   "execution_count": 5,
   "id": "2b18966a",
   "metadata": {},
   "outputs": [
    {
     "name": "stdout",
     "output_type": "stream",
     "text": [
      "30\n"
     ]
    }
   ],
   "source": [
    "def sum_even(a):\n",
    "    if(a==0):\n",
    "        return a\n",
    "    else:\n",
    "        if(a%2==0):\n",
    "            return a+sum_even(a-1)\n",
    "        else:\n",
    "            return sum_even(a-1)\n",
    "print(sum_even(11))"
   ]
  },
  {
   "cell_type": "markdown",
   "id": "c1e01699",
   "metadata": {},
   "source": [
    "Program to find reverse of a number using recursion"
   ]
  },
  {
   "cell_type": "code",
   "execution_count": 6,
   "id": "a72cbef1",
   "metadata": {},
   "outputs": [
    {
     "name": "stdout",
     "output_type": "stream",
     "text": [
      "54321\n"
     ]
    }
   ],
   "source": [
    "def rev(a,r,sum):\n",
    "    if(a==0):\n",
    "        return sum\n",
    "    else:\n",
    "        r=a%10\n",
    "        sum=(sum*10)+r\n",
    "        a=a//10\n",
    "        return rev(a,r,sum)\n",
    "print(rev(12345,0,0))"
   ]
  },
  {
   "cell_type": "markdown",
   "id": "06c5c274",
   "metadata": {},
   "source": [
    "find sum of digit using recursion"
   ]
  },
  {
   "cell_type": "code",
   "execution_count": 7,
   "id": "acd131dc",
   "metadata": {},
   "outputs": [
    {
     "name": "stdout",
     "output_type": "stream",
     "text": [
      "sum of digit: 15\n"
     ]
    }
   ],
   "source": [
    "def sum_digit(a):\n",
    "    if(a==0):\n",
    "        return a\n",
    "    else:\n",
    "        return a%10+sum_digit(a//10)\n",
    "print(\"sum of digit:\",sum_digit(1257))"
   ]
  },
  {
   "cell_type": "code",
   "execution_count": 8,
   "id": "e9b5c149",
   "metadata": {},
   "outputs": [
    {
     "name": "stdout",
     "output_type": "stream",
     "text": [
      "16\n"
     ]
    }
   ],
   "source": [
    "def sum_digit(a,sum):\n",
    "    if(a==0):\n",
    "        return sum\n",
    "    else:\n",
    "        x=a%10\n",
    "        sum=sum+x\n",
    "        a=a//10\n",
    "        return sum_digit(a,sum)\n",
    "print(sum_digit(1258,0))"
   ]
  },
  {
   "cell_type": "markdown",
   "id": "a037f64b",
   "metadata": {},
   "source": [
    "find fibonnaci series using recursion"
   ]
  },
  {
   "cell_type": "code",
   "execution_count": 10,
   "id": "5691576c",
   "metadata": {},
   "outputs": [
    {
     "name": "stdout",
     "output_type": "stream",
     "text": [
      "Enter number of terms:10\n",
      "Fibonacci sequence:\n",
      "0\n",
      "1\n",
      "1\n",
      "2\n",
      "3\n",
      "5\n",
      "8\n",
      "13\n",
      "21\n",
      "34\n"
     ]
    }
   ],
   "source": [
    "def fibonacci(n):\n",
    "    if(n <= 1):\n",
    "        return n\n",
    "    else:\n",
    "        return(fibonacci(n-1) + fibonacci(n-2))\n",
    "n = int(input(\"Enter number of terms:\"))\n",
    "print(\"Fibonacci sequence:\")\n",
    "for i in range(n):\n",
    "    print(fibonacci(i))"
   ]
  },
  {
   "cell_type": "markdown",
   "id": "965f699a",
   "metadata": {},
   "source": [
    "Program to print factorial of a number"
   ]
  },
  {
   "cell_type": "code",
   "execution_count": 11,
   "id": "ee791c18",
   "metadata": {},
   "outputs": [
    {
     "name": "stdout",
     "output_type": "stream",
     "text": [
      "enter a number :12\n",
      "factorial : 479001600\n"
     ]
    }
   ],
   "source": [
    "def factorial(num):\n",
    "    if (num==0):\n",
    "        return 1\n",
    "    else:\n",
    "        return num*factorial(num-1)\n",
    "num=int(input(\"enter a number :\"))\n",
    "print(\"factorial :\",factorial(num))"
   ]
  },
  {
   "cell_type": "markdown",
   "id": "21541644",
   "metadata": {},
   "source": [
    "Program to Find Sum of Natural Numbers"
   ]
  },
  {
   "cell_type": "code",
   "execution_count": 12,
   "id": "00c2525f",
   "metadata": {},
   "outputs": [
    {
     "name": "stdout",
     "output_type": "stream",
     "text": [
      "enter a number :10\n",
      "sum : 55\n"
     ]
    }
   ],
   "source": [
    "def sum(n):\n",
    "    if (n==0):\n",
    "        return 0\n",
    "    else:\n",
    "        return n+sum(n-1)\n",
    "n=int(input(\"enter a number :\"))\n",
    "print(\"sum :\",sum(n))"
   ]
  },
  {
   "cell_type": "markdown",
   "id": "cec62117",
   "metadata": {},
   "source": [
    "PROGRAM TO FIND ARMSTRONG NUMBER USING THE RECURSION"
   ]
  },
  {
   "cell_type": "code",
   "execution_count": 14,
   "id": "efd6fa4b",
   "metadata": {},
   "outputs": [
    {
     "name": "stdout",
     "output_type": "stream",
     "text": [
      "enter a number :153\n",
      "153 is an armstrong number\n"
     ]
    }
   ],
   "source": [
    "def armstrong(num):\n",
    "    if (num==0):\n",
    "        return num\n",
    "    else:\n",
    "        return pow((num%10),power)+armstrong(num//10)\n",
    "num=int(input(\"enter a number :\"))\n",
    "power=len(str(num))\n",
    "sum=armstrong(num)\n",
    "if sum==num:\n",
    "    print(num,\"is an armstrong number\")\n",
    "else:\n",
    "    print(num,\"is not an Armstrong Number.\")"
   ]
  },
  {
   "cell_type": "code",
   "execution_count": 15,
   "id": "711d0539",
   "metadata": {},
   "outputs": [
    {
     "name": "stdout",
     "output_type": "stream",
     "text": [
      "enter a number :153\n",
      "153 is an armstrong number\n"
     ]
    }
   ],
   "source": [
    "def armstrong(num,sum):\n",
    "    if (num==0):\n",
    "        return sum\n",
    "    else:\n",
    "        digit=pow((num%10),power)\n",
    "        sum=sum+digit\n",
    "        temp=num//10\n",
    "        return armstrong(temp,sum)\n",
    "num=int(input(\"enter a number :\"))\n",
    "power=len(str(num))\n",
    "arm=armstrong(num,0)\n",
    "if arm==num:\n",
    "    print(num,\"is an armstrong number\")\n",
    "else:\n",
    "    print(num,\"is not an Armstrong Number.\")"
   ]
  },
  {
   "cell_type": "markdown",
   "id": "94dd11da",
   "metadata": {},
   "source": [
    " program to check for leap year"
   ]
  },
  {
   "cell_type": "code",
   "execution_count": 16,
   "id": "20a1f51a",
   "metadata": {},
   "outputs": [
    {
     "name": "stdout",
     "output_type": "stream",
     "text": [
      "enter a year :2020\n",
      "leap year\n"
     ]
    }
   ],
   "source": [
    "def leapyear(year):\n",
    "    if (year==0):\n",
    "        return year\n",
    "    else:\n",
    "        return (((year % 4 == 0) and (year % 100 != 0)) or (year % 400 == 0))\n",
    "year=int(input(\"enter a year :\"))\n",
    "if(leapyear(year)):\n",
    "    print(\"leap year\")\n",
    "else:\n",
    "    print(\"not a leap year\")"
   ]
  },
  {
   "cell_type": "markdown",
   "id": "92ede565",
   "metadata": {},
   "source": [
    "python program to for sorting a string"
   ]
  },
  {
   "cell_type": "code",
   "execution_count": 17,
   "id": "7b9a16b2",
   "metadata": {},
   "outputs": [
    {
     "name": "stdout",
     "output_type": "stream",
     "text": [
      "enter a string :nafil\n",
      "afiln\n"
     ]
    }
   ],
   "source": [
    "def sorting(string):\n",
    "    if (string==0):\n",
    "        return 0\n",
    "    else:\n",
    "        return \"\".join(sorted(string))\n",
    "str1=str(input(\"enter a string :\"))\n",
    "print(sorting(str1))"
   ]
  },
  {
   "cell_type": "markdown",
   "id": "56854d90",
   "metadata": {},
   "source": [
    "python program for a counting vowels in a string"
   ]
  },
  {
   "cell_type": "code",
   "execution_count": 18,
   "id": "8a344b3c",
   "metadata": {},
   "outputs": [
    {
     "name": "stdout",
     "output_type": "stream",
     "text": [
      "Enter string :hello world\n",
      "Number of vowels are: 3\n"
     ]
    }
   ],
   "source": [
    "string=input(\"Enter string :\")\n",
    "vowels=0\n",
    "for i in string:\n",
    "      if(i=='a' or i=='e' or i=='i' or i=='o' or i=='u' or i=='A' or i=='E' or i=='I' or i=='O' or i=='U'):\n",
    "            vowels=vowels+1\n",
    "print(\"Number of vowels are:\",vowels)"
   ]
  },
  {
   "cell_type": "markdown",
   "id": "c924bc4f",
   "metadata": {},
   "source": [
    "python program to sort element in list"
   ]
  },
  {
   "cell_type": "code",
   "execution_count": 19,
   "id": "96c4c338",
   "metadata": {},
   "outputs": [
    {
     "name": "stdout",
     "output_type": "stream",
     "text": [
      "['10', '15', '20', '25', '30', '5']\n"
     ]
    }
   ],
   "source": [
    "def sort(l1):\n",
    "    if (l1==0):\n",
    "        return 0\n",
    "    else:\n",
    "        return sorted(l1)\n",
    "l1=['5', '10', '15', '20', '25', '30']\n",
    "print(sort(l1))"
   ]
  },
  {
   "cell_type": "markdown",
   "id": "e7f0da85",
   "metadata": {},
   "source": [
    "python program for reverceing element of an list"
   ]
  },
  {
   "cell_type": "code",
   "execution_count": 20,
   "id": "82d84f39",
   "metadata": {},
   "outputs": [
    {
     "name": "stdout",
     "output_type": "stream",
     "text": [
      "list : [1, 2, 3, 4, 5]\n",
      "reverse list : [5, 4, 3, 2, 1]\n"
     ]
    }
   ],
   "source": [
    "l1= [1, 2, 3, 4, 5]\n",
    "l1.reverse()\n",
    "print(\"list :\",list(reversed(l1)))\n",
    "print(\"reverse list :\",l1)"
   ]
  },
  {
   "cell_type": "markdown",
   "id": "53e245a2",
   "metadata": {},
   "source": [
    "python program to check for palindrome using recursion"
   ]
  },
  {
   "cell_type": "code",
   "execution_count": 21,
   "id": "73bd4811",
   "metadata": {},
   "outputs": [
    {
     "name": "stdout",
     "output_type": "stream",
     "text": [
      "enter a string :12521\n",
      "is palindrome \n"
     ]
    }
   ],
   "source": [
    "def palindrome(string):\n",
    "    if (string==string[::-1]):\n",
    "        print(\"is palindrome \")\n",
    "    else:\n",
    "        print(\"is not palindrome \")\n",
    "string=input(\"enter a string :\")\n",
    "palindrome(string)"
   ]
  },
  {
   "cell_type": "markdown",
   "id": "d211b910",
   "metadata": {},
   "source": [
    "python program to implement bubble sort algorithm"
   ]
  },
  {
   "cell_type": "code",
   "execution_count": 22,
   "id": "eea6a753",
   "metadata": {},
   "outputs": [
    {
     "data": {
      "text/plain": [
       "([3, 5, 9, 10, 12, 25], 14)"
      ]
     },
     "execution_count": 22,
     "metadata": {},
     "output_type": "execute_result"
    }
   ],
   "source": [
    "def bubble_sort(a):\n",
    "    comparison_count=0\n",
    "    for i in range(len(a)-1):\n",
    "        is_swapped=False\n",
    "        for j in range(len(a)-i-1):\n",
    "            if a[j]>a[j+1]:\n",
    "                a[j],a[j+1]=a[j+1],a[j]\n",
    "                is_swapped=True\n",
    "            comparison_count +=1\n",
    "        if not is_swapped:\n",
    "            break\n",
    "    return a,comparison_count\n",
    "bubble_sort([10,25,3,5,12,9])"
   ]
  },
  {
   "cell_type": "markdown",
   "id": "eeb0cf01",
   "metadata": {},
   "source": [
    "python program to implement the binary serch algorithm"
   ]
  },
  {
   "cell_type": "code",
   "execution_count": 30,
   "id": "64324056",
   "metadata": {},
   "outputs": [
    {
     "name": "stdout",
     "output_type": "stream",
     "text": [
      "Element is not present in array\n"
     ]
    }
   ],
   "source": [
    "def binary_search(lst,x):\n",
    "    low = 0\n",
    "    high = len(lst)-1\n",
    "    mid = 0\n",
    "    while low <= high:\n",
    "        mid = (high + low) // 2\n",
    "        if lst[mid] < x:\n",
    "            low = mid + 1\n",
    "        elif lst[mid] > x:\n",
    "            high = mid - 1\n",
    "        else:\n",
    "            return mid\n",
    "    return -1\n",
    "lst = [1,2,3,8,9,10,20,30]\n",
    "x = 25\n",
    "result = binary_search(lst,x)\n",
    "if result != -1:\n",
    "    print(\"Element is present at index\", str(result))\n",
    "else:\n",
    "    print(\"Element is not present in array\")"
   ]
  },
  {
   "cell_type": "markdown",
   "id": "2c5cb3d9",
   "metadata": {},
   "source": [
    "write a program to find a greatest among three numbers"
   ]
  },
  {
   "cell_type": "code",
   "execution_count": 32,
   "id": "760fe40e",
   "metadata": {},
   "outputs": [
    {
     "name": "stdout",
     "output_type": "stream",
     "text": [
      "The largest number is 20\n"
     ]
    }
   ],
   "source": [
    "n1 = 10\n",
    "n2 = 5\n",
    "n3 = 20\n",
    "if (n1 >= n2) and (n1 >= n3):\n",
    "    print(\"The largest number is\",n1)\n",
    "elif (n2 >= n1) and (n2 >= n3):\n",
    "    print(\"The largest number is\",n2)\n",
    "else:\n",
    "    print(\"The largest number is\",n3)"
   ]
  },
  {
   "cell_type": "markdown",
   "id": "18db7397",
   "metadata": {},
   "source": [
    "write a program to print first 10 number"
   ]
  },
  {
   "cell_type": "code",
   "execution_count": 35,
   "id": "2c2ed55f",
   "metadata": {},
   "outputs": [
    {
     "name": "stdout",
     "output_type": "stream",
     "text": [
      "0 1 2 3 4 5 6 7 8 9 10 "
     ]
    }
   ],
   "source": [
    "for i in range(0,11):\n",
    "    print(i,end=\" \")"
   ]
  },
  {
   "cell_type": "markdown",
   "id": "64cb57e3",
   "metadata": {},
   "source": [
    "write a program to find a smallest among three numbers"
   ]
  },
  {
   "cell_type": "code",
   "execution_count": 37,
   "id": "b49a573c",
   "metadata": {},
   "outputs": [
    {
     "name": "stdout",
     "output_type": "stream",
     "text": [
      "The largest number is 1\n"
     ]
    }
   ],
   "source": [
    "n1 = 10\n",
    "n2 = 25\n",
    "n3 = 1\n",
    "if (n1 <= n2) and (n1 <= n3):\n",
    "    print(\"The largest number is\",n1)\n",
    "elif (n2 <= n1) and (n2 <= n3):\n",
    "    print(\"The largest number is\",n2)\n",
    "else:\n",
    "    print(\"The largest number is\",n3)"
   ]
  },
  {
   "cell_type": "markdown",
   "id": "338e3f1f",
   "metadata": {},
   "source": [
    "write a program to print even numbers  from 1-50"
   ]
  },
  {
   "cell_type": "code",
   "execution_count": 39,
   "id": "2b66b0d6",
   "metadata": {},
   "outputs": [
    {
     "name": "stdout",
     "output_type": "stream",
     "text": [
      "2,4,6,8,10,12,14,16,18,20,22,24,26,28,30,32,34,36,38,40,42,44,46,48,50,"
     ]
    }
   ],
   "source": [
    "for i in range(1,51):\n",
    "    if i%2==0:\n",
    "        print(i,end=\",\")"
   ]
  },
  {
   "cell_type": "markdown",
   "id": "af920160",
   "metadata": {},
   "source": [
    "write a program to print odd numbers from 1-50"
   ]
  },
  {
   "cell_type": "code",
   "execution_count": 40,
   "id": "f151fd19",
   "metadata": {},
   "outputs": [
    {
     "name": "stdout",
     "output_type": "stream",
     "text": [
      "1,3,5,7,9,11,13,15,17,19,21,23,25,27,29,31,33,35,37,39,41,43,45,47,49,"
     ]
    }
   ],
   "source": [
    "for i in range(1,51):\n",
    "    if i%2==1:\n",
    "        print(i,end=\",\")"
   ]
  },
  {
   "cell_type": "markdown",
   "id": "8ebbca0c",
   "metadata": {},
   "source": [
    "write a program to find character of given integer"
   ]
  },
  {
   "cell_type": "code",
   "execution_count": 3,
   "id": "1aca75ec",
   "metadata": {},
   "outputs": [
    {
     "name": "stdout",
     "output_type": "stream",
     "text": [
      "Enter an integer between 0 and 255: 65\n",
      "The character corresponding to 65 is A\n"
     ]
    }
   ],
   "source": [
    "num = int(input(\"Enter an integer between 0 and 255: \"))\n",
    "char = chr(num)\n",
    "print(\"The character corresponding to\",num,\"is\",char)"
   ]
  },
  {
   "cell_type": "markdown",
   "id": "0b60d684",
   "metadata": {},
   "source": [
    "write a program to find integer value of given input char"
   ]
  },
  {
   "cell_type": "code",
   "execution_count": 6,
   "id": "1e0cbbfe",
   "metadata": {},
   "outputs": [
    {
     "name": "stdout",
     "output_type": "stream",
     "text": [
      "enter a character :m\n",
      "the ascii value of m is 109\n"
     ]
    }
   ],
   "source": [
    "a=input(\"enter a character :\")\n",
    "b=ord(a)\n",
    "print(\"the ascii value of\",a,\"is\",b)"
   ]
  },
  {
   "cell_type": "markdown",
   "id": "9543d42f",
   "metadata": {},
   "source": [
    "write a program print list of element"
   ]
  },
  {
   "cell_type": "code",
   "execution_count": 10,
   "id": "0aa9e50b",
   "metadata": {},
   "outputs": [
    {
     "name": "stdout",
     "output_type": "stream",
     "text": [
      "1,2,3,4,5,"
     ]
    }
   ],
   "source": [
    "lst=[1, 2, 3, 4, 5]\n",
    "for i in range(0,len(lst)):\n",
    "    print(lst[i],end=\",\")"
   ]
  },
  {
   "cell_type": "markdown",
   "id": "7e3887e6",
   "metadata": {},
   "source": [
    "write a program to find sum two list"
   ]
  },
  {
   "cell_type": "code",
   "execution_count": 17,
   "id": "9b0510f9",
   "metadata": {},
   "outputs": [
    {
     "name": "stdout",
     "output_type": "stream",
     "text": [
      "resultant list : [3, 6, 9, 12, 15]\n"
     ]
    }
   ],
   "source": [
    "l1=[1,2,3,4,5]\n",
    "l2=[2,4,6,8,10]\n",
    "l3=list(map(add,l1,l2))\n",
    "print(\"resultant list :\",l3)"
   ]
  },
  {
   "cell_type": "markdown",
   "id": "c92406ba",
   "metadata": {},
   "source": [
    "sum of even numbers using list"
   ]
  },
  {
   "cell_type": "code",
   "execution_count": 40,
   "id": "c35dded8",
   "metadata": {},
   "outputs": [
    {
     "name": "stdout",
     "output_type": "stream",
     "text": [
      "30\n"
     ]
    }
   ],
   "source": [
    "l1=[1,2,3,4,5,6,7,8,9,10]\n",
    "x=0\n",
    "a=list(filter(lambda x:(x%2==0),l1))\n",
    "for i in a:\n",
    "    x=x+i\n",
    "print(x)"
   ]
  }
 ],
 "metadata": {
  "kernelspec": {
   "display_name": "Python 3 (ipykernel)",
   "language": "python",
   "name": "python3"
  },
  "language_info": {
   "codemirror_mode": {
    "name": "ipython",
    "version": 3
   },
   "file_extension": ".py",
   "mimetype": "text/x-python",
   "name": "python",
   "nbconvert_exporter": "python",
   "pygments_lexer": "ipython3",
   "version": "3.9.13"
  }
 },
 "nbformat": 4,
 "nbformat_minor": 5
}
