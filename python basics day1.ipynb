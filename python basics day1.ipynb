{
 "cells": [
  {
   "cell_type": "code",
   "execution_count": 1,
   "id": "f6881912",
   "metadata": {},
   "outputs": [
    {
     "data": {
      "text/plain": [
       "6"
      ]
     },
     "execution_count": 1,
     "metadata": {},
     "output_type": "execute_result"
    }
   ],
   "source": [
    "a=6\n",
    "a"
   ]
  },
  {
   "cell_type": "code",
   "execution_count": 2,
   "id": "b0b27448",
   "metadata": {},
   "outputs": [
    {
     "name": "stdout",
     "output_type": "stream",
     "text": [
      "65\n"
     ]
    }
   ],
   "source": [
    "print(65)"
   ]
  },
  {
   "cell_type": "code",
   "execution_count": 3,
   "id": "bba6af5e",
   "metadata": {},
   "outputs": [
    {
     "name": "stdout",
     "output_type": "stream",
     "text": [
      "hai\n"
     ]
    }
   ],
   "source": [
    "print(\"hai\")"
   ]
  },
  {
   "cell_type": "code",
   "execution_count": 4,
   "id": "ef7cf402",
   "metadata": {},
   "outputs": [
    {
     "name": "stdout",
     "output_type": "stream",
     "text": [
      "<class 'int'>\n"
     ]
    }
   ],
   "source": [
    "print(type(a))"
   ]
  },
  {
   "cell_type": "code",
   "execution_count": 5,
   "id": "9d6bf1af",
   "metadata": {},
   "outputs": [
    {
     "name": "stdout",
     "output_type": "stream",
     "text": [
      "<class 'str'>\n"
     ]
    }
   ],
   "source": [
    "b=\"hello\"\n",
    "print(type(b))"
   ]
  },
  {
   "cell_type": "code",
   "execution_count": 6,
   "id": "0bd83292",
   "metadata": {},
   "outputs": [
    {
     "name": "stdout",
     "output_type": "stream",
     "text": [
      "11\n"
     ]
    }
   ],
   "source": [
    "a=5\n",
    "b=6\n",
    "sum=a+b\n",
    "print(sum)"
   ]
  },
  {
   "cell_type": "code",
   "execution_count": 7,
   "id": "f24f94a5",
   "metadata": {},
   "outputs": [
    {
     "name": "stdout",
     "output_type": "stream",
     "text": [
      "22\n",
      "155\n",
      "177\n"
     ]
    }
   ],
   "source": [
    "a=25\n",
    "b=10\n",
    "c=13\n",
    "sum=a+b-c\n",
    "sum2=a+b*c\n",
    "print(sum)\n",
    "print(sum2)\n",
    "sum3=sum+sum2\n",
    "print(sum3)"
   ]
  },
  {
   "cell_type": "code",
   "execution_count": 9,
   "id": "d073220c",
   "metadata": {},
   "outputs": [
    {
     "name": "stdout",
     "output_type": "stream",
     "text": [
      "5\n",
      "5\n"
     ]
    },
    {
     "data": {
      "text/plain": [
       "10"
      ]
     },
     "execution_count": 9,
     "metadata": {},
     "output_type": "execute_result"
    }
   ],
   "source": [
    "x=int(input())\n",
    "y=int(input())\n",
    "x+y"
   ]
  },
  {
   "cell_type": "code",
   "execution_count": 10,
   "id": "c198fe61",
   "metadata": {},
   "outputs": [
    {
     "name": "stdout",
     "output_type": "stream",
     "text": [
      "<class 'int'>\n"
     ]
    }
   ],
   "source": [
    "a=2\n",
    "b='2'\n",
    "print(type(x))\n"
   ]
  },
  {
   "cell_type": "code",
   "execution_count": 11,
   "id": "3672db56",
   "metadata": {},
   "outputs": [
    {
     "name": "stdout",
     "output_type": "stream",
     "text": [
      "6\n",
      "5\n",
      "5\n",
      "16\n",
      "-4\n",
      "25\n"
     ]
    }
   ],
   "source": [
    "a=int(input())\n",
    "b=int(input())\n",
    "c=int(input())\n",
    "sum=a+b+c\n",
    "sum2=a-b-c\n",
    "sum3=a*b-c\n",
    "print(sum)\n",
    "print(sum2)\n",
    "print(sum3)"
   ]
  },
  {
   "cell_type": "code",
   "execution_count": 12,
   "id": "6868a6f1",
   "metadata": {},
   "outputs": [
    {
     "name": "stdout",
     "output_type": "stream",
     "text": [
      "FIREST NAME\n",
      "khg\n",
      "khg\n"
     ]
    }
   ],
   "source": [
    "print(\"FIREST NAME\")\n",
    "a=input()\n",
    "print(a)"
   ]
  },
  {
   "cell_type": "code",
   "execution_count": 13,
   "id": "f59419bd",
   "metadata": {},
   "outputs": [
    {
     "name": "stdout",
     "output_type": "stream",
     "text": [
      "print largest number\n",
      "5\n",
      "2\n",
      "8\n",
      "8\n"
     ]
    }
   ],
   "source": [
    "print(\"print largest number\")\n",
    "a=int(input())\n",
    "b=int(input())\n",
    "c=int(input())\n",
    "if a>b and a>c:\n",
    "    print(a)\n",
    "elif b>a and b>c:\n",
    "    print(b)\n",
    "else:\n",
    "    print(c)"
   ]
  },
  {
   "cell_type": "code",
   "execution_count": 14,
   "id": "e378ab9e",
   "metadata": {},
   "outputs": [
    {
     "name": "stdout",
     "output_type": "stream",
     "text": [
      "NUMBER IS ODD OR EVEN\n",
      "5\n",
      "ODD\n"
     ]
    }
   ],
   "source": [
    "print(\"NUMBER IS ODD OR EVEN\")\n",
    "a=int(input())\n",
    "if a%2==0:\n",
    "    print(\"EVEN\")\n",
    "else:\n",
    "    print(\"ODD\")"
   ]
  },
  {
   "cell_type": "code",
   "execution_count": 15,
   "id": "d2409bf5",
   "metadata": {},
   "outputs": [
    {
     "name": "stdout",
     "output_type": "stream",
     "text": [
      "5\n",
      "5\n",
      "5\n",
      "6\n",
      "6\n"
     ]
    }
   ],
   "source": [
    "a=int(input())\n",
    "b=int(input())\n",
    "c=int(input())\n",
    "d=int(input())\n",
    "if a>b and a>c and a>d:\n",
    "    print(a)\n",
    "elif b>a and b>c and b>d:\n",
    "    print(b)\n",
    "elif c>a and c>b and c>d:\n",
    "    print(c)\n",
    "else:\n",
    "    print(d)"
   ]
  },
  {
   "cell_type": "code",
   "execution_count": 16,
   "id": "3af6a412",
   "metadata": {},
   "outputs": [
    {
     "name": "stdout",
     "output_type": "stream",
     "text": [
      "enter mark=8\n",
      "enter mark=885\n",
      "enter mark=5\n",
      "enter mark=4\n",
      "enter mark=5\n",
      "Average is:  181.4\n",
      "E\n"
     ]
    }
   ],
   "source": [
    "s1=int(input(\"enter mark=\"))\n",
    "s2=int(input(\"enter mark=\"))\n",
    "s3=int(input(\"enter mark=\"))\n",
    "s4=int(input(\"enter mark=\"))\n",
    "s5=int(input(\"enter mark=\"))\n",
    "avge=s1+s2+s3+s4+s5\n",
    "\n",
    "avg=avge/5\n",
    "print(\"Average is: \" ,avg)\n",
    "if avg>=90 and avg<=100:\n",
    "    print(\"A+\")\n",
    "elif avg>=80 and avg<90:\n",
    "    print(\"A\")\n",
    "elif avg>=70 and avg<80:\n",
    "    print(\"B+\")\n",
    "elif avg>=60 and avg<70:\n",
    "    print(\"B\")\n",
    "elif avg>=50 and avg<60:\n",
    "    print(\"C+\")\n",
    "elif avg>=40 and avg<50:\n",
    "    print(\"C\")\n",
    "elif avg>=30 and avg<40:\n",
    "    print(\"D+\")\n",
    "else:\n",
    "    print(\"E\")"
   ]
  },
  {
   "cell_type": "code",
   "execution_count": 17,
   "id": "d3ea50a0",
   "metadata": {},
   "outputs": [
    {
     "name": "stdout",
     "output_type": "stream",
     "text": [
      "enter fruits : mango\n",
      "correct prediction\n"
     ]
    }
   ],
   "source": [
    "a=input(\"enter fruits : \")\n",
    "if a==\"mango\":\n",
    "    print(\"correct prediction\")\n",
    "elif a==\"grape\":\n",
    "    print(\"yes it is grapes\")\n",
    "elif a==\"banana\":\n",
    "    print(\"yes it is banana\")\n",
    "elif a==\"pappaya\":\n",
    "    print(\"yes it is pappaya\")\n",
    "elif a==\"kiwi\":\n",
    "    \n",
    "    print(\"yes it is kiwi\")\n",
    "else:\n",
    "    \n",
    "    print(\"invalid prediction\")"
   ]
  },
  {
   "cell_type": "code",
   "execution_count": 18,
   "id": "752dfbe3",
   "metadata": {},
   "outputs": [
    {
     "name": "stdout",
     "output_type": "stream",
     "text": [
      "S\n",
      "t\n",
      "r\n",
      "i\n",
      "n\n",
      "g\n"
     ]
    }
   ],
   "source": [
    "a=\"String\"\n",
    "for i in a:\n",
    "    print(i)"
   ]
  },
  {
   "cell_type": "code",
   "execution_count": 19,
   "id": "c7fff851",
   "metadata": {},
   "outputs": [
    {
     "name": "stdout",
     "output_type": "stream",
     "text": [
      "1\n",
      "2\n"
     ]
    }
   ],
   "source": [
    "li=[1,2,3,4,5,6,7]\n",
    "for i in li:\n",
    "    if i==3:\n",
    "        \n",
    "        break\n",
    "    print(i)\n",
    "        \n",
    "    "
   ]
  },
  {
   "cell_type": "code",
   "execution_count": 43,
   "id": "b94d7a64",
   "metadata": {},
   "outputs": [
    {
     "name": "stdout",
     "output_type": "stream",
     "text": [
      "1\n",
      "2\n",
      "3\n",
      "4\n",
      "6\n",
      "7\n",
      "8\n"
     ]
    }
   ],
   "source": [
    "li=[1,2,3,4,5,6,7,8]\n",
    "for i in li:\n",
    "   # print(i)\n",
    "    if i==5:\n",
    "        continue\n",
    "    print(i)\n",
    "        "
   ]
  },
  {
   "cell_type": "code",
   "execution_count": 44,
   "id": "c0a5dc0e",
   "metadata": {},
   "outputs": [],
   "source": [
    "a=10\n",
    "if a>0:\n",
    "    pass"
   ]
  },
  {
   "cell_type": "code",
   "execution_count": null,
   "id": "5180badc",
   "metadata": {},
   "outputs": [],
   "source": []
  }
 ],
 "metadata": {
  "kernelspec": {
   "display_name": "Python 3 (ipykernel)",
   "language": "python",
   "name": "python3"
  },
  "language_info": {
   "codemirror_mode": {
    "name": "ipython",
    "version": 3
   },
   "file_extension": ".py",
   "mimetype": "text/x-python",
   "name": "python",
   "nbconvert_exporter": "python",
   "pygments_lexer": "ipython3",
   "version": "3.9.13"
  }
 },
 "nbformat": 4,
 "nbformat_minor": 5
}
