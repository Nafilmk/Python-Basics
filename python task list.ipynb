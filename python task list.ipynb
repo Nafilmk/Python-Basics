{
 "cells": [
  {
   "cell_type": "markdown",
   "id": "ca8b09da",
   "metadata": {},
   "source": [
    "Write a Python program to sum all the items in a list."
   ]
  },
  {
   "cell_type": "code",
   "execution_count": 1,
   "id": "631f4868",
   "metadata": {},
   "outputs": [
    {
     "name": "stdout",
     "output_type": "stream",
     "text": [
      "60\n"
     ]
    }
   ],
   "source": [
    "l1=[5,6,7,8,9,25]\n",
    "sum=0\n",
    "for i in l1:\n",
    "    sum=sum+i\n",
    "print(sum)"
   ]
  },
  {
   "cell_type": "markdown",
   "id": "ca3ba39b",
   "metadata": {},
   "source": [
    "Write a Python program to get the largest number from a list."
   ]
  },
  {
   "cell_type": "code",
   "execution_count": 2,
   "id": "431e98c2",
   "metadata": {},
   "outputs": [
    {
     "name": "stdout",
     "output_type": "stream",
     "text": [
      "45\n"
     ]
    }
   ],
   "source": [
    "l1=[11,30,25,45,6,19]\n",
    "l1.sort()\n",
    "print(l1[-1])\n"
   ]
  },
  {
   "cell_type": "markdown",
   "id": "c6a923fb",
   "metadata": {},
   "source": [
    "Write a Python program to get the smallest number from a list."
   ]
  },
  {
   "cell_type": "code",
   "execution_count": 3,
   "id": "b34cf9a7",
   "metadata": {},
   "outputs": [
    {
     "name": "stdout",
     "output_type": "stream",
     "text": [
      "6\n"
     ]
    }
   ],
   "source": [
    "l1=[11,30,25,45,6,19]\n",
    "l1.sort()\n",
    "print(l1[0])"
   ]
  },
  {
   "cell_type": "markdown",
   "id": "dcdf960d",
   "metadata": {},
   "source": [
    "Write a Python program to copy a list."
   ]
  },
  {
   "cell_type": "code",
   "execution_count": 4,
   "id": "aa2b1d96",
   "metadata": {},
   "outputs": [
    {
     "data": {
      "text/plain": [
       "['a', 1, 5, 'b', 'c']"
      ]
     },
     "execution_count": 4,
     "metadata": {},
     "output_type": "execute_result"
    }
   ],
   "source": [
    "l1=[\"a\",1,5,\"b\",\"c\"]\n",
    "l2=[]\n",
    "l2=l1\n",
    "l2"
   ]
  },
  {
   "cell_type": "markdown",
   "id": "dafd153f",
   "metadata": {},
   "source": [
    "Write a Python program to check a list is empty or not."
   ]
  },
  {
   "cell_type": "code",
   "execution_count": 5,
   "id": "f88164b6",
   "metadata": {},
   "outputs": [
    {
     "name": "stdout",
     "output_type": "stream",
     "text": [
      "empty\n"
     ]
    }
   ],
   "source": [
    "a=[]\n",
    "b=len(a)\n",
    "if b==0:\n",
    "    print(\"empty\")\n",
    "else:\n",
    "    print(\"not\")\n"
   ]
  },
  {
   "cell_type": "code",
   "execution_count": 6,
   "id": "050b6c6c",
   "metadata": {},
   "outputs": [
    {
     "name": "stdout",
     "output_type": "stream",
     "text": [
      "not\n"
     ]
    }
   ],
   "source": [
    "a=[1,2,3,5]\n",
    "b=len(a)\n",
    "if b==0:\n",
    "    print(\"empty\")\n",
    "else:\n",
    "    print(\"not\")"
   ]
  },
  {
   "cell_type": "markdown",
   "id": "31f0cf11",
   "metadata": {},
   "source": [
    "Write a Python program access the index of a list."
   ]
  },
  {
   "cell_type": "code",
   "execution_count": 48,
   "id": "bb1af95f",
   "metadata": {},
   "outputs": [
    {
     "name": "stdout",
     "output_type": "stream",
     "text": [
      "1\n",
      "5\n",
      "9\n",
      "7\n",
      "6\n"
     ]
    }
   ],
   "source": [
    "l1=[1,5,9,7,6]\n",
    "print(l1[0])\n",
    "print(l1[1])\n",
    "print(l1[2])\n",
    "print(l1[3])\n",
    "print(l1[4])"
   ]
  },
  {
   "cell_type": "markdown",
   "id": "a2af6d5e",
   "metadata": {},
   "source": [
    "Write a Python program to append a list to the second list."
   ]
  },
  {
   "cell_type": "code",
   "execution_count": 8,
   "id": "53c5af9f",
   "metadata": {},
   "outputs": [
    {
     "data": {
      "text/plain": [
       "[1, 2, 3, 4, 5, 6, 100]"
      ]
     },
     "execution_count": 8,
     "metadata": {},
     "output_type": "execute_result"
    }
   ],
   "source": [
    "a=[1,2,3,4,5,6]\n",
    "a.append(100)\n",
    "a"
   ]
  },
  {
   "cell_type": "markdown",
   "id": "404bb184",
   "metadata": {},
   "source": [
    "Write a Python program to select the odd items of a list."
   ]
  },
  {
   "cell_type": "code",
   "execution_count": 34,
   "id": "0c63dc12",
   "metadata": {},
   "outputs": [
    {
     "name": "stdout",
     "output_type": "stream",
     "text": [
      "1\n",
      "5\n",
      "9\n",
      "7\n"
     ]
    }
   ],
   "source": [
    "x=[1,5,9,6,4,7,8]\n",
    "for i in x:\n",
    "    if i%2>0:\n",
    "        print(i)"
   ]
  },
  {
   "cell_type": "markdown",
   "id": "932e93c8",
   "metadata": {},
   "source": [
    "Write a Python program to extend a list without append."
   ]
  },
  {
   "cell_type": "code",
   "execution_count": 36,
   "id": "4bad872b",
   "metadata": {},
   "outputs": [
    {
     "data": {
      "text/plain": [
       "[1, 2, 3, 4, 5, 6, 7, 8, 99, 100, 250, 300]"
      ]
     },
     "execution_count": 36,
     "metadata": {},
     "output_type": "execute_result"
    }
   ],
   "source": [
    "l1=[1,2,3,4,5,6,7,8]\n",
    "l1.extend([99,100,250,300])\n",
    "l1\n"
   ]
  },
  {
   "cell_type": "markdown",
   "id": "eb101031",
   "metadata": {},
   "source": [
    "Write a Python program to convert a string to a list."
   ]
  },
  {
   "cell_type": "code",
   "execution_count": 44,
   "id": "adb0abb7",
   "metadata": {},
   "outputs": [
    {
     "name": "stdout",
     "output_type": "stream",
     "text": [
      "<class 'str'>\n"
     ]
    },
    {
     "data": {
      "text/plain": [
       "['i', 't', ' ', 'i', 's', ' ', 'a', ' ', 'a', 'p', 'p', 'l', 'e']"
      ]
     },
     "execution_count": 44,
     "metadata": {},
     "output_type": "execute_result"
    }
   ],
   "source": [
    "x=\"it is a apple\"\n",
    "print(type(x))\n",
    "y=list(x)\n",
    "y"
   ]
  },
  {
   "cell_type": "markdown",
   "id": "0df87621",
   "metadata": {},
   "source": [
    "Write a Python program to get unique values from a list"
   ]
  },
  {
   "cell_type": "code",
   "execution_count": 43,
   "id": "ceacbf9e",
   "metadata": {},
   "outputs": [
    {
     "name": "stdout",
     "output_type": "stream",
     "text": [
      "5\n",
      "8\n"
     ]
    }
   ],
   "source": [
    "l1=[2,3,4,2,5,3,8,4]\n",
    "\n",
    "for i in l1:\n",
    "    x=l1.count(i)\n",
    "    if(x==1):\n",
    "        print(i)\n",
    "    \n",
    "\n"
   ]
  },
  {
   "cell_type": "markdown",
   "id": "d8cd2a12",
   "metadata": {},
   "source": [
    "Write a Python program to concatenate elements of a list."
   ]
  },
  {
   "cell_type": "code",
   "execution_count": 59,
   "id": "3e25cafc",
   "metadata": {},
   "outputs": [
    {
     "data": {
      "text/plain": [
       "[1, 2, 3, 4, 5, 'a', 'b', 'c', 'd']"
      ]
     },
     "execution_count": 59,
     "metadata": {},
     "output_type": "execute_result"
    }
   ],
   "source": [
    "l1=[1,2,3,4,5]\n",
    "l2=[\"a\",\"b\",\"c\",\"d\"]\n",
    "l1+l2"
   ]
  },
  {
   "cell_type": "markdown",
   "id": "2ce1a1a4",
   "metadata": {},
   "source": [
    "Write a Python program to find common items from two lists."
   ]
  },
  {
   "cell_type": "code",
   "execution_count": 7,
   "id": "cb046ea2",
   "metadata": {},
   "outputs": [
    {
     "name": "stdout",
     "output_type": "stream",
     "text": [
      "c\n",
      "5\n"
     ]
    }
   ],
   "source": [
    "l1=[\"a\",\"b\",\"c\",1,3,5]\n",
    "l2=[\"c\",\"d\",\"e\",4,5,6]\n",
    "for i in l1:\n",
    "    if(i in l2):\n",
    "        print(i)\n"
   ]
  },
  {
   "cell_type": "code",
   "execution_count": null,
   "id": "67c2d44c",
   "metadata": {},
   "outputs": [],
   "source": []
  }
 ],
 "metadata": {
  "kernelspec": {
   "display_name": "Python 3 (ipykernel)",
   "language": "python",
   "name": "python3"
  },
  "language_info": {
   "codemirror_mode": {
    "name": "ipython",
    "version": 3
   },
   "file_extension": ".py",
   "mimetype": "text/x-python",
   "name": "python",
   "nbconvert_exporter": "python",
   "pygments_lexer": "ipython3",
   "version": "3.9.13"
  }
 },
 "nbformat": 4,
 "nbformat_minor": 5
}
