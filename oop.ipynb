{
  "nbformat": 4,
  "nbformat_minor": 0,
  "metadata": {
    "colab": {
      "provenance": []
    },
    "kernelspec": {
      "name": "python3",
      "display_name": "Python 3"
    },
    "language_info": {
      "name": "python"
    }
  },
  "cells": [
    {
      "cell_type": "markdown",
      "source": [
        "class,object"
      ],
      "metadata": {
        "id": "J_8rpKAaXg6X"
      }
    },
    {
      "cell_type": "code",
      "execution_count": null,
      "metadata": {
        "colab": {
          "base_uri": "https://localhost:8080/"
        },
        "id": "WWJmH2jCT-kY",
        "outputId": "e24a1302-3b0f-4839-965d-20c9f49d591f"
      },
      "outputs": [
        {
          "output_type": "stream",
          "name": "stdout",
          "text": [
            "blu is a bird\n",
            "woo is also a bird\n",
            "blu is 10 year old\n",
            "woo is 15 year old\n"
          ]
        }
      ],
      "source": [
        "class parrot:\n",
        "  species=\"bird\"\n",
        "  def __init__(self,name,age):\n",
        "    self.name=name\n",
        "    self.age=age\n",
        "blu=parrot(\"blu\",10)\n",
        "woo=parrot(\"woo\",15)\n",
        "print(\"blu is a {}\".format(blu.__class__.species))\n",
        "print(\"woo is also a {}\".format(woo.__class__.species))\n",
        "print(\"{} is {} year old\".format(blu.name,blu.age))\n",
        "print(\"{} is {} year old\".format(woo.name,woo.age))"
      ]
    },
    {
      "cell_type": "markdown",
      "source": [
        "method"
      ],
      "metadata": {
        "id": "kNQZMhOoXcqg"
      }
    },
    {
      "cell_type": "code",
      "source": [
        "class parrot:\n",
        "  def __init__(self,name,age):\n",
        "    self.name=name\n",
        "    self.age=age\n",
        "  def sing(self,song):\n",
        "    return\"{} sings {}\".format(self.name,song)\n",
        "  def dance(self):\n",
        "    return \"{} is now dancing\".format(self.name)\n",
        "blu=parrot(\"blu\",10)\n",
        "print(blu.sing(\"happy\"))\n",
        "print(blu.dance())"
      ],
      "metadata": {
        "colab": {
          "base_uri": "https://localhost:8080/"
        },
        "id": "DXFNpStlU5Ah",
        "outputId": "8c9e92d8-ea6b-48d8-b18e-93bd6d8e6a35"
      },
      "execution_count": null,
      "outputs": [
        {
          "output_type": "stream",
          "name": "stdout",
          "text": [
            "blu sings happy\n",
            "blu is now dancing\n"
          ]
        }
      ]
    },
    {
      "cell_type": "markdown",
      "source": [
        "inheritance"
      ],
      "metadata": {
        "id": "a2B8-QRXdSyb"
      }
    },
    {
      "cell_type": "code",
      "source": [
        "class bird:\n",
        "  def __init__(self):\n",
        "    print(\"bird is ready\")\n",
        "  def whoisthis(self):\n",
        "    print(\"bird\")\n",
        "  def swim(self):\n",
        "    print(\"swim faster\")\n",
        "class penguin(bird):\n",
        "  def __init__(self):\n",
        "    super().__init__()\n",
        "    print(\"penguin is ready\")\n",
        "  def whoisthis(self):\n",
        "    print(\"penguin\")\n",
        "  def run(self):\n",
        "    print(\"run faster\")\n",
        "peggy=penguin()\n",
        "peggy.whoisthis()\n",
        "peggy.swim()\n",
        "peggy.run()"
      ],
      "metadata": {
        "colab": {
          "base_uri": "https://localhost:8080/"
        },
        "id": "Y7hEVKGKWnEh",
        "outputId": "c36236a5-cfe6-40d6-abd9-1086ad50f7f3"
      },
      "execution_count": null,
      "outputs": [
        {
          "output_type": "stream",
          "name": "stdout",
          "text": [
            "bird is ready\n",
            "penguin is ready\n",
            "penguin\n",
            "swim faster\n",
            "run faster\n"
          ]
        }
      ]
    },
    {
      "cell_type": "code",
      "source": [],
      "metadata": {
        "id": "M5Xhgg4hfGRQ"
      },
      "execution_count": null,
      "outputs": []
    }
  ]
}