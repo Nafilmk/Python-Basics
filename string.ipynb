{
 "cells": [
  {
   "cell_type": "markdown",
   "id": "278641ac",
   "metadata": {},
   "source": [
    "# String leangth\n"
   ]
  },
  {
   "cell_type": "code",
   "execution_count": 2,
   "id": "bc4ea5b4",
   "metadata": {},
   "outputs": [
    {
     "name": "stdout",
     "output_type": "stream",
     "text": [
      "5\n"
     ]
    }
   ],
   "source": [
    "a=\"nafil\"\n",
    "print(len(a))"
   ]
  },
  {
   "cell_type": "markdown",
   "id": "b78bef08",
   "metadata": {},
   "source": [
    "# stringh capitalize"
   ]
  },
  {
   "cell_type": "code",
   "execution_count": 3,
   "id": "74fd8a15",
   "metadata": {},
   "outputs": [
    {
     "data": {
      "text/plain": [
       "'This is string example....wow'"
      ]
     },
     "execution_count": 3,
     "metadata": {},
     "output_type": "execute_result"
    }
   ],
   "source": [
    "str=\"this is string example....wow\"\n",
    "str.capitalize()"
   ]
  },
  {
   "cell_type": "markdown",
   "id": "781f90b9",
   "metadata": {},
   "source": [
    "# string title"
   ]
  },
  {
   "cell_type": "code",
   "execution_count": 4,
   "id": "b13a60df",
   "metadata": {},
   "outputs": [
    {
     "data": {
      "text/plain": [
       "'This Is String Example....Wow'"
      ]
     },
     "execution_count": 4,
     "metadata": {},
     "output_type": "execute_result"
    }
   ],
   "source": [
    "str.title()"
   ]
  },
  {
   "cell_type": "markdown",
   "id": "5d7e2107",
   "metadata": {},
   "source": [
    "# string upper"
   ]
  },
  {
   "cell_type": "code",
   "execution_count": 5,
   "id": "97f2fc11",
   "metadata": {},
   "outputs": [
    {
     "data": {
      "text/plain": [
       "'THIS IS STRING EXAMPLE....WOW'"
      ]
     },
     "execution_count": 5,
     "metadata": {},
     "output_type": "execute_result"
    }
   ],
   "source": [
    "str.upper()"
   ]
  },
  {
   "cell_type": "markdown",
   "id": "b546a2a6",
   "metadata": {},
   "source": [
    "# string lower"
   ]
  },
  {
   "cell_type": "code",
   "execution_count": 6,
   "id": "de01f86e",
   "metadata": {},
   "outputs": [
    {
     "data": {
      "text/plain": [
       "'this is string example....wow'"
      ]
     },
     "execution_count": 6,
     "metadata": {},
     "output_type": "execute_result"
    }
   ],
   "source": [
    "str.lower()"
   ]
  },
  {
   "cell_type": "markdown",
   "id": "1e311cc5",
   "metadata": {},
   "source": [
    "# count"
   ]
  },
  {
   "cell_type": "code",
   "execution_count": 7,
   "id": "cbe7cc95",
   "metadata": {},
   "outputs": [
    {
     "data": {
      "text/plain": [
       "1"
      ]
     },
     "execution_count": 7,
     "metadata": {},
     "output_type": "execute_result"
    }
   ],
   "source": [
    "x=\"r\"\n",
    "str.count(x)"
   ]
  },
  {
   "cell_type": "code",
   "execution_count": 8,
   "id": "5c3c6a76",
   "metadata": {},
   "outputs": [
    {
     "data": {
      "text/plain": [
       "3"
      ]
     },
     "execution_count": 8,
     "metadata": {},
     "output_type": "execute_result"
    }
   ],
   "source": [
    "x=\"i\"\n",
    "str.count(x)"
   ]
  },
  {
   "cell_type": "code",
   "execution_count": 9,
   "id": "2485de9c",
   "metadata": {},
   "outputs": [
    {
     "name": "stdout",
     "output_type": "stream",
     "text": [
      "29\n"
     ]
    }
   ],
   "source": [
    "print(len(str))"
   ]
  },
  {
   "cell_type": "code",
   "execution_count": 11,
   "id": "2c800ca6",
   "metadata": {},
   "outputs": [
    {
     "data": {
      "text/plain": [
       "3"
      ]
     },
     "execution_count": 11,
     "metadata": {},
     "output_type": "execute_result"
    }
   ],
   "source": [
    "x=\"i\"\n",
    "str.count(x,1,20)"
   ]
  },
  {
   "cell_type": "code",
   "execution_count": 12,
   "id": "3482120d",
   "metadata": {},
   "outputs": [
    {
     "data": {
      "text/plain": [
       "2"
      ]
     },
     "execution_count": 12,
     "metadata": {},
     "output_type": "execute_result"
    }
   ],
   "source": [
    "x=\"i\"\n",
    "str.count(x,1,10)"
   ]
  },
  {
   "cell_type": "code",
   "execution_count": 13,
   "id": "ea076ed3",
   "metadata": {},
   "outputs": [
    {
     "data": {
      "text/plain": [
       "1"
      ]
     },
     "execution_count": 13,
     "metadata": {},
     "output_type": "execute_result"
    }
   ],
   "source": [
    "x=\"wow\"\n",
    "str.count(x)"
   ]
  },
  {
   "cell_type": "markdown",
   "id": "2499fcb5",
   "metadata": {},
   "source": [
    "# find "
   ]
  },
  {
   "cell_type": "code",
   "execution_count": 14,
   "id": "aa7945d2",
   "metadata": {},
   "outputs": [
    {
     "data": {
      "text/plain": [
       "15"
      ]
     },
     "execution_count": 14,
     "metadata": {},
     "output_type": "execute_result"
    }
   ],
   "source": [
    "str2=\"exam\"\n",
    "str.find(str2)"
   ]
  },
  {
   "cell_type": "code",
   "execution_count": 17,
   "id": "59c76ea4",
   "metadata": {},
   "outputs": [
    {
     "data": {
      "text/plain": [
       "-1"
      ]
     },
     "execution_count": 17,
     "metadata": {},
     "output_type": "execute_result"
    }
   ],
   "source": [
    "str.find(str2,30,40)"
   ]
  },
  {
   "cell_type": "markdown",
   "id": "b31e441c",
   "metadata": {},
   "source": [
    "# isalnum()"
   ]
  },
  {
   "cell_type": "code",
   "execution_count": 30,
   "id": "8cc02c23",
   "metadata": {},
   "outputs": [
    {
     "data": {
      "text/plain": [
       "True"
      ]
     },
     "execution_count": 30,
     "metadata": {},
     "output_type": "execute_result"
    }
   ],
   "source": [
    "a=\"this2000\"\n",
    "a.isalnum()"
   ]
  },
  {
   "cell_type": "code",
   "execution_count": 20,
   "id": "356fd3df",
   "metadata": {},
   "outputs": [
    {
     "data": {
      "text/plain": [
       "False"
      ]
     },
     "execution_count": 20,
     "metadata": {},
     "output_type": "execute_result"
    }
   ],
   "source": [
    "b=\"good morning\"\n",
    "b.isalnum()"
   ]
  },
  {
   "cell_type": "markdown",
   "id": "82f4563b",
   "metadata": {},
   "source": [
    "# isalpha()"
   ]
  },
  {
   "cell_type": "code",
   "execution_count": 25,
   "id": "13ac0356",
   "metadata": {},
   "outputs": [
    {
     "data": {
      "text/plain": [
       "True"
      ]
     },
     "execution_count": 25,
     "metadata": {},
     "output_type": "execute_result"
    }
   ],
   "source": [
    "x=\"hello\"\n",
    "x.isalpha()"
   ]
  },
  {
   "cell_type": "code",
   "execution_count": 26,
   "id": "424eaa7a",
   "metadata": {},
   "outputs": [
    {
     "data": {
      "text/plain": [
       "False"
      ]
     },
     "execution_count": 26,
     "metadata": {},
     "output_type": "execute_result"
    }
   ],
   "source": [
    "y=\"hello 123\"\n",
    "y.isalpha()"
   ]
  },
  {
   "cell_type": "markdown",
   "id": "7fdc61ca",
   "metadata": {},
   "source": [
    "# isdigit()"
   ]
  },
  {
   "cell_type": "code",
   "execution_count": 32,
   "id": "7194f439",
   "metadata": {},
   "outputs": [
    {
     "data": {
      "text/plain": [
       "True"
      ]
     },
     "execution_count": 32,
     "metadata": {},
     "output_type": "execute_result"
    }
   ],
   "source": [
    "w=\"1478\"\n",
    "w.isdigit()"
   ]
  },
  {
   "cell_type": "code",
   "execution_count": 33,
   "id": "adb3fbb6",
   "metadata": {},
   "outputs": [
    {
     "data": {
      "text/plain": [
       "False"
      ]
     },
     "execution_count": 33,
     "metadata": {},
     "output_type": "execute_result"
    }
   ],
   "source": [
    "str=\"today 10/05/2023\"\n",
    "str.isdigit()"
   ]
  },
  {
   "cell_type": "markdown",
   "id": "903d04b3",
   "metadata": {},
   "source": [
    "# isspace"
   ]
  },
  {
   "cell_type": "code",
   "execution_count": 35,
   "id": "7d1a5dc1",
   "metadata": {},
   "outputs": [
    {
     "data": {
      "text/plain": [
       "True"
      ]
     },
     "execution_count": 35,
     "metadata": {},
     "output_type": "execute_result"
    }
   ],
   "source": [
    "a=\" \"\n",
    "a.isspace()"
   ]
  },
  {
   "cell_type": "code",
   "execution_count": 36,
   "id": "52992cd8",
   "metadata": {},
   "outputs": [
    {
     "data": {
      "text/plain": [
       "False"
      ]
     },
     "execution_count": 36,
     "metadata": {},
     "output_type": "execute_result"
    }
   ],
   "source": [
    "b=\"hello nafil\"\n",
    "b.isspace()"
   ]
  },
  {
   "cell_type": "markdown",
   "id": "d9abf826",
   "metadata": {},
   "source": [
    "# islower()"
   ]
  },
  {
   "cell_type": "code",
   "execution_count": 37,
   "id": "ed4c7a0f",
   "metadata": {},
   "outputs": [
    {
     "data": {
      "text/plain": [
       "True"
      ]
     },
     "execution_count": 37,
     "metadata": {},
     "output_type": "execute_result"
    }
   ],
   "source": [
    "x=\"my name is nafil\"\n",
    "x.islower()"
   ]
  },
  {
   "cell_type": "code",
   "execution_count": 38,
   "id": "608ffc85",
   "metadata": {},
   "outputs": [
    {
     "data": {
      "text/plain": [
       "False"
      ]
     },
     "execution_count": 38,
     "metadata": {},
     "output_type": "execute_result"
    }
   ],
   "source": [
    "z=\"Good morning\"\n",
    "z.islower()"
   ]
  },
  {
   "cell_type": "markdown",
   "id": "31336666",
   "metadata": {},
   "source": [
    "# isupper()"
   ]
  },
  {
   "cell_type": "code",
   "execution_count": 39,
   "id": "e2d545f0",
   "metadata": {},
   "outputs": [
    {
     "data": {
      "text/plain": [
       "True"
      ]
     },
     "execution_count": 39,
     "metadata": {},
     "output_type": "execute_result"
    }
   ],
   "source": [
    "A=\"HELLO MAITEXA\"\n",
    "A.isupper()"
   ]
  },
  {
   "cell_type": "code",
   "execution_count": 42,
   "id": "b04effbc",
   "metadata": {},
   "outputs": [
    {
     "data": {
      "text/plain": [
       "False"
      ]
     },
     "execution_count": 42,
     "metadata": {},
     "output_type": "execute_result"
    }
   ],
   "source": [
    "b=\"How are you\"\n",
    "b.isupper()"
   ]
  },
  {
   "cell_type": "markdown",
   "id": "c2596608",
   "metadata": {},
   "source": [
    "# istitle()"
   ]
  },
  {
   "cell_type": "code",
   "execution_count": 45,
   "id": "2885f5d4",
   "metadata": {},
   "outputs": [
    {
     "data": {
      "text/plain": [
       "False"
      ]
     },
     "execution_count": 45,
     "metadata": {},
     "output_type": "execute_result"
    }
   ],
   "source": [
    "a=\"thise is a apple\"\n",
    "a.istitle()\n"
   ]
  },
  {
   "cell_type": "code",
   "execution_count": 48,
   "id": "c260f2bf",
   "metadata": {},
   "outputs": [
    {
     "data": {
      "text/plain": [
       "True"
      ]
     },
     "execution_count": 48,
     "metadata": {},
     "output_type": "execute_result"
    }
   ],
   "source": [
    "b='Thise Is A Apple'\n",
    "b.istitle()"
   ]
  },
  {
   "cell_type": "markdown",
   "id": "33359fc9",
   "metadata": {},
   "source": [
    "# strip "
   ]
  },
  {
   "cell_type": "code",
   "execution_count": 76,
   "id": "b2f199e1",
   "metadata": {},
   "outputs": [
    {
     "data": {
      "text/plain": [
       "'good morning nafil.'"
      ]
     },
     "execution_count": 76,
     "metadata": {},
     "output_type": "execute_result"
    }
   ],
   "source": [
    "str='aaa good morning nafil.aaa'\n",
    "str.strip(a)"
   ]
  },
  {
   "cell_type": "markdown",
   "id": "dfd6d775",
   "metadata": {},
   "source": [
    "# partition"
   ]
  },
  {
   "cell_type": "code",
   "execution_count": 84,
   "id": "ccbbd757",
   "metadata": {},
   "outputs": [
    {
     "data": {
      "text/plain": [
       "('This', 'e', ' Is A Apple')"
      ]
     },
     "execution_count": 84,
     "metadata": {},
     "output_type": "execute_result"
    }
   ],
   "source": [
    "str='Thise Is A Apple'\n",
    "str.partition('e')"
   ]
  },
  {
   "cell_type": "code",
   "execution_count": 85,
   "id": "68ebf96e",
   "metadata": {},
   "outputs": [
    {
     "data": {
      "text/plain": [
       "('Th', 'is', 'e Is A Apple')"
      ]
     },
     "execution_count": 85,
     "metadata": {},
     "output_type": "execute_result"
    }
   ],
   "source": [
    "str.partition(\"is\")"
   ]
  },
  {
   "cell_type": "markdown",
   "id": "f2c4835e",
   "metadata": {},
   "source": [
    "# split()"
   ]
  },
  {
   "cell_type": "code",
   "execution_count": 86,
   "id": "43a4d2e8",
   "metadata": {},
   "outputs": [
    {
     "data": {
      "text/plain": [
       "['Thise', 'Is', 'A', 'Apple']"
      ]
     },
     "execution_count": 86,
     "metadata": {},
     "output_type": "execute_result"
    }
   ],
   "source": [
    "str.split()"
   ]
  },
  {
   "cell_type": "markdown",
   "id": "5a9cd85b",
   "metadata": {},
   "source": [
    "# swapcase"
   ]
  },
  {
   "cell_type": "code",
   "execution_count": 89,
   "id": "bcee2d23",
   "metadata": {},
   "outputs": [
    {
     "data": {
      "text/plain": [
       "'HEllO'"
      ]
     },
     "execution_count": 89,
     "metadata": {},
     "output_type": "execute_result"
    }
   ],
   "source": [
    "a=\"heLLo\"\n",
    "a.swapcase()"
   ]
  },
  {
   "cell_type": "markdown",
   "id": "4a048504",
   "metadata": {},
   "source": [
    "# join or separate"
   ]
  },
  {
   "cell_type": "code",
   "execution_count": 104,
   "id": "3e0c4fe9",
   "metadata": {},
   "outputs": [
    {
     "data": {
      "text/plain": [
       "'T*h*i*s* *i*s* *s*t*r*i*g*h*t* *e*x*a*m*p*l*e'"
      ]
     },
     "execution_count": 104,
     "metadata": {},
     "output_type": "execute_result"
    }
   ],
   "source": [
    "x=\"This is stright example\"\n",
    "y=\"*\"\n",
    "y.join(x)"
   ]
  },
  {
   "cell_type": "code",
   "execution_count": 105,
   "id": "f9b089dd",
   "metadata": {},
   "outputs": [
    {
     "data": {
      "text/plain": [
       "'T/h/i/s/ /i/s/ /s/t/r/i/g/h/t/ /e/x/a/m/p/l/e'"
      ]
     },
     "execution_count": 105,
     "metadata": {},
     "output_type": "execute_result"
    }
   ],
   "source": [
    "a=\"/\"\n",
    "a.join(x)\n"
   ]
  },
  {
   "cell_type": "markdown",
   "id": "8cad15b3",
   "metadata": {},
   "source": [
    "# replace "
   ]
  },
  {
   "cell_type": "code",
   "execution_count": 106,
   "id": "cb160c55",
   "metadata": {},
   "outputs": [
    {
     "data": {
      "text/plain": [
       "'it is stright example'"
      ]
     },
     "execution_count": 106,
     "metadata": {},
     "output_type": "execute_result"
    }
   ],
   "source": [
    "x=\"This is stright example\"\n",
    "x.replace(\"This\",\"it\")\n"
   ]
  },
  {
   "cell_type": "code",
   "execution_count": 107,
   "id": "ae83f68b",
   "metadata": {},
   "outputs": [
    {
     "data": {
      "text/plain": [
       "'This is wrong example'"
      ]
     },
     "execution_count": 107,
     "metadata": {},
     "output_type": "execute_result"
    }
   ],
   "source": [
    "x=\"This is stright example\"\n",
    "x.replace(\"stright\",\"wrong\")\n"
   ]
  },
  {
   "cell_type": "code",
   "execution_count": null,
   "id": "f0d7648a",
   "metadata": {},
   "outputs": [],
   "source": []
  }
 ],
 "metadata": {
  "kernelspec": {
   "display_name": "Python 3 (ipykernel)",
   "language": "python",
   "name": "python3"
  },
  "language_info": {
   "codemirror_mode": {
    "name": "ipython",
    "version": 3
   },
   "file_extension": ".py",
   "mimetype": "text/x-python",
   "name": "python",
   "nbconvert_exporter": "python",
   "pygments_lexer": "ipython3",
   "version": "3.9.13"
  }
 },
 "nbformat": 4,
 "nbformat_minor": 5
}
