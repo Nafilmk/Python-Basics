{
 "cells": [
  {
   "cell_type": "markdown",
   "id": "d23e3bf4",
   "metadata": {},
   "source": [
    " Write a Python program to calculate the length of a string"
   ]
  },
  {
   "cell_type": "code",
   "execution_count": 1,
   "id": "ee84fbef",
   "metadata": {},
   "outputs": [
    {
     "name": "stdout",
     "output_type": "stream",
     "text": [
      "6\n"
     ]
    },
    {
     "data": {
      "text/plain": [
       "'string'"
      ]
     },
     "execution_count": 1,
     "metadata": {},
     "output_type": "execute_result"
    }
   ],
   "source": [
    "a=\"string\"\n",
    "print(len(a))\n",
    "a"
   ]
  },
  {
   "cell_type": "markdown",
   "id": "ec74eec5",
   "metadata": {},
   "source": [
    "Write a Python program to count the number of characters  in a string"
   ]
  },
  {
   "cell_type": "code",
   "execution_count": 20,
   "id": "37eb5d24",
   "metadata": {},
   "outputs": [
    {
     "name": "stdout",
     "output_type": "stream",
     "text": [
      "5\n"
     ]
    }
   ],
   "source": [
    "a=\"nafil\"\n",
    "x=0\n",
    "for i in a:\n",
    "    x=x+1\n",
    "print(x)\n"
   ]
  },
  {
   "cell_type": "markdown",
   "id": "232e58a4",
   "metadata": {},
   "source": [
    "Write a Python program to count the occurrences of each word in a given sentence."
   ]
  },
  {
   "cell_type": "code",
   "execution_count": null,
   "id": "53b0defa",
   "metadata": {},
   "outputs": [],
   "source": []
  },
  {
   "cell_type": "code",
   "execution_count": 27,
   "id": "e370b1ec",
   "metadata": {},
   "outputs": [
    {
     "data": {
      "text/plain": [
       "15"
      ]
     },
     "execution_count": 27,
     "metadata": {},
     "output_type": "execute_result"
    }
   ],
   "source": [
    "x=\"Write a Python program to count the occurrences of each word in a given sentence.\"\n",
    "a=x.split()\n",
    "b=0\n",
    "for i in a:\n",
    "    b=b+1\n",
    "b"
   ]
  },
  {
   "cell_type": "markdown",
   "id": "ad9347ac",
   "metadata": {},
   "source": [
    "Write a Python script that takes input from the user and displays that input back in upper and lower cases."
   ]
  },
  {
   "cell_type": "code",
   "execution_count": 12,
   "id": "835bd7b3",
   "metadata": {},
   "outputs": [
    {
     "name": "stdout",
     "output_type": "stream",
     "text": [
      "FIRST NAME :NaFiL\n"
     ]
    },
    {
     "data": {
      "text/plain": [
       "'nafil'"
      ]
     },
     "execution_count": 12,
     "metadata": {},
     "output_type": "execute_result"
    }
   ],
   "source": [
    "a=input(\"FIRST NAME :\")\n",
    "a.lower()"
   ]
  },
  {
   "cell_type": "code",
   "execution_count": 13,
   "id": "54bcdc47",
   "metadata": {},
   "outputs": [
    {
     "data": {
      "text/plain": [
       "'NAFIL'"
      ]
     },
     "execution_count": 13,
     "metadata": {},
     "output_type": "execute_result"
    }
   ],
   "source": [
    "a.upper()"
   ]
  },
  {
   "cell_type": "code",
   "execution_count": null,
   "id": "8b184409",
   "metadata": {},
   "outputs": [],
   "source": []
  }
 ],
 "metadata": {
  "kernelspec": {
   "display_name": "Python 3 (ipykernel)",
   "language": "python",
   "name": "python3"
  },
  "language_info": {
   "codemirror_mode": {
    "name": "ipython",
    "version": 3
   },
   "file_extension": ".py",
   "mimetype": "text/x-python",
   "name": "python",
   "nbconvert_exporter": "python",
   "pygments_lexer": "ipython3",
   "version": "3.9.13"
  }
 },
 "nbformat": 4,
 "nbformat_minor": 5
}
