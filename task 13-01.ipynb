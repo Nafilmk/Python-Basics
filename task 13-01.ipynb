{
 "cells": [
  {
   "cell_type": "markdown",
   "id": "71be4c86",
   "metadata": {},
   "source": [
    "Write a Python program to create a tuple. "
   ]
  },
  {
   "cell_type": "code",
   "execution_count": 21,
   "id": "64db8149",
   "metadata": {},
   "outputs": [
    {
     "data": {
      "text/plain": [
       "(1, 2, 3, 4, 5, 6)"
      ]
     },
     "execution_count": 21,
     "metadata": {},
     "output_type": "execute_result"
    }
   ],
   "source": [
    "t=(1,2,3,4,5,6)\n",
    "t"
   ]
  },
  {
   "cell_type": "markdown",
   "id": "d7072d63",
   "metadata": {},
   "source": [
    "Write a Python program to create a tuple with different data types."
   ]
  },
  {
   "cell_type": "code",
   "execution_count": 24,
   "id": "ea53b6bb",
   "metadata": {},
   "outputs": [
    {
     "data": {
      "text/plain": [
       "('a', 'b', 'c', 1, 2, 3, 1.5, 2.8)"
      ]
     },
     "execution_count": 24,
     "metadata": {},
     "output_type": "execute_result"
    }
   ],
   "source": [
    "a=(\"a\",\"b\",\"c\",1,2,3,1.5,2.8)\n",
    "a"
   ]
  },
  {
   "cell_type": "markdown",
   "id": "d5c976b3",
   "metadata": {},
   "source": [
    "Write a Python program to create a tuple with numbers and print one item."
   ]
  },
  {
   "cell_type": "code",
   "execution_count": 27,
   "id": "640a6cac",
   "metadata": {},
   "outputs": [
    {
     "data": {
      "text/plain": [
       "3"
      ]
     },
     "execution_count": 27,
     "metadata": {},
     "output_type": "execute_result"
    }
   ],
   "source": [
    "x=(1,2,3,4,5,6,7,8)\n",
    "x[2]"
   ]
  },
  {
   "cell_type": "markdown",
   "id": "8526b24f",
   "metadata": {},
   "source": [
    "Write a Python program to unpack a tuple in several variables."
   ]
  },
  {
   "cell_type": "code",
   "execution_count": 31,
   "id": "d782d64f",
   "metadata": {},
   "outputs": [
    {
     "name": "stdout",
     "output_type": "stream",
     "text": [
      "('apple', 'banana', 'mango')\n"
     ]
    }
   ],
   "source": [
    "a=(\"apple\",\"banana\",\"cherry\")\n",
    "green,yellow,red=a\n",
    "red=\"mango\"\n",
    "a=(green,yellow,red)\n",
    "print(a)\n"
   ]
  },
  {
   "cell_type": "markdown",
   "id": "67a2d5f3",
   "metadata": {},
   "source": [
    "Write a Python program to add an item in a tuple."
   ]
  },
  {
   "cell_type": "code",
   "execution_count": 32,
   "id": "5a8ee298",
   "metadata": {},
   "outputs": [
    {
     "data": {
      "text/plain": [
       "(1, 2, 3, 4, 5, 6, 7, 200)"
      ]
     },
     "execution_count": 32,
     "metadata": {},
     "output_type": "execute_result"
    }
   ],
   "source": [
    "t1=(1,2,3,4,5,6,7)\n",
    "t1+(200,)"
   ]
  },
  {
   "cell_type": "markdown",
   "id": "8cbfa540",
   "metadata": {},
   "source": [
    "Write a Python program to convert a tuple to a string."
   ]
  },
  {
   "cell_type": "code",
   "execution_count": 41,
   "id": "e773841d",
   "metadata": {},
   "outputs": [
    {
     "data": {
      "text/plain": [
       "'(1, 2, 3, 4, 5, 6, 7)'"
      ]
     },
     "execution_count": 41,
     "metadata": {},
     "output_type": "execute_result"
    }
   ],
   "source": [
    "t1=(1,2,3,4,5,6,7)\n",
    "type(t1)\n",
    "s=str(t1)\n",
    "s\n"
   ]
  },
  {
   "cell_type": "markdown",
   "id": "ab685b17",
   "metadata": {},
   "source": [
    "Write a Python program to convert a list to a tuple."
   ]
  },
  {
   "cell_type": "code",
   "execution_count": 44,
   "id": "218278a3",
   "metadata": {},
   "outputs": [
    {
     "data": {
      "text/plain": [
       "('a', 'b', 'c', 'd')"
      ]
     },
     "execution_count": 44,
     "metadata": {},
     "output_type": "execute_result"
    }
   ],
   "source": [
    "l1=['a','b','c','d']\n",
    "type(l1)\n",
    "t1=tuple(l1)\n",
    "t1"
   ]
  },
  {
   "cell_type": "markdown",
   "id": "d0af6354",
   "metadata": {},
   "source": [
    "Write a Python program to find the length of a tuple."
   ]
  },
  {
   "cell_type": "code",
   "execution_count": 45,
   "id": "bdb5b0f8",
   "metadata": {},
   "outputs": [
    {
     "data": {
      "text/plain": [
       "7"
      ]
     },
     "execution_count": 45,
     "metadata": {},
     "output_type": "execute_result"
    }
   ],
   "source": [
    "t1=(1,2,3,4,5,6,7)\n",
    "len(t1)"
   ]
  },
  {
   "cell_type": "markdown",
   "id": "1f15971b",
   "metadata": {},
   "source": [
    "Write a Python program to reverse a tuple."
   ]
  },
  {
   "cell_type": "code",
   "execution_count": 46,
   "id": "647a820d",
   "metadata": {},
   "outputs": [
    {
     "data": {
      "text/plain": [
       "(7, 6, 5, 4, 3, 2, 1)"
      ]
     },
     "execution_count": 46,
     "metadata": {},
     "output_type": "execute_result"
    }
   ],
   "source": [
    "t1=(1,2,3,4,5,6,7)\n",
    "t1[::-1]"
   ]
  },
  {
   "cell_type": "code",
   "execution_count": null,
   "id": "b9984dcd",
   "metadata": {},
   "outputs": [],
   "source": [
    " "
   ]
  },
  {
   "cell_type": "code",
   "execution_count": null,
   "id": "c7745f7b",
   "metadata": {},
   "outputs": [],
   "source": []
  }
 ],
 "metadata": {
  "kernelspec": {
   "display_name": "Python 3 (ipykernel)",
   "language": "python",
   "name": "python3"
  },
  "language_info": {
   "codemirror_mode": {
    "name": "ipython",
    "version": 3
   },
   "file_extension": ".py",
   "mimetype": "text/x-python",
   "name": "python",
   "nbconvert_exporter": "python",
   "pygments_lexer": "ipython3",
   "version": "3.9.13"
  }
 },
 "nbformat": 4,
 "nbformat_minor": 5
}
