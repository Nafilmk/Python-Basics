{
  "nbformat": 4,
  "nbformat_minor": 0,
  "metadata": {
    "colab": {
      "provenance": []
    },
    "kernelspec": {
      "name": "python3",
      "display_name": "Python 3"
    },
    "language_info": {
      "name": "python"
    }
  },
  "cells": [
    {
      "cell_type": "code",
      "execution_count": null,
      "metadata": {
        "colab": {
          "base_uri": "https://localhost:8080/"
        },
        "id": "CcdfAb-CZ1O5",
        "outputId": "77bded02-88f0-4709-aeee-b69df0f6c9f1"
      },
      "outputs": [
        {
          "name": "stdout",
          "output_type": "stream",
          "text": [
            "enter a number :10\n",
            "total = 10\n",
            "enter a number :25\n",
            "total = 35\n",
            "enter a number :40\n",
            "total = 75\n",
            "enter a number :32\n",
            "total = 107\n",
            "enter a number :0\n"
          ]
        }
      ],
      "source": [
        "total=0\n",
        "number=int(input(\"enter a number :\"))\n",
        "while number !=0:\n",
        "    total=total+number\n",
        "    print(\"total =\",total)\n",
        "    number=int(input(\"enter a number :\"))"
      ]
    },
    {
      "cell_type": "code",
      "source": [
        "counter = 0\n",
        "\n",
        "while counter < 3:\n",
        "    print('Inside loop')\n",
        "    counter = counter + 1\n",
        "else:\n",
        "    print('Inside else')\n"
      ],
      "metadata": {
        "colab": {
          "base_uri": "https://localhost:8080/"
        },
        "id": "O0rLbHKRaA-W",
        "outputId": "5a821359-ed00-4b44-912e-417b067000f7"
      },
      "execution_count": null,
      "outputs": [
        {
          "output_type": "stream",
          "name": "stdout",
          "text": [
            "Inside loop\n",
            "Inside loop\n",
            "Inside loop\n",
            "Inside else\n"
          ]
        }
      ]
    },
    {
      "cell_type": "markdown",
      "source": [
        "for loop"
      ],
      "metadata": {
        "id": "zpofeND9e5p0"
      }
    },
    {
      "cell_type": "code",
      "source": [
        "digits = [0, 1, 5]\n",
        "\n",
        "for i in digits:\n",
        "    print(i)\n",
        "else:\n",
        "    print(\"No items left.\")"
      ],
      "metadata": {
        "colab": {
          "base_uri": "https://localhost:8080/"
        },
        "id": "jJNC-eZIbbyq",
        "outputId": "b7d35e9e-fefe-49eb-9f85-10e5fa0476a5"
      },
      "execution_count": null,
      "outputs": [
        {
          "output_type": "stream",
          "name": "stdout",
          "text": [
            "0\n",
            "1\n",
            "5\n",
            "No items left.\n"
          ]
        }
      ]
    },
    {
      "cell_type": "code",
      "source": [],
      "metadata": {
        "id": "5pEYjWjpe-Gx"
      },
      "execution_count": null,
      "outputs": []
    }
  ]
}