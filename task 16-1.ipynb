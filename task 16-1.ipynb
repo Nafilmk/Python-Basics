{
 "cells": [
  {
   "cell_type": "markdown",
   "id": "60957e5a",
   "metadata": {},
   "source": [
    "Write a program to check if a given number is a multiple of 5."
   ]
  },
  {
   "cell_type": "code",
   "execution_count": 1,
   "id": "3c00d184",
   "metadata": {},
   "outputs": [
    {
     "name": "stdout",
     "output_type": "stream",
     "text": [
      "enter a number : 5\n",
      "multiple of 5\n"
     ]
    }
   ],
   "source": [
    "a=int(input(\"enter a number : \"))\n",
    "if (a%5==0):\n",
    "    print(\"multiple of 5\")\n",
    "else:\n",
    "    print(\"it not multiple of 5\")\n",
    "    "
   ]
  },
  {
   "cell_type": "markdown",
   "id": "50d615db",
   "metadata": {},
   "source": [
    "Write a program to give a discount of 10% if the total bill amount exceeds 1000."
   ]
  },
  {
   "cell_type": "code",
   "execution_count": 2,
   "id": "6347ca34",
   "metadata": {},
   "outputs": [
    {
     "name": "stdout",
     "output_type": "stream",
     "text": [
      "enter your amout :5\n",
      "you have must pay this amount\n"
     ]
    }
   ],
   "source": [
    "a=int(input(\"enter your amout :\"))\n",
    "if (a>1000):\n",
    "    x=10/100*a\n",
    "    y=a-10/100*a\n",
    "    print(\"actual bill :\",a)\n",
    "    print(\"your discout amount of :\",x)\n",
    "    print(\"your payable amount    :\",y)\n",
    "else:\n",
    "    print(\"you have must pay this amount\")\n"
   ]
  },
  {
   "cell_type": "markdown",
   "id": "e8520135",
   "metadata": {},
   "source": [
    " Minimum age to Cast your Vote : 18  Minimum age to Contest an Election: 25.  Given the age verify if the person can vote and can s(he) contest an election."
   ]
  },
  {
   "cell_type": "code",
   "execution_count": 3,
   "id": "99af32ba",
   "metadata": {},
   "outputs": [
    {
     "name": "stdout",
     "output_type": "stream",
     "text": [
      "enter age : 5\n",
      "not voter\n"
     ]
    }
   ],
   "source": [
    "a=int(input(\"enter age : \"))\n",
    "if (18<=a and 25>a):\n",
    "    print(\"he is voter\")\n",
    "elif (25<=a):\n",
    "    print(\"he is voter and contestent\")\n",
    "else:\n",
    "    print(\"not voter\")"
   ]
  },
  {
   "cell_type": "markdown",
   "id": "79e72e8c",
   "metadata": {},
   "source": [
    " Write a program to check if a given year is leap year or not."
   ]
  },
  {
   "cell_type": "markdown",
   "id": "c1c7c7e7",
   "metadata": {},
   "source": [
    " Logic:   if a year is not divisible by 4, its not a leap year.   If a year is divisible by 4 and not divisible by 100, it’s a leap year.  If a year is divisible by 4 and 100 then it should be divisible by 400 to be a leap year"
   ]
  },
  {
   "cell_type": "code",
   "execution_count": 4,
   "id": "2abba4ae",
   "metadata": {},
   "outputs": [
    {
     "name": "stdout",
     "output_type": "stream",
     "text": [
      "enter a year : 1800\n",
      "1800 is not a leap year\n"
     ]
    }
   ],
   "source": [
    "a=int(input(\"enter a year : \"))\n",
    "if (a%4==0)and(a%100!=0):\n",
    "    print(a, \"is a leap year\")\n",
    "else:\n",
    "    if(a%100==0)and(a%400==0):\n",
    "        print(a, \"is a leap year\")\n",
    "    else:\n",
    "        print(a, \"is not a leap year\")"
   ]
  },
  {
   "cell_type": "markdown",
   "id": "afc0f801",
   "metadata": {},
   "source": [
    "2 "
   ]
  },
  {
   "cell_type": "code",
   "execution_count": 5,
   "id": "bea4a312",
   "metadata": {},
   "outputs": [
    {
     "name": "stdout",
     "output_type": "stream",
     "text": [
      "2020\n",
      "2020 is a leap\n"
     ]
    }
   ],
   "source": [
    "a=int(input())\n",
    "if (a%4==0):\n",
    "    if (a%100==0):\n",
    "        if (a%400==0):\n",
    "            print(a, \"is a leap\")\n",
    "        else:\n",
    "            print(a, \"is not a leap\")\n",
    "    else:\n",
    "        print(a, \"is a leap\")\n",
    "else:\n",
    "    print(a, \"is not a leap\")"
   ]
  },
  {
   "cell_type": "markdown",
   "id": "c16bad28",
   "metadata": {},
   "source": [
    "find armstrong number"
   ]
  },
  {
   "cell_type": "code",
   "execution_count": 14,
   "id": "7141a017",
   "metadata": {},
   "outputs": [
    {
     "name": "stdout",
     "output_type": "stream",
     "text": [
      "enter a number : 153\n",
      "is armstrong number\n"
     ]
    }
   ],
   "source": [
    "a=int(input(\"enter a number : \"))\n",
    "sum=0\n",
    "n=a\n",
    "while n>0:\n",
    "    d=n%10\n",
    "    sum+=d**3\n",
    "    n//=10\n",
    "if a==sum:\n",
    "    print(\"is armstrong number\")\n",
    "else:\n",
    "    print(\"is not armstrong number\")"
   ]
  },
  {
   "cell_type": "markdown",
   "id": "2d689e41",
   "metadata": {},
   "source": [
    " reverse of a number"
   ]
  },
  {
   "cell_type": "code",
   "execution_count": 9,
   "id": "9f3fff34",
   "metadata": {},
   "outputs": [
    {
     "name": "stdout",
     "output_type": "stream",
     "text": [
      "enter a number : 132\n",
      "Reversed Number: 231\n"
     ]
    }
   ],
   "source": [
    "a=int(input(\"enter a number : \"))\n",
    "b=0\n",
    "while a!=0:\n",
    "    d=a%10\n",
    "    b=b*10+d\n",
    "    a//=10\n",
    "print(\"Reversed Number:\",b)"
   ]
  },
  {
   "cell_type": "code",
   "execution_count": null,
   "id": "6f631c8b",
   "metadata": {},
   "outputs": [],
   "source": [
    " "
   ]
  },
  {
   "cell_type": "code",
   "execution_count": null,
   "id": "9e6baae3",
   "metadata": {},
   "outputs": [],
   "source": []
  }
 ],
 "metadata": {
  "kernelspec": {
   "display_name": "Python 3 (ipykernel)",
   "language": "python",
   "name": "python3"
  },
  "language_info": {
   "codemirror_mode": {
    "name": "ipython",
    "version": 3
   },
   "file_extension": ".py",
   "mimetype": "text/x-python",
   "name": "python",
   "nbconvert_exporter": "python",
   "pygments_lexer": "ipython3",
   "version": "3.9.13"
  }
 },
 "nbformat": 4,
 "nbformat_minor": 5
}
