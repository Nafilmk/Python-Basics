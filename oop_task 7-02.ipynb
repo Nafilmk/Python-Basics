{
 "cells": [
  {
   "cell_type": "markdown",
   "id": "dcd188bb",
   "metadata": {},
   "source": [
    "program to show that we can create instance variables inside methods"
   ]
  },
  {
   "cell_type": "code",
   "execution_count": 27,
   "id": "f3f87a95",
   "metadata": {},
   "outputs": [
    {
     "name": "stdout",
     "output_type": "stream",
     "text": [
      "student 1\n",
      "name :ajmal\n",
      "age  :21\n",
      "mark :450\n"
     ]
    }
   ],
   "source": [
    "class student:\n",
    "  def __init__(self,name,age):\n",
    "    self.name=name\n",
    "    self.age=age\n",
    "  def mark(self,mark):\n",
    "    self.mark=mark\n",
    "s1=student(\"ajmal\",21)\n",
    "s1.mark(450)\n",
    "print(\"student 1\")\n",
    "print(\"name :{}\".format(s1.name))\n",
    "print(\"age  :{}\".format(s1.age)) \n",
    "print(\"mark :{}\".format(s1.mark))"
   ]
  },
  {
   "cell_type": "markdown",
   "id": "c184afeb",
   "metadata": {},
   "source": [
    "Python Program to Create a Class in which One Method Accepts a String from the User and Another Prints it"
   ]
  },
  {
   "cell_type": "code",
   "execution_count": 3,
   "id": "4c949278",
   "metadata": {},
   "outputs": [
    {
     "name": "stdout",
     "output_type": "stream",
     "text": [
      "Enter the string : nafil\n",
      "The string is:\n",
      "nafil\n"
     ]
    }
   ],
   "source": [
    "class print_it():\n",
    "   def __init__(self):\n",
    "      self.string = \"\"\n",
    "   def get_data(self):\n",
    "      self.string=input(\"Enter the string : \")\n",
    "   def put_data(self):\n",
    "      print(\"The string is:\")\n",
    "      print(self.string)\n",
    "my_instance = print_it()\n",
    "my_instance.get_data()\n",
    "my_instance.put_data()"
   ]
  },
  {
   "cell_type": "markdown",
   "id": "4beb385e",
   "metadata": {},
   "source": [
    "Python Program to Create a Class which Performs Basic Calculator Operations"
   ]
  },
  {
   "cell_type": "code",
   "execution_count": 3,
   "id": "73f4a908",
   "metadata": {},
   "outputs": [
    {
     "name": "stdout",
     "output_type": "stream",
     "text": [
      "Enter first number: 5\n",
      "Enter second number: 5\n",
      "0. Exit\n",
      "1. Add\n",
      "2. Subtraction\n",
      "3. Multiplication\n",
      "4. Division\n",
      "Enter choice: 1\n",
      "Result:  10\n",
      "0. Exit\n",
      "1. Add\n",
      "2. Subtraction\n",
      "3. Multiplication\n",
      "4. Division\n",
      "Enter choice: 2\n",
      "Result:  0\n",
      "0. Exit\n",
      "1. Add\n",
      "2. Subtraction\n",
      "3. Multiplication\n",
      "4. Division\n",
      "Enter choice: 0\n",
      "Exiting!\n"
     ]
    }
   ],
   "source": [
    "class cal():\n",
    "    def __init__(self,a,b):\n",
    "        self.a=a\n",
    "        self.b=b\n",
    "    def add(self):\n",
    "        return self.a+self.b\n",
    "    def mul(self):\n",
    "        return self.a*self.b\n",
    "    def div(self):\n",
    "        return self.a/self.b\n",
    "    def sub(self):\n",
    "        return self.a-self.b\n",
    "a=int(input(\"Enter first number: \"))\n",
    "b=int(input(\"Enter second number: \"))\n",
    "obj=cal(a,b)\n",
    "choice=1\n",
    "while choice!=0:\n",
    "    print(\"0. Exit\")\n",
    "    print(\"1. Add\")\n",
    "    print(\"2. Subtraction\")\n",
    "    print(\"3. Multiplication\")\n",
    "    print(\"4. Division\")\n",
    "    choice=int(input(\"Enter choice: \"))\n",
    "    if choice==1:\n",
    "        print(\"Result: \",obj.add())\n",
    "    elif choice==2:\n",
    "        print(\"Result: \",obj.sub())\n",
    "    elif choice==3:\n",
    "        print(\"Result: \",obj.mul())\n",
    "    elif choice==4:\n",
    "        print(\"Result: \",round(obj.div(),2))\n",
    "    elif choice==0:\n",
    "        print(\"Exiting!\")\n",
    "    else:\n",
    "        print(\"Invalid choice!!\")"
   ]
  },
  {
   "cell_type": "markdown",
   "id": "19fca5e6",
   "metadata": {},
   "source": [
    "Also find Program to Create a Class and Compute the Area of the Circle"
   ]
  },
  {
   "cell_type": "code",
   "execution_count": 9,
   "id": "18dfce0b",
   "metadata": {},
   "outputs": [
    {
     "name": "stdout",
     "output_type": "stream",
     "text": [
      "Enter radius of circle: 5\n",
      "Area of circle: 78.54\n"
     ]
    }
   ],
   "source": [
    "import math\n",
    "class circle():\n",
    "    def __init__(self,radius):\n",
    "        self.radius=radius\n",
    "    def area(self):\n",
    "        return math.pi*(self.radius**2)\n",
    "    \n",
    "radius=int(input(\"Enter radius of circle: \"))\n",
    "obj=circle(radius)\n",
    "print(\"Area of circle:\",round(obj.area(),2))"
   ]
  },
  {
   "cell_type": "markdown",
   "id": "142a59b8",
   "metadata": {},
   "source": [
    "Python Program to Find the Area of a Rectangle Using Classes"
   ]
  },
  {
   "cell_type": "code",
   "execution_count": 10,
   "id": "60836aaa",
   "metadata": {},
   "outputs": [
    {
     "name": "stdout",
     "output_type": "stream",
     "text": [
      "enter a width  :5\n",
      "enter a length :6\n",
      "area of rectangle : 30\n"
     ]
    }
   ],
   "source": [
    "import math\n",
    "class rectangle():\n",
    "    def __init__(self,w,l):\n",
    "        self.w=w\n",
    "        self.l=l\n",
    "    def area(self):\n",
    "        return self.w*self.l\n",
    "w=int(input(\"enter a width  :\"))\n",
    "l=int(input(\"enter a length :\"))\n",
    "obj=rectangle(w,l)\n",
    "print(\"area of rectangle :\",obj.area())"
   ]
  },
  {
   "cell_type": "raw",
   "id": "133f30bb",
   "metadata": {},
   "source": [
    "# Create a Student class and initialize it with name and roll number. Make methods to :\n",
    "1. Display - It should display all informations of the student.\n",
    "2. setAge - It should assign age to student\n",
    "3. setMarks - It should assign marks to the student."
   ]
  },
  {
   "cell_type": "code",
   "execution_count": 31,
   "id": "0bf12337",
   "metadata": {},
   "outputs": [
    {
     "name": "stdout",
     "output_type": "stream",
     "text": [
      "name : nafil\n",
      "roll no : 10\n",
      "age  :22\n",
      "mark :450\n"
     ]
    }
   ],
   "source": [
    "class student:\n",
    "    def __init__(self,name,roll_no):\n",
    "        self.name=name\n",
    "        self.roll_no=roll_no\n",
    "    def display(self):\n",
    "        print(\"name :\",self.name)\n",
    "        print(\"roll no :\",self.roll_no)\n",
    "    def age(self,age):\n",
    "        self.age=age\n",
    "    def mark(self,mark):\n",
    "        self.mark=mark\n",
    "obj=student(\"nafil\",10)\n",
    "obj.display()\n",
    "obj.age(22)\n",
    "obj.mark(450)\n",
    "print(\"age  :{}\".format(obj.age))\n",
    "print(\"mark :{}\".format(obj.mark))"
   ]
  },
  {
   "cell_type": "markdown",
   "id": "1469eefd",
   "metadata": {},
   "source": [
    "Create a Class with instance attributes"
   ]
  },
  {
   "cell_type": "code",
   "execution_count": 27,
   "id": "92c794ee",
   "metadata": {},
   "outputs": [
    {
     "name": "stdout",
     "output_type": "stream",
     "text": [
      "name : tomy\n",
      "age  : 5\n"
     ]
    }
   ],
   "source": [
    "class dog:\n",
    "    def __init__(self,name,age):\n",
    "        self.name =name\n",
    "        self.age =age\n",
    "    def display(self):\n",
    "        print(\"name :\",self.name)\n",
    "        print(\"age  :\",self.age)\n",
    "obj=dog(\"tomy\",5)\n",
    "obj.display()"
   ]
  },
  {
   "cell_type": "markdown",
   "id": "fb350169",
   "metadata": {},
   "source": [
    "Create a Vehicle class without any variables and methods"
   ]
  },
  {
   "cell_type": "code",
   "execution_count": 29,
   "id": "d872c670",
   "metadata": {},
   "outputs": [],
   "source": [
    "class vehicle:\n",
    "    pass"
   ]
  },
  {
   "cell_type": "markdown",
   "id": "560a9beb",
   "metadata": {},
   "source": [
    "Create a child class Bus that will inherit all of the variables and methods of the Vehicle class"
   ]
  },
  {
   "cell_type": "code",
   "execution_count": 30,
   "id": "b92e05df",
   "metadata": {},
   "outputs": [
    {
     "name": "stdout",
     "output_type": "stream",
     "text": [
      "company name :volvo\n",
      "color  :black\n",
      "milege :10\n"
     ]
    }
   ],
   "source": [
    "class vehicle:\n",
    "  def color(self):\n",
    "    print(\"color  :black\")\n",
    "  def milege(self):\n",
    "    print(\"milege :10\")\n",
    "class bus(vehicle):\n",
    "  def __init__(self,company_name):\n",
    "    self.company_name=company_name\n",
    "bs=bus(\"volvo\")\n",
    "print(\"company name :{}\".format(bs.company_name))\n",
    "bs.color()\n",
    "bs.milege()    "
   ]
  },
  {
   "cell_type": "markdown",
   "id": "76675685",
   "metadata": {},
   "source": [
    "Create a Bus class that inherits from the Vehicle class. Give the capacity argument of Bus.seating_capacity() a default value of 50."
   ]
  },
  {
   "cell_type": "code",
   "execution_count": 31,
   "id": "b64faf2b",
   "metadata": {},
   "outputs": [
    {
     "name": "stdout",
     "output_type": "stream",
     "text": [
      "company name volvo\n",
      "color  :black\n",
      "milege :10\n",
      "seat capacity :50\n"
     ]
    }
   ],
   "source": [
    "class vehicle:\n",
    "  def color(self):\n",
    "    print(\"color  :black\")\n",
    "  def milege(self):\n",
    "    print(\"milege :10\")\n",
    "class bus(vehicle):\n",
    "  def __init__(self,company_name):\n",
    "    self.company_name=company_name\n",
    "  def seating_capacity(self):\n",
    "    print(\"seat capacity :50\")\n",
    "bs=bus(\"volvo\")\n",
    "print(\"company name {}\".format(bs.company_name))\n",
    "bs.color()\n",
    "bs.milege()\n",
    "bs.seating_capacity()"
   ]
  },
  {
   "cell_type": "code",
   "execution_count": null,
   "id": "58bc0045",
   "metadata": {},
   "outputs": [],
   "source": []
  }
 ],
 "metadata": {
  "kernelspec": {
   "display_name": "Python 3 (ipykernel)",
   "language": "python",
   "name": "python3"
  },
  "language_info": {
   "codemirror_mode": {
    "name": "ipython",
    "version": 3
   },
   "file_extension": ".py",
   "mimetype": "text/x-python",
   "name": "python",
   "nbconvert_exporter": "python",
   "pygments_lexer": "ipython3",
   "version": "3.9.13"
  }
 },
 "nbformat": 4,
 "nbformat_minor": 5
}
