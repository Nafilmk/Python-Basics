{
 "cells": [
  {
   "cell_type": "markdown",
   "id": "4dd6d664",
   "metadata": {},
   "source": [
    "Write a Python program to create a set."
   ]
  },
  {
   "cell_type": "code",
   "execution_count": 8,
   "id": "3e1221eb",
   "metadata": {},
   "outputs": [
    {
     "data": {
      "text/plain": [
       "{1, 2, 3, 4, 5, 6, 7, 8, 9}"
      ]
     },
     "execution_count": 8,
     "metadata": {},
     "output_type": "execute_result"
    }
   ],
   "source": [
    "x={1,2,3,4,5,6,7,8,9}\n",
    "x"
   ]
  },
  {
   "cell_type": "markdown",
   "id": "75befa38",
   "metadata": {},
   "source": [
    "Write a Python program to add member(s) in a set."
   ]
  },
  {
   "cell_type": "code",
   "execution_count": 9,
   "id": "6d08d59a",
   "metadata": {},
   "outputs": [
    {
     "name": "stdout",
     "output_type": "stream",
     "text": [
      "{1, 2, 3, 4, 5, 6, 7, 8, 9, 's'}\n"
     ]
    }
   ],
   "source": [
    "x={1,2,3,4,5,6,7,8,9}\n",
    "z=x.add(\"s\")\n",
    "print(x)"
   ]
  },
  {
   "cell_type": "markdown",
   "id": "1047c1bc",
   "metadata": {},
   "source": [
    "Write a Python program to remove item(s) from a given set."
   ]
  },
  {
   "cell_type": "code",
   "execution_count": 10,
   "id": "7ceadce9",
   "metadata": {},
   "outputs": [
    {
     "data": {
      "text/plain": [
       "{1, 2, 3, 4, 5, 6, 7, 8, 9}"
      ]
     },
     "execution_count": 10,
     "metadata": {},
     "output_type": "execute_result"
    }
   ],
   "source": [
    "x.remove(\"s\")\n",
    "x"
   ]
  },
  {
   "cell_type": "markdown",
   "id": "bf72c900",
   "metadata": {},
   "source": [
    "Write a Python program to create an intersection, union, set difference, symmetric difference of sets."
   ]
  },
  {
   "cell_type": "code",
   "execution_count": 17,
   "id": "ae9adeb9",
   "metadata": {},
   "outputs": [
    {
     "data": {
      "text/plain": [
       "{2, 4, 6, 8}"
      ]
     },
     "execution_count": 17,
     "metadata": {},
     "output_type": "execute_result"
    }
   ],
   "source": [
    "x={1,2,3,4,5,6,7,8,9}\n",
    "y={2,4,6,8,10}\n",
    "x&(y)"
   ]
  },
  {
   "cell_type": "code",
   "execution_count": 16,
   "id": "82fe78dc",
   "metadata": {},
   "outputs": [
    {
     "data": {
      "text/plain": [
       "{1, 2, 3, 4, 5, 6, 7, 8, 9, 10}"
      ]
     },
     "execution_count": 16,
     "metadata": {},
     "output_type": "execute_result"
    }
   ],
   "source": [
    "x|(y)"
   ]
  },
  {
   "cell_type": "code",
   "execution_count": 13,
   "id": "bdf3b790",
   "metadata": {},
   "outputs": [
    {
     "data": {
      "text/plain": [
       "{1, 3, 5, 7, 9}"
      ]
     },
     "execution_count": 13,
     "metadata": {},
     "output_type": "execute_result"
    }
   ],
   "source": [
    "x-y"
   ]
  },
  {
   "cell_type": "code",
   "execution_count": 14,
   "id": "a134cf08",
   "metadata": {},
   "outputs": [
    {
     "data": {
      "text/plain": [
       "{1, 3, 5, 7, 9, 10}"
      ]
     },
     "execution_count": 14,
     "metadata": {},
     "output_type": "execute_result"
    }
   ],
   "source": [
    "x^y"
   ]
  },
  {
   "cell_type": "markdown",
   "id": "4b8ac9f5",
   "metadata": {},
   "source": [
    "Write a Python program to check if a set is a subset of another set."
   ]
  },
  {
   "cell_type": "code",
   "execution_count": 20,
   "id": "f6717673",
   "metadata": {},
   "outputs": [
    {
     "data": {
      "text/plain": [
       "False"
      ]
     },
     "execution_count": 20,
     "metadata": {},
     "output_type": "execute_result"
    }
   ],
   "source": [
    "a={1,2,3,4,5,6,7,8,9}\n",
    "y={2,4,6,8,10}\n",
    "a.issubset(y)"
   ]
  },
  {
   "cell_type": "markdown",
   "id": "a451a934",
   "metadata": {},
   "source": [
    "Write a Python program to create a shallow copy of sets."
   ]
  },
  {
   "cell_type": "code",
   "execution_count": 22,
   "id": "e778868b",
   "metadata": {},
   "outputs": [
    {
     "data": {
      "text/plain": [
       "{1, 2, 3, 4, 5, 6, 7, 8, 9}"
      ]
     },
     "execution_count": 22,
     "metadata": {},
     "output_type": "execute_result"
    }
   ],
   "source": [
    "a={1,2,3,4,5,6,7,8,9}\n",
    "b=a.copy()\n",
    "b"
   ]
  },
  {
   "cell_type": "markdown",
   "id": "a10bbbce",
   "metadata": {},
   "source": [
    "Write a Python program to remove all elements from a given set."
   ]
  },
  {
   "cell_type": "code",
   "execution_count": 24,
   "id": "7539c7df",
   "metadata": {},
   "outputs": [
    {
     "data": {
      "text/plain": [
       "set()"
      ]
     },
     "execution_count": 24,
     "metadata": {},
     "output_type": "execute_result"
    }
   ],
   "source": [
    "a={1,2,3,4,5,6,7,8,9}\n",
    "a.clear()\n",
    "a"
   ]
  },
  {
   "cell_type": "markdown",
   "id": "1f035008",
   "metadata": {},
   "source": [
    "Write a Python program to find the length of a set."
   ]
  },
  {
   "cell_type": "code",
   "execution_count": 25,
   "id": "aa5a6b7c",
   "metadata": {},
   "outputs": [
    {
     "data": {
      "text/plain": [
       "9"
      ]
     },
     "execution_count": 25,
     "metadata": {},
     "output_type": "execute_result"
    }
   ],
   "source": [
    "a={1,2,3,4,5,6,7,8,9}\n",
    "len(a)"
   ]
  },
  {
   "cell_type": "markdown",
   "id": "add6d6b7",
   "metadata": {},
   "source": [
    "Write a Python program to check if two given sets have no elements in common."
   ]
  },
  {
   "cell_type": "code",
   "execution_count": 27,
   "id": "5f5aa612",
   "metadata": {},
   "outputs": [
    {
     "data": {
      "text/plain": [
       "set()"
      ]
     },
     "execution_count": 27,
     "metadata": {},
     "output_type": "execute_result"
    }
   ],
   "source": [
    "x={1,2,3,4,5,6,7,8,9}\n",
    "y={10,11,20,21}\n",
    "x&y"
   ]
  },
  {
   "cell_type": "markdown",
   "id": "6b05b495",
   "metadata": {},
   "source": [
    "Write a Python script to add a key to a dictionary."
   ]
  },
  {
   "cell_type": "code",
   "execution_count": 17,
   "id": "9f858a6e",
   "metadata": {},
   "outputs": [
    {
     "data": {
      "text/plain": [
       "{'name': 'nafil', 'age': 21, 'place': 'thalassery', 'colification': ' '}"
      ]
     },
     "execution_count": 17,
     "metadata": {},
     "output_type": "execute_result"
    }
   ],
   "source": [
    "d={\"name\":\"nafil\",\"age\":21,\"place\":\"thalassery\"}\n",
    "d[\"colification\"]=\" \"\n",
    "d"
   ]
  },
  {
   "cell_type": "markdown",
   "id": "7c353fb4",
   "metadata": {},
   "source": [
    "Python Program to Add a Key-Value Pair to the Dictionary"
   ]
  },
  {
   "cell_type": "code",
   "execution_count": 32,
   "id": "e23bd2a5",
   "metadata": {},
   "outputs": [
    {
     "data": {
      "text/plain": [
       "{'name': 'nafil', 'age': 21, 'place': 'thalassery', 'colification': 'BBA'}"
      ]
     },
     "execution_count": 32,
     "metadata": {},
     "output_type": "execute_result"
    }
   ],
   "source": [
    "d={\"name\":\"nafil\",\"age\":21,\"place\":\"thalassery\"}\n",
    "d[\"colification\"]=\"BBA\"\n",
    "d"
   ]
  },
  {
   "cell_type": "markdown",
   "id": "6bbd8ddc",
   "metadata": {},
   "source": [
    "Write a Python program to iteration over sets."
   ]
  },
  {
   "cell_type": "code",
   "execution_count": 35,
   "id": "4adaa568",
   "metadata": {},
   "outputs": [
    {
     "name": "stdout",
     "output_type": "stream",
     "text": [
      "1\n",
      "2\n",
      "3\n",
      "4\n",
      "5\n",
      "6\n",
      "7\n",
      "8\n",
      "9\n"
     ]
    }
   ],
   "source": [
    "a=[1,2,3,4,5,6,7,8,9]\n",
    "for i in a:\n",
    "    print(i)"
   ]
  },
  {
   "cell_type": "markdown",
   "id": "4c0ec815",
   "metadata": {},
   "source": [
    " Python Program to Multiply All the Items in a Dictionary"
   ]
  },
  {
   "cell_type": "code",
   "execution_count": 15,
   "id": "1a51ef41",
   "metadata": {},
   "outputs": [
    {
     "name": "stdout",
     "output_type": "stream",
     "text": [
      "60\n"
     ]
    }
   ],
   "source": [
    "a={1:2,2:3,3:10}\n",
    "y=1\n",
    "for i in a:\n",
    "    x=a[i]\n",
    "    y=y*x\n",
    "print(y)\n",
    "    "
   ]
  },
  {
   "cell_type": "markdown",
   "id": "1ca7fd65",
   "metadata": {},
   "source": [
    " Python Program to Remove the Given Key from a Dictionary"
   ]
  },
  {
   "cell_type": "code",
   "execution_count": 1,
   "id": "2fee0472",
   "metadata": {},
   "outputs": [
    {
     "data": {
      "text/plain": [
       "{2: 3, 3: 10}"
      ]
     },
     "execution_count": 1,
     "metadata": {},
     "output_type": "execute_result"
    }
   ],
   "source": [
    "a={1:2,2:3,3:10}\n",
    "del a[1]\n",
    "a"
   ]
  },
  {
   "cell_type": "markdown",
   "id": "06864743",
   "metadata": {},
   "source": [
    "Python Program to Sum All the Items in a Dictionary"
   ]
  },
  {
   "cell_type": "code",
   "execution_count": 19,
   "id": "33cb6d85",
   "metadata": {},
   "outputs": [
    {
     "name": "stdout",
     "output_type": "stream",
     "text": [
      "15\n"
     ]
    }
   ],
   "source": [
    "a={1:2,2:3,3:10}\n",
    "y=0\n",
    "for i in a:\n",
    "    x=a[i]\n",
    "    y=y+x\n",
    "print(y)\n",
    "    "
   ]
  },
  {
   "cell_type": "code",
   "execution_count": null,
   "id": "df0574c8",
   "metadata": {},
   "outputs": [],
   "source": []
  }
 ],
 "metadata": {
  "kernelspec": {
   "display_name": "Python 3 (ipykernel)",
   "language": "python",
   "name": "python3"
  },
  "language_info": {
   "codemirror_mode": {
    "name": "ipython",
    "version": 3
   },
   "file_extension": ".py",
   "mimetype": "text/x-python",
   "name": "python",
   "nbconvert_exporter": "python",
   "pygments_lexer": "ipython3",
   "version": "3.9.13"
  }
 },
 "nbformat": 4,
 "nbformat_minor": 5
}
