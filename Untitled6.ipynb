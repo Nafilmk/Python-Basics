{
 "cells": [
  {
   "cell_type": "code",
   "execution_count": 1,
   "id": "e2a44954",
   "metadata": {},
   "outputs": [
    {
     "data": {
      "text/plain": [
       "list[slice(None, None, -2)]"
      ]
     },
     "execution_count": 1,
     "metadata": {},
     "output_type": "execute_result"
    }
   ],
   "source": [
    "a=[0,1,3,4,5,6,7,8,9]\n",
    "list[::-2]"
   ]
  },
  {
   "cell_type": "code",
   "execution_count": null,
   "id": "81853750",
   "metadata": {},
   "outputs": [],
   "source": []
  }
 ],
 "metadata": {
  "kernelspec": {
   "display_name": "Python 3 (ipykernel)",
   "language": "python",
   "name": "python3"
  },
  "language_info": {
   "codemirror_mode": {
    "name": "ipython",
    "version": 3
   },
   "file_extension": ".py",
   "mimetype": "text/x-python",
   "name": "python",
   "nbconvert_exporter": "python",
   "pygments_lexer": "ipython3",
   "version": "3.9.13"
  }
 },
 "nbformat": 4,
 "nbformat_minor": 5
}
